{
 "cells": [
  {
   "cell_type": "markdown",
   "id": "2035b8d1",
   "metadata": {},
   "source": [
    "# 5章"
   ]
  },
  {
   "cell_type": "code",
   "execution_count": 30,
   "id": "db15bd0d",
   "metadata": {},
   "outputs": [
    {
     "data": {
      "text/plain": [
       "True"
      ]
     },
     "execution_count": 30,
     "metadata": {},
     "output_type": "execute_result"
    }
   ],
   "source": [
    "from dotenv import load_dotenv\n",
    "from pathlib import Path\n",
    "\n",
    "env_path = Path(\".\") / \".env\"\n",
    "load_dotenv(dotenv_path=env_path)  # 環境変数を読み込む\n"
   ]
  },
  {
   "cell_type": "markdown",
   "id": "ea76068e",
   "metadata": {},
   "source": [
    "## 5.1"
   ]
  },
  {
   "cell_type": "code",
   "execution_count": 2,
   "id": "7f065eb8",
   "metadata": {},
   "outputs": [],
   "source": [
    "from langchain_core.output_parsers import StrOutputParser\n",
    "from langchain_core.prompts import ChatPromptTemplate\n",
    "from langchain_openai import ChatOpenAI\n",
    "\n",
    "prompt = ChatPromptTemplate.from_messages(\n",
    "    [\n",
    "        (\"system\", \"ユーザーが入力した料理のレシピを考えてください。\"),\n",
    "        (\"human\", \"{dish}\"),\n",
    "    ]\n",
    ")\n",
    "\n",
    "model = ChatOpenAI(model=\"gpt-4o-mini\", temperature=0)\n",
    "\n",
    "output_parser = StrOutputParser()"
   ]
  },
  {
   "cell_type": "code",
   "execution_count": null,
   "id": "357acfd4",
   "metadata": {},
   "outputs": [
    {
     "name": "stdout",
     "output_type": "stream",
     "text": [
      "カレーのレシピをご紹介します。シンプルで美味しい基本のカレーを作りましょう。\n",
      "\n",
      "### 材料（4人分）\n",
      "- 鶏肉（もも肉または胸肉）: 400g\n",
      "- 玉ねぎ: 2個\n",
      "- にんじん: 1本\n",
      "- じゃがいも: 2個\n",
      "- カレールー: 1箱（約200g）\n",
      "- サラダ油: 大さじ2\n",
      "- 水: 800ml\n",
      "- 塩: 適量\n",
      "- 胡椒: 適量\n",
      "- お好みでガーリックパウダーや生姜: 適量\n",
      "\n",
      "### 作り方\n",
      "1. **材料の下ごしらえ**:\n",
      "   - 鶏肉は一口大に切り、塩と胡椒をふっておきます。\n",
      "   - 玉ねぎは薄切り、にんじんは輪切り、じゃがいもは一口大に切ります。\n",
      "\n",
      "2. **炒める**:\n",
      "   - 大きめの鍋にサラダ油を熱し、玉ねぎを中火で炒めます。玉ねぎが透明になるまで炒めます。\n",
      "   - 鶏肉を加え、表面が白くなるまで炒めます。\n",
      "\n",
      "3. **野菜を加える**:\n",
      "   - にんじんとじゃがいもを鍋に加え、全体をよく混ぜます。\n",
      "\n",
      "4. **煮る**:\n",
      "   - 水を加え、強火で煮立たせます。煮立ったら、アクを取り除き、中火にして蓋をし、約15分煮ます。\n",
      "\n",
      "5. **カレールーを加える**:\n",
      "   - カレールーを割り入れ、よく溶かします。さらに10分ほど煮込み、全体がなじんだら味を見て、必要に応じて塩や胡椒で調整します。\n",
      "\n",
      "6. **仕上げ**:\n",
      "   - お好みでガーリックパウダーや生姜を加えて風味をアップさせます。火を止めて、少し冷ますと味がなじみます。\n",
      "\n",
      "7. **盛り付け**:\n",
      "   - ご飯と一緒に盛り付けて、お好みで福神漬けやらっきょうを添えて完成です。\n",
      "\n",
      "### おすすめのトッピング\n",
      "- 煮卵\n",
      "- チーズ\n",
      "- パクチー\n",
      "\n",
      "この基本のカレーはアレンジがしやすいので、野菜や肉の種類を変えたり、スパイスを追加したりして、自分好みのカレーを楽しんでください！\n"
     ]
    }
   ],
   "source": [
    "prompt_value = prompt.invoke({\"dish\": \"カレー\"})\n",
    "ai_message = model.invoke(prompt_value)\n",
    "output = output_parser.invoke(ai_message)\n",
    "\n",
    "print(output)"
   ]
  },
  {
   "cell_type": "code",
   "execution_count": 6,
   "id": "310684c1",
   "metadata": {},
   "outputs": [
    {
     "name": "stdout",
     "output_type": "stream",
     "text": [
      "===Prompt Value===\n",
      "messages=[SystemMessage(content='ユーザーが入力した料理のレシピを考えてください。', additional_kwargs={}, response_metadata={}), HumanMessage(content='カレー', additional_kwargs={}, response_metadata={})]\n",
      "\n",
      "\n",
      "\n",
      "===AI Message===\n",
      "content='カレーのレシピをご紹介します。シンプルで美味しい基本のカレーを作りましょう。\\n\\n### 材料（4人分）\\n- 鶏肉（もも肉または胸肉）: 400g\\n- 玉ねぎ: 2個\\n- にんじん: 1本\\n- じゃがいも: 2個\\n- カレールー: 1箱（約200g）\\n- サラダ油: 大さじ2\\n- 水: 800ml\\n- 塩: 適量\\n- 胡椒: 適量\\n- お好みでガーリックパウダーや生姜: 適量\\n\\n### 作り方\\n1. **材料の下ごしらえ**:\\n   - 鶏肉は一口大に切り、塩と胡椒をふっておきます。\\n   - 玉ねぎは薄切り、にんじんは輪切り、じゃがいもは一口大に切ります。\\n\\n2. **炒める**:\\n   - 大きめの鍋にサラダ油を熱し、玉ねぎを中火で炒めます。玉ねぎが透明になるまで炒めます。\\n   - 鶏肉を加え、表面が白くなるまで炒めます。\\n\\n3. **野菜を加える**:\\n   - にんじんとじゃがいもを鍋に加え、全体をよく混ぜます。\\n\\n4. **煮る**:\\n   - 水を加え、強火で煮立たせます。煮立ったら、アクを取り除き、中火にして蓋をし、約15分煮ます。\\n\\n5. **カレールーを加える**:\\n   - カレールーを割り入れ、よく溶かします。さらに10分ほど煮込み、全体がなじんだら味を見て、必要に応じて塩や胡椒で調整します。\\n\\n6. **仕上げ**:\\n   - お好みでガーリックパウダーや生姜を加えて風味をアップさせます。火を止めて、少し冷ますと味がなじみます。\\n\\n7. **盛り付け**:\\n   - ご飯と一緒に盛り付けて、お好みで福神漬けやらっきょうを添えて完成です。\\n\\n### おすすめのトッピング\\n- 煮卵\\n- チーズ\\n- パクチー\\n\\nこの基本のカレーはアレンジがしやすいので、野菜や肉の種類を変えたり、スパイスを追加したりして、自分好みのカレーを楽しんでください！' additional_kwargs={'refusal': None} response_metadata={'token_usage': {'completion_tokens': 620, 'prompt_tokens': 28, 'total_tokens': 648, 'completion_tokens_details': {'accepted_prediction_tokens': 0, 'audio_tokens': 0, 'reasoning_tokens': 0, 'rejected_prediction_tokens': 0}, 'prompt_tokens_details': {'audio_tokens': 0, 'cached_tokens': 0}}, 'model_provider': 'openai', 'model_name': 'gpt-4o-mini-2024-07-18', 'system_fingerprint': 'fp_560af6e559', 'id': 'chatcmpl-CSD0M8J0zu9KcPfvGalcicFU5HCsW', 'service_tier': 'default', 'finish_reason': 'stop', 'logprobs': None} id='lc_run--b23d1eff-7f6c-4908-91ba-840ed7a7f0c4-0' usage_metadata={'input_tokens': 28, 'output_tokens': 620, 'total_tokens': 648, 'input_token_details': {'audio': 0, 'cache_read': 0}, 'output_token_details': {'audio': 0, 'reasoning': 0}}\n",
      "\n",
      "\n",
      "\n",
      "===Output===\n",
      "カレーのレシピをご紹介します。シンプルで美味しい基本のカレーを作りましょう。\n",
      "\n",
      "### 材料（4人分）\n",
      "- 鶏肉（もも肉または胸肉）: 400g\n",
      "- 玉ねぎ: 2個\n",
      "- にんじん: 1本\n",
      "- じゃがいも: 2個\n",
      "- カレールー: 1箱（約200g）\n",
      "- サラダ油: 大さじ2\n",
      "- 水: 800ml\n",
      "- 塩: 適量\n",
      "- 胡椒: 適量\n",
      "- お好みでガーリックパウダーや生姜: 適量\n",
      "\n",
      "### 作り方\n",
      "1. **材料の下ごしらえ**:\n",
      "   - 鶏肉は一口大に切り、塩と胡椒を振っておきます。\n",
      "   - 玉ねぎは薄切り、にんじんは輪切り、じゃがいもは一口大に切ります。\n",
      "\n",
      "2. **炒める**:\n",
      "   - 大きめの鍋にサラダ油を熱し、玉ねぎを中火で炒めます。玉ねぎが透明になるまで炒めます。\n",
      "   - 鶏肉を加え、表面が白くなるまで炒めます。\n",
      "\n",
      "3. **野菜を加える**:\n",
      "   - にんじんとじゃがいもを鍋に加え、全体をよく混ぜます。\n",
      "\n",
      "4. **煮る**:\n",
      "   - 水を加え、強火で煮立たせます。煮立ったら、アクを取り除き、中火にして蓋をし、約15分煮ます。\n",
      "\n",
      "5. **カレールーを加える**:\n",
      "   - 火を止めてカレールーを加え、よく溶かします。再び弱火にし、10分ほど煮込みます。お好みでガーリックパウダーや生姜を加えて風味を調整します。\n",
      "\n",
      "6. **味を調える**:\n",
      "   - 最後に塩で味を調整し、全体がなじんだら火を止めます。\n",
      "\n",
      "7. **盛り付け**:\n",
      "   - ご飯と一緒に盛り付けて、お好みで福神漬けやらっきょうを添えて完成です。\n",
      "\n",
      "### おすすめのトッピング\n",
      "- 煮卵\n",
      "- チーズ\n",
      "- ほうれん草のソテー\n",
      "\n",
      "この基本のカレーはアレンジがしやすいので、野菜や肉を変えて自分好みのカレーを楽しんでください！\n"
     ]
    }
   ],
   "source": [
    "print(\"===Prompt Value===\")\n",
    "print(prompt_value)\n",
    "print(\"\\n\\n\")\n",
    "print(\"===AI Message===\")\n",
    "print(ai_message)\n",
    "print(\"\\n\\n\")\n",
    "print(\"===Output===\")\n",
    "print(output)"
   ]
  },
  {
   "cell_type": "code",
   "execution_count": 4,
   "id": "10d64d8f",
   "metadata": {},
   "outputs": [],
   "source": [
    "chain = prompt | model | output_parser"
   ]
  },
  {
   "cell_type": "code",
   "execution_count": 5,
   "id": "c79f119a",
   "metadata": {},
   "outputs": [
    {
     "name": "stdout",
     "output_type": "stream",
     "text": [
      "カレーのレシピをご紹介します。シンプルで美味しい基本のカレーを作りましょう。\n",
      "\n",
      "### 材料（4人分）\n",
      "- 鶏肉（もも肉または胸肉）: 400g\n",
      "- 玉ねぎ: 2個\n",
      "- にんじん: 1本\n",
      "- じゃがいも: 2個\n",
      "- カレールー: 1箱（約200g）\n",
      "- サラダ油: 大さじ2\n",
      "- 水: 800ml\n",
      "- 塩: 適量\n",
      "- 胡椒: 適量\n",
      "- お好みでガーリックパウダーや生姜: 適量\n",
      "\n",
      "### 作り方\n",
      "1. **材料の下ごしらえ**:\n",
      "   - 鶏肉は一口大に切り、塩と胡椒を振っておきます。\n",
      "   - 玉ねぎは薄切り、にんじんは輪切り、じゃがいもは一口大に切ります。\n",
      "\n",
      "2. **炒める**:\n",
      "   - 大きめの鍋にサラダ油を熱し、玉ねぎを中火で炒めます。玉ねぎが透明になるまで炒めます。\n",
      "   - 鶏肉を加え、表面が白くなるまで炒めます。\n",
      "\n",
      "3. **野菜を加える**:\n",
      "   - にんじんとじゃがいもを鍋に加え、全体をよく混ぜます。\n",
      "\n",
      "4. **煮る**:\n",
      "   - 水を加え、強火で煮立たせます。煮立ったら、アクを取り除き、中火にして蓋をし、約15分煮ます。\n",
      "\n",
      "5. **カレールーを加える**:\n",
      "   - 火を止めてカレールーを加え、よく溶かします。再び弱火にし、10分ほど煮込みます。お好みでガーリックパウダーや生姜を加えて風味を調整します。\n",
      "\n",
      "6. **味を調える**:\n",
      "   - 最後に塩で味を調整し、全体がなじんだら火を止めます。\n",
      "\n",
      "7. **盛り付け**:\n",
      "   - ご飯と一緒に盛り付けて、お好みで福神漬けやらっきょうを添えて完成です。\n",
      "\n",
      "### おすすめのトッピング\n",
      "- 煮卵\n",
      "- チーズ\n",
      "- ほうれん草のソテー\n",
      "\n",
      "この基本のカレーはアレンジがしやすいので、野菜や肉を変えて自分好みのカレーを楽しんでください！\n"
     ]
    }
   ],
   "source": [
    "output = chain.invoke({\"dish\": \"カレー\"})\n",
    "print(output)"
   ]
  },
  {
   "cell_type": "code",
   "execution_count": 7,
   "id": "77395215",
   "metadata": {},
   "outputs": [
    {
     "name": "stdout",
     "output_type": "stream",
     "text": [
      "カレーのレシピをご紹介します。シンプルで美味しい基本のカレーを作りましょう。\n",
      "\n",
      "### 材料（4人分）\n",
      "- 鶏肉（もも肉または胸肉）: 400g\n",
      "- 玉ねぎ: 2個\n",
      "- にんじん: 1本\n",
      "- じゃがいも: 2個\n",
      "- カレールー: 1箱（約200g）\n",
      "- サラダ油: 大さじ2\n",
      "- 水: 800ml\n",
      "- 塩: 適量\n",
      "- 胡椒: 適量\n",
      "- お好みでガーリックパウダーや生姜: 適量\n",
      "\n",
      "### 作り方\n",
      "1. **材料の下ごしらえ**:\n",
      "   - 鶏肉は一口大に切り、塩と胡椒を振っておきます。\n",
      "   - 玉ねぎは薄切り、にんじんは輪切り、じゃがいもは一口大に切ります。\n",
      "\n",
      "2. **炒める**:\n",
      "   - 大きめの鍋にサラダ油を熱し、玉ねぎを中火で炒めます。玉ねぎが透明になるまで炒めます。\n",
      "   - 鶏肉を加え、表面が白くなるまで炒めます。\n",
      "\n",
      "3. **野菜を加える**:\n",
      "   - にんじんとじゃがいもを鍋に加え、全体をよく混ぜます。\n",
      "\n",
      "4. **煮る**:\n",
      "   - 水を加え、強火で煮立たせます。煮立ったら、アクを取り除き、中火にして蓋をし、約15分煮ます。\n",
      "\n",
      "5. **カレールーを加える**:\n",
      "   - カレールーを割り入れ、よく溶かします。さらに10分ほど煮込み、全体がなじんだら火を止めます。\n",
      "\n",
      "6. **味を調える**:\n",
      "   - お好みで塩や胡椒で味を調整します。\n",
      "\n",
      "7. **盛り付け**:\n",
      "   - ご飯と一緒に盛り付けて、お好みで福神漬けやらっきょうを添えて完成です。\n",
      "\n",
      "### おすすめのトッピング\n",
      "- 煮卵\n",
      "- チーズ\n",
      "- ほうれん草のソテー\n",
      "\n",
      "この基本のカレーは、具材を変えたり、スパイスを追加したりすることでアレンジが可能です。お好みのスタイルで楽しんでください！"
     ]
    }
   ],
   "source": [
    "chain = prompt | model | output_parser\n",
    "\n",
    "for chunk in chain.stream({\"dish\": \"カレー\"}):\n",
    "    print(chunk, end=\"\", flush=True)\n"
   ]
  },
  {
   "cell_type": "code",
   "execution_count": 8,
   "id": "8c773893",
   "metadata": {},
   "outputs": [
    {
     "name": "stdout",
     "output_type": "stream",
     "text": [
      "['カレーのレシピをご紹介します。シンプルで美味しい基本のカレーを作りましょう。\\n\\n### 材料（4人分）\\n- 鶏肉（もも肉または胸肉）: 400g\\n- 玉ねぎ: 2個\\n- にんじん: 1本\\n- じゃがいも: 2個\\n- カレールー: 1箱（約200g）\\n- サラダ油: 大さじ2\\n- 水: 800ml\\n- 塩: 適量\\n- 胡椒: 適量\\n- お好みでガーリックパウダーや生姜: 適量\\n\\n### 作り方\\n1. **材料の下ごしらえ**:\\n   - 鶏肉は一口大に切り、塩と胡椒をふっておきます。\\n   - 玉ねぎは薄切り、にんじんは輪切り、じゃがいもは一口大に切ります。\\n\\n2. **炒める**:\\n   - 大きめの鍋にサラダ油を熱し、玉ねぎを中火で炒めます。玉ねぎが透明になるまで炒めます。\\n   - 鶏肉を加え、表面が白くなるまで炒めます。\\n\\n3. **野菜を加える**:\\n   - にんじんとじゃがいもを鍋に加え、全体をよく混ぜます。\\n\\n4. **煮る**:\\n   - 水を加え、強火で煮立たせます。煮立ったら、アクを取り除き、中火にして蓋をし、約15分煮ます。\\n\\n5. **カレールーを加える**:\\n   - カレールーを割り入れ、よく溶かします。さらに10分ほど煮込み、全体がなじんだら火を止めます。\\n\\n6. **味を調える**:\\n   - お好みで塩や胡椒で味を調整します。\\n\\n7. **盛り付け**:\\n   - ご飯と一緒に盛り付けて、お好みで福神漬けやらっきょうを添えて完成です。\\n\\n### おすすめのトッピング\\n- 煮卵\\n- チーズ\\n- ほうれん草のソテー\\n\\nこの基本のカレーは、具材を変えたり、スパイスを追加したりすることでアレンジが可能です。お好みのスタイルで楽しんでください！', 'うどんのレシピをご紹介します。シンプルで美味しい「かけうどん」の作り方です。\\n\\n### 材料（2人分）\\n- うどん（乾麺または生麺）: 2玉\\n- 水: 800ml\\n- だしの素: 大さじ1（または、昆布や鰹節を使って自家製だしを取る）\\n- 醤油: 大さじ2\\n- みりん: 大さじ1\\n- 塩: 少々\\n- トッピング（お好みで）:\\n  - ネギ（小口切り）\\n  - 天かす\\n  - かまぼこ\\n  - ほうれん草やわかめ\\n  - 生卵\\n\\n### 作り方\\n1. **だしを取る**: 鍋に水を入れ、だしの素を加えて中火にかけます。自家製だしを使う場合は、昆布を水に浸けておき、沸騰直前に昆布を取り出し、鰹節を加えて数分煮出し、こします。\\n\\n2. **つゆを作る**: だしが取れたら、醤油、みりん、塩を加えて味を調えます。軽く煮立たせて、つゆの完成です。\\n\\n3. **うどんを茹でる**: 別の鍋にたっぷりの水を沸かし、うどんをパッケージの指示に従って茹でます。茹で上がったら、冷水でしっかりと洗い、ぬめりを取ります。\\n\\n4. **盛り付け**: 茹でたうどんを器に盛り、熱々のつゆをかけます。\\n\\n5. **トッピング**: お好みのトッピングを加えます。ネギや天かす、かまぼこ、ほうれん草などをのせて、最後に生卵を落としても美味しいです。\\n\\n6. **完成**: すぐに召し上がれ！温かいうどんを楽しんでください。\\n\\n### アレンジ\\n- 冷やしうどんにする場合は、茹でたうどんを冷水でしっかり冷やし、つゆを冷やしてからかけてください。\\n- 具材を追加して、具だくさんのうどんにするのもおすすめです。鶏肉や野菜を煮込んで、ボリュームを出すことができます。\\n\\nぜひお試しください！']\n"
     ]
    }
   ],
   "source": [
    "chain = prompt | model | output_parser\n",
    "\n",
    "outputs = chain.batch([{\"dish\": \"カレー\"}, {\"dish\": \"うどん\"}])\n",
    "print(outputs)"
   ]
  },
  {
   "cell_type": "code",
   "execution_count": 15,
   "id": "03933f7e",
   "metadata": {},
   "outputs": [
    {
     "name": "stdout",
     "output_type": "stream",
     "text": [
      "<class 'list'>\n",
      "2\n",
      "<class 'str'>\n",
      "カレーのレシピをご紹介します。シンプルで美味しい基本のカレーを作りましょう。\n",
      "\n",
      "### 材料（4人分）\n",
      "- 鶏肉（もも肉または胸肉）: 400g\n",
      "- 玉ねぎ: 2個\n",
      "- にんじん: 1本\n",
      "- じゃがいも: 2個\n",
      "- カレールー: 1箱（約200g）\n",
      "- サラダ油: 大さじ2\n",
      "- 水: 800ml\n",
      "- 塩: 適量\n",
      "- 胡椒: 適量\n",
      "- お好みでガーリックパウダーや生姜: 適量\n",
      "\n",
      "### 作り方\n",
      "1. **材料の下ごしらえ**:\n",
      "   - 鶏肉は一口大に切り、塩と胡椒をふっておきます。\n",
      "   - 玉ねぎは薄切り、にんじんは輪切り、じゃがいもは一口大に切ります。\n",
      "\n",
      "2. **炒める**:\n",
      "   - 大きめの鍋にサラダ油を熱し、玉ねぎを中火で炒めます。玉ねぎが透明になるまで炒めます。\n",
      "   - 鶏肉を加え、表面が白くなるまで炒めます。\n",
      "\n",
      "3. **野菜を加える**:\n",
      "   - にんじんとじゃがいもを鍋に加え、全体をよく混ぜます。\n",
      "\n",
      "4. **煮る**:\n",
      "   - 水を加え、強火で煮立たせます。煮立ったら、アクを取り除き、中火にして蓋をし、約15分煮ます。\n",
      "\n",
      "5. **カレールーを加える**:\n",
      "   - カレールーを割り入れ、よく溶かします。さらに10分ほど煮込み、全体がなじんだら火を止めます。\n",
      "\n",
      "6. **味を調える**:\n",
      "   - お好みで塩や胡椒で味を調整します。\n",
      "\n",
      "7. **盛り付け**:\n",
      "   - ご飯と一緒に盛り付けて、お好みで福神漬けやらっきょうを添えて完成です。\n",
      "\n",
      "### おすすめのトッピング\n",
      "- 煮卵\n",
      "- チーズ\n",
      "- ほうれん草のソテー\n",
      "\n",
      "この基本のカレーは、具材を変えたり、スパイスを追加したりすることでアレンジが可能です。お好みのスタイルで楽しんでください！\n",
      "\n",
      "\n",
      "---\n",
      "\n",
      "\n",
      "うどんのレシピをご紹介します。シンプルで美味しい「かけうどん」の作り方です。\n",
      "\n",
      "### 材料（2人分）\n",
      "- うどん（乾麺または生麺）: 2玉\n",
      "- 水: 800ml\n",
      "- だしの素: 大さじ1（または、昆布や鰹節を使って自家製だしを取る）\n",
      "- 醤油: 大さじ2\n",
      "- みりん: 大さじ1\n",
      "- 塩: 少々\n",
      "- トッピング（お好みで）:\n",
      "  - ネギ（小口切り）\n",
      "  - 天かす\n",
      "  - かまぼこ\n",
      "  - ほうれん草やわかめ\n",
      "  - 生卵\n",
      "\n",
      "### 作り方\n",
      "1. **だしを取る**: 鍋に水を入れ、だしの素を加えて中火にかけます。自家製だしを使う場合は、昆布を水に浸けておき、沸騰直前に昆布を取り出し、鰹節を加えて数分煮出し、こします。\n",
      "\n",
      "2. **つゆを作る**: だしが取れたら、醤油、みりん、塩を加えて味を調えます。軽く煮立たせて、つゆの完成です。\n",
      "\n",
      "3. **うどんを茹でる**: 別の鍋にたっぷりの水を沸かし、うどんをパッケージの指示に従って茹でます。茹で上がったら、冷水でしっかりと洗い、ぬめりを取ります。\n",
      "\n",
      "4. **盛り付け**: 茹でたうどんを器に盛り、熱々のつゆをかけます。\n",
      "\n",
      "5. **トッピング**: お好みのトッピングを加えます。ネギや天かす、かまぼこ、ほうれん草などをのせて、最後に生卵を落としても美味しいです。\n",
      "\n",
      "6. **完成**: すぐに召し上がれ！温かいうどんを楽しんでください。\n",
      "\n",
      "### アレンジ\n",
      "- 冷やしうどんにする場合は、茹でたうどんを冷水でしっかり冷やし、つゆを冷やしてからかけてください。\n",
      "- 具材を追加して、具だくさんのうどんにするのもおすすめです。鶏肉や野菜を煮込んで、ボリュームを出すことができます。\n",
      "\n",
      "ぜひお試しください！\n"
     ]
    }
   ],
   "source": [
    "from pprint import pprint\n",
    "\n",
    "print(type(outputs))\n",
    "print(len(outputs))\n",
    "print(type(outputs[0]))\n",
    "print(\"\\n\\n\\n---\\n\\n\\n\".join(outputs))"
   ]
  },
  {
   "cell_type": "code",
   "execution_count": 16,
   "id": "774b3f4b",
   "metadata": {},
   "outputs": [],
   "source": [
    "from langchain_core.output_parsers import StrOutputParser\n",
    "from langchain_core.prompts import ChatPromptTemplate\n",
    "from langchain_openai import ChatOpenAI\n",
    "\n",
    "model = ChatOpenAI(model=\"gpt-4o-mini\", temperature=0)\n",
    "\n",
    "output_parser = StrOutputParser()\n",
    "\n",
    "cot_prompt = ChatPromptTemplate.from_messages(\n",
    "    [\n",
    "        (\"system\", \"ユーザーの質問にステップバイステップで回答してください。\"),\n",
    "        (\"human\", \"{question}\"),\n",
    "    ]\n",
    ")\n",
    "\n",
    "cot_chain = cot_prompt | model | output_parser"
   ]
  },
  {
   "cell_type": "code",
   "execution_count": 17,
   "id": "1f967d16",
   "metadata": {},
   "outputs": [],
   "source": [
    "summarize_prompt = ChatPromptTemplate.from_messages(\n",
    "    [\n",
    "        (\"system\", \"ステップバイステップで考えた回答から結論だけ抽出してください。\"),\n",
    "        (\"human\", \"{text}\"),\n",
    "    ]\n",
    ")\n",
    "\n",
    "summarize_chain = summarize_prompt | model | output_parser\n"
   ]
  },
  {
   "cell_type": "code",
   "execution_count": 18,
   "id": "a0bd25c3",
   "metadata": {},
   "outputs": [
    {
     "name": "stdout",
     "output_type": "stream",
     "text": [
      "10 + 2 * 3 の答えは **16** です。\n"
     ]
    }
   ],
   "source": [
    "cot_summarize_chain = cot_chain | summarize_chain\n",
    "output = cot_summarize_chain.invoke({\"question\": \"10 + 2 * 3\"})\n",
    "print(output)\n"
   ]
  },
  {
   "cell_type": "markdown",
   "id": "f9db00c8",
   "metadata": {},
   "source": [
    "## 5.2"
   ]
  },
  {
   "cell_type": "code",
   "execution_count": 19,
   "id": "5fe46c9d",
   "metadata": {},
   "outputs": [],
   "source": [
    "from langchain_core.output_parsers import StrOutputParser\n",
    "from langchain_core.prompts import ChatPromptTemplate\n",
    "from langchain_openai import ChatOpenAI\n",
    "\n",
    "prompt = ChatPromptTemplate.from_messages(\n",
    "    [\n",
    "        (\"system\", \"You are a helpful assistant.\"),\n",
    "        (\"human\", \"{input}\"),\n",
    "    ]\n",
    ")\n",
    "\n",
    "model = ChatOpenAI(model=\"gpt-4o-mini\", temperature=0)\n",
    "\n",
    "output_parser = StrOutputParser()\n"
   ]
  },
  {
   "cell_type": "code",
   "execution_count": 20,
   "id": "58654b56",
   "metadata": {},
   "outputs": [
    {
     "name": "stdout",
     "output_type": "stream",
     "text": [
      "HELLO! HOW CAN I ASSIST YOU TODAY?\n"
     ]
    }
   ],
   "source": [
    "from langchain_core.runnables import RunnableLambda\n",
    "\n",
    "\n",
    "def upper(text: str) -> str:\n",
    "    return text.upper()\n",
    "\n",
    "\n",
    "chain = prompt | model | output_parser | RunnableLambda(upper)\n",
    "\n",
    "ai_message = chain.invoke({\"input\": \"Hello!\"})\n",
    "print(ai_message)\n"
   ]
  },
  {
   "cell_type": "code",
   "execution_count": 21,
   "id": "f86cdce2",
   "metadata": {},
   "outputs": [
    {
     "name": "stdout",
     "output_type": "stream",
     "text": [
      "HELLO! HOW CAN I ASSIST YOU TODAY?\n"
     ]
    }
   ],
   "source": [
    "from langchain_core.runnables import chain\n",
    "\n",
    "\n",
    "@chain\n",
    "def upper(text: str) -> str:\n",
    "    return text.upper()\n",
    "\n",
    "\n",
    "chain = prompt | model | output_parser | upper\n",
    "\n",
    "ai_message = chain.invoke({\"input\": \"Hello!\"})\n",
    "print(ai_message)\n"
   ]
  },
  {
   "cell_type": "code",
   "execution_count": 22,
   "id": "2d88b3b7",
   "metadata": {},
   "outputs": [
    {
     "name": "stdout",
     "output_type": "stream",
     "text": [
      "HELLO! HOW CAN I ASSIST YOU TODAY?\n"
     ]
    }
   ],
   "source": [
    "def upper(text: str) -> str:\n",
    "    return text.upper()\n",
    "\n",
    "\n",
    "chain = prompt | model | output_parser | upper\n",
    "\n",
    "ai_message = chain.invoke({\"input\": \"Hello!\"})\n",
    "print(ai_message)"
   ]
  },
  {
   "cell_type": "markdown",
   "id": "8bcda285",
   "metadata": {},
   "source": [
    "## 5.3"
   ]
  },
  {
   "cell_type": "code",
   "execution_count": 23,
   "id": "f15b1522",
   "metadata": {},
   "outputs": [],
   "source": [
    "from langchain_core.output_parsers import StrOutputParser\n",
    "from langchain_core.prompts import ChatPromptTemplate\n",
    "from langchain_openai import ChatOpenAI\n",
    "\n",
    "model = ChatOpenAI(model=\"gpt-4o-mini\", temperature=0)\n",
    "output_parser = StrOutputParser()\n"
   ]
  },
  {
   "cell_type": "code",
   "execution_count": 24,
   "id": "5e66dc2f",
   "metadata": {},
   "outputs": [],
   "source": [
    "optimistic_prompt = ChatPromptTemplate.from_messages(\n",
    "    [\n",
    "        (\n",
    "            \"system\",\n",
    "            \"あなたは楽観主義者です。ユーザーの入力に対して楽観的な意見をください。\",\n",
    "        ),\n",
    "        (\"human\", \"{topic}\"),\n",
    "    ]\n",
    ")\n",
    "optimistic_chain = optimistic_prompt | model | output_parser\n"
   ]
  },
  {
   "cell_type": "code",
   "execution_count": 25,
   "id": "ae5a4c59",
   "metadata": {},
   "outputs": [],
   "source": [
    "pessimistic_prompt = ChatPromptTemplate.from_messages(\n",
    "    [\n",
    "        (\n",
    "            \"system\",\n",
    "            \"あなたは悲観主義者です。ユーザーの入力に対して悲観的な意見をください。\",\n",
    "        ),\n",
    "        (\"human\", \"{topic}\"),\n",
    "    ]\n",
    ")\n",
    "pessimistic_chain = pessimistic_prompt | model | output_parser\n"
   ]
  },
  {
   "cell_type": "code",
   "execution_count": 26,
   "id": "e04ee985",
   "metadata": {},
   "outputs": [
    {
     "name": "stdout",
     "output_type": "stream",
     "text": [
      "{'optimistic_opinion': '生成AIの進化は本当に素晴らしいですね！技術が進むことで、私たちの生活がより便利で豊かになる可能性が広がっています。クリエイティブな作業や問題解決の手助けをしてくれるAIが増えてきて、私たちのアイデアを実現するためのパートナーとして活躍しています。\\n'\n",
      "                       '\\n'\n",
      "                       'また、生成AIは教育や医療、エンターテインメントなど、さまざまな分野での革新を促進しています。これにより、より多くの人々が新しい知識や体験にアクセスできるようになり、社会全体が進化していくのを見られるのはとてもワクワクしますね！未来には、AIと人間が協力して、今までにない素晴らしい成果を生み出すことができるでしょう。',\n",
      " 'pessimistic_opinion': '生成AIの進化は確かに目覚ましいものがありますが、その一方で多くの懸念も伴います。技術が進化することで、私たちの仕事が奪われたり、情報の信頼性が低下したりするリスクが高まっています。さらに、AIが生成するコンテンツが人間の創造性を脅かし、私たちの思考や感情に悪影響を及ぼす可能性もあります。結局のところ、便利さの裏には常に不安や恐れが潜んでいるのです。'}\n"
     ]
    }
   ],
   "source": [
    "import pprint\n",
    "from langchain_core.runnables import RunnableParallel\n",
    "\n",
    "parallel_chain = RunnableParallel(\n",
    "    {\n",
    "        \"optimistic_opinion\": optimistic_chain,\n",
    "        \"pessimistic_opinion\": pessimistic_chain,\n",
    "    }\n",
    ")\n",
    "\n",
    "output = parallel_chain.invoke({\"topic\": \"生成AIの進化について\"})\n",
    "pprint.pprint(output)\n"
   ]
  },
  {
   "cell_type": "code",
   "execution_count": 27,
   "id": "1282643d",
   "metadata": {},
   "outputs": [
    {
     "name": "stdout",
     "output_type": "stream",
     "text": [
      "生成AIの進化については、楽観的な意見と悲観的な意見が存在します。楽観的な見方では、生成AIの技術が進化することで、私たちの生活が便利で豊かになり、クリエイティブな作業や問題解決の支援を通じて、AIが私たちのアイデアを実現するパートナーとして機能することが期待されています。また、教育や医療、エンターテインメントなどの分野での革新が進むことで、より多くの人々が新しい知識や体験にアクセスでき、社会全体が進化する可能性があるとされています。\n",
      "\n",
      "一方で、悲観的な見方では、生成AIの進化には多くの懸念が伴います。技術の進化が仕事の喪失や情報の信頼性の低下を引き起こすリスクがあり、AIが生成するコンテンツの氾濫によって真実と虚偽の区別が難しくなる可能性があります。このような状況は、社会全体の混乱を招く恐れがあり、進化する技術が私たちの存在意義や価値を脅かす要因にもなり得ると指摘されています。\n",
      "\n",
      "総じて、生成AIの進化は便利さと革新をもたらす一方で、リスクや懸念も伴うため、バランスを考えたアプローチが求められています。\n"
     ]
    }
   ],
   "source": [
    "# 意見の統合\n",
    "\n",
    "synthesize_prompt = ChatPromptTemplate.from_messages(\n",
    "    [\n",
    "        (\"system\", \"あなたは客観的AIです。2つの意見をまとめてください。\"),\n",
    "        (\n",
    "            \"human\",\n",
    "            \"楽観的意見: {optimistic_opinion}\\n悲観的意見: {pessimistic_opinion}\",\n",
    "        ),\n",
    "    ]\n",
    ")\n",
    "synthesize_chain = (\n",
    "    RunnableParallel(\n",
    "        {\n",
    "            \"optimistic_opinion\": optimistic_chain,\n",
    "            \"pessimistic_opinion\": pessimistic_chain,\n",
    "        }\n",
    "    )\n",
    "    | synthesize_prompt\n",
    "    | model\n",
    "    | output_parser\n",
    ")\n",
    "\n",
    "output = synthesize_chain.invoke({\"topic\": \"生成AIの進化について\"})\n",
    "print(output)"
   ]
  },
  {
   "cell_type": "code",
   "execution_count": 28,
   "id": "305c41a4",
   "metadata": {},
   "outputs": [
    {
     "name": "stdout",
     "output_type": "stream",
     "text": [
      "生成AIの進化について\n"
     ]
    }
   ],
   "source": [
    "from operator import itemgetter\n",
    "\n",
    "\n",
    "topic_getter = itemgetter(\"topic\")\n",
    "topic = topic_getter({\"topic\": \"生成AIの進化について\"})\n",
    "print(topic)\n"
   ]
  },
  {
   "cell_type": "code",
   "execution_count": null,
   "id": "84da880e",
   "metadata": {},
   "outputs": [
    {
     "name": "stdout",
     "output_type": "stream",
     "text": [
      "**楽観的意見:** 生成AIの進化は、私たちの生活をより便利で豊かにする可能性を秘めています。技術の進歩により、クリエイティブな作業や問題解決の支援が行われ、私たちのアイデアを実現する手助けをしてくれるAIが増加しています。今後も新しい発見や革新が続くことで、未来は明るく、ワクワクするような可能性が広がっていると期待されています。\n",
      "\n",
      "**悲観的意見:** 一方で、生成AIの進化には多くの懸念も伴います。技術の進化が進むことで、仕事の喪失や情報の信頼性の低下といったリスクが高まります。また、AIが生成するコンテンツが人間の創造性を脅かし、思考や感情に悪影響を及ぼす可能性もあります。便利さの裏には常に不安や危険が潜んでいるため、慎重な対応が求められます。\n"
     ]
    }
   ],
   "source": [
    "synthesize_prompt = ChatPromptTemplate.from_messages(\n",
    "    [\n",
    "        (\n",
    "            \"system\",\n",
    "            \"あなたは客観的AIです。{topic}について2つの意見をまとめてください。\",\n",
    "        ),\n",
    "        (\n",
    "            \"human\",\n",
    "            \"楽観的意見: {optimistic_opinion}\\n悲観的意見: {pessimistic_opinion}\",\n",
    "        ),\n",
    "    ]\n",
    ")\n",
    "\n",
    "synthesize_chain = (\n",
    "    {\n",
    "        \"optimistic_opinion\": optimistic_chain,\n",
    "        \"pessimistic_opinion\": pessimistic_chain,\n",
    "        \"topic\": itemgetter(\"topic\"),  # \"生成AIの進化について\"\n",
    "    }\n",
    "    | synthesize_prompt\n",
    "    | model\n",
    "    | output_parser\n",
    ")\n",
    "\n",
    "output = synthesize_chain.invoke({\"topic\": \"生成AIの進化について\"})\n",
    "print(output)\n"
   ]
  },
  {
   "cell_type": "markdown",
   "id": "4a487f17",
   "metadata": {},
   "source": [
    "## 5.4"
   ]
  },
  {
   "cell_type": "code",
   "execution_count": 31,
   "id": "bbd2f033",
   "metadata": {},
   "outputs": [],
   "source": [
    "from langchain_core.prompts import ChatPromptTemplate\n",
    "from langchain_openai import ChatOpenAI\n",
    "\n",
    "prompt = ChatPromptTemplate.from_template('''\\\n",
    "以下の文脈だけを踏まえて質問に回答してください。\n",
    "\n",
    "文脈: \"\"\"\n",
    "{context}\n",
    "\"\"\"\n",
    "\n",
    "質問: {question}\n",
    "''')\n",
    "\n",
    "model = ChatOpenAI(model_name=\"gpt-4o-mini\", temperature=0)\n"
   ]
  },
  {
   "cell_type": "code",
   "execution_count": 32,
   "id": "6f89a14a",
   "metadata": {},
   "outputs": [],
   "source": [
    "from langchain_community.retrievers import TavilySearchAPIRetriever\n",
    "\n",
    "retriever = TavilySearchAPIRetriever(k=3)\n"
   ]
  },
  {
   "cell_type": "code",
   "execution_count": 35,
   "id": "29ef2f4f",
   "metadata": {},
   "outputs": [
    {
     "name": "stdout",
     "output_type": "stream",
     "text": [
      "東京の今日の天気は「晴時々曇」で、最高気温は37℃です。\n"
     ]
    }
   ],
   "source": [
    "from langchain_core.runnables import RunnablePassthrough\n",
    "\n",
    "chain = (\n",
    "    {\"context\": retriever, \"question\": RunnablePassthrough()}\n",
    "    | prompt\n",
    "    | model\n",
    "    | StrOutputParser()\n",
    ")\n",
    "\n",
    "output = chain.invoke(\"東京の今日の天気は？\")\n",
    "print(output)\n"
   ]
  },
  {
   "cell_type": "markdown",
   "id": "f228485f",
   "metadata": {},
   "source": [
    "assign"
   ]
  },
  {
   "cell_type": "code",
   "execution_count": 36,
   "id": "48574977",
   "metadata": {},
   "outputs": [
    {
     "name": "stdout",
     "output_type": "stream",
     "text": [
      "{'answer': '東京の今日の天気は「晴時々曇」で、最高気温は37℃です。',\n",
      " 'context': [Document(metadata={'title': '東京都 東京の天気 - 毎日新聞', 'source': 'https://mainichi.jp/weather/forecast/city/city_03_01_01.html', 'score': 0.8737439, 'images': []}, page_content='* 全国の天気 * 週間天気予報 * アメダス実況 * 降水短時間予報 * 衛星雲画像 * 天気図 * 洗濯情報 * 台風 * 地震 * 警報・注意報 * 世界の天気 * 花粉情報 # 東京都\\xa0東京の天気 8月24日5時発表 ## 今日の天気\\xa0-\\xa08月24日(日) | 晴時々曇 | 最高気温\\xa0[前日差]  37℃\\xa0[\\xa0+1\\xa0] | 最低気温  - | | 時間帯 | 00-06時 | 06-12時 | 12-18時 | 18-24時 | ## 明日の天気\\xa0-\\xa08月25日(月) | 曇時々晴 | 最高気温  35℃ | 最低気温  27℃ | |  | 26日(火) | 27日(水) | 28日(木) | 29日(金) | 30日(土) | | 天気 | 曇時々晴 | 曇一時雨 | 曇 | 曇時々晴 | 曇時々晴 | | 最高気温 | 34℃ | 35℃ | 33℃ | 33℃ | 34℃ | | 最低気温 | 26℃ | 26℃ | 26℃ | 25℃ | 25℃ |'),\n",
      "             Document(metadata={'title': '今日・明日と14日間(2週間)の1時間ごとの天気予報 - Toshin.com - 東進', 'source': 'https://www.toshin.com/weather/detail?id=66124', 'score': 0.86024034, 'images': []}, page_content='リロードすると1時間ごとに更新されます。 所在地：東京都千代田区東京メトロ丸ノ内線. 今日の東京の天気は雨のち曇で、最高気温は24℃です'),\n",
      "             Document(metadata={'title': '東京の天気予報 - ウェザーニュース', 'source': 'https://weathernews.jp/onebox/tenki/tokyo/', 'score': 0.8003337, 'images': []}, page_content='今日は日差しのチャンスがあっても雲が多く、雨の降る可能性があります。一時的に強まることも。お出かけには雨具が必要です。朝晩は肌寒くても、昼間は過ごしやすい')],\n",
      " 'question': '東京の今日の天気は？'}\n"
     ]
    }
   ],
   "source": [
    "import pprint\n",
    "\n",
    "chain = {\n",
    "    \"question\": RunnablePassthrough(),\n",
    "    \"context\": retriever,\n",
    "} | RunnablePassthrough.assign(answer=prompt | model | StrOutputParser())\n",
    "\n",
    "output = chain.invoke(\"東京の今日の天気は？\")\n",
    "pprint.pprint(output)\n"
   ]
  },
  {
   "cell_type": "code",
   "execution_count": null,
   "id": "786b26b5",
   "metadata": {},
   "outputs": [
    {
     "name": "stdout",
     "output_type": "stream",
     "text": [
      "{'context': [Document(metadata={'title': '東京都 東京の天気 - 毎日新聞', 'source': 'https://mainichi.jp/weather/forecast/city/city_03_01_01.html', 'score': 0.8737439, 'images': []}, page_content='* 全国の天気 * 週間天気予報 * アメダス実況 * 降水短時間予報 * 衛星雲画像 * 天気図 * 洗濯情報 * 台風 * 地震 * 警報・注意報 * 世界の天気 * 花粉情報 # 東京都\\xa0東京の天気 8月24日5時発表 ## 今日の天気\\xa0-\\xa08月24日(日) | 晴時々曇 | 最高気温\\xa0[前日差]  37℃\\xa0[\\xa0+1\\xa0] | 最低気温  - | | 時間帯 | 00-06時 | 06-12時 | 12-18時 | 18-24時 | ## 明日の天気\\xa0-\\xa08月25日(月) | 曇時々晴 | 最高気温  35℃ | 最低気温  27℃ | |  | 26日(火) | 27日(水) | 28日(木) | 29日(金) | 30日(土) | | 天気 | 曇時々晴 | 曇一時雨 | 曇 | 曇時々晴 | 曇時々晴 | | 最高気温 | 34℃ | 35℃ | 33℃ | 33℃ | 34℃ | | 最低気温 | 26℃ | 26℃ | 26℃ | 25℃ | 25℃ |'),\n",
      "             Document(metadata={'title': '今日・明日と14日間(2週間)の1時間ごとの天気予報 - Toshin.com - 東進', 'source': 'https://www.toshin.com/weather/detail?id=66124', 'score': 0.86024034, 'images': []}, page_content='リロードすると1時間ごとに更新されます。 所在地：東京都千代田区東京メトロ丸ノ内線. 今日の東京の天気は雨のち曇で、最高気温は24℃です'),\n",
      "             Document(metadata={'title': '東京の天気予報 - ウェザーニュース', 'source': 'https://weathernews.jp/onebox/tenki/tokyo/', 'score': 0.8003337, 'images': []}, page_content='今日は日差しのチャンスがあっても雲が多く、雨の降る可能性があります。一時的に強まることも。お出かけには雨具が必要です。朝晩は肌寒くても、昼間は過ごしやすい')],\n",
      " 'question': '東京の今日の天気は？'}\n"
     ]
    }
   ],
   "source": [
    "# assign前\n",
    "chain = RunnableParallel({\n",
    "    \"question\": RunnablePassthrough(),\n",
    "    \"context\": retriever,\n",
    "})\n",
    "pprint.pprint(chain.invoke(\"東京の今日の天気は？\"))"
   ]
  },
  {
   "cell_type": "code",
   "execution_count": 38,
   "id": "fff46b31",
   "metadata": {},
   "outputs": [
    {
     "name": "stdout",
     "output_type": "stream",
     "text": [
      "{'question': '東京の今日の天気は？', 'context': [Document(metadata={'title': '東京都 東京の天気 - 毎日新聞', 'source': 'https://mainichi.jp/weather/forecast/city/city_03_01_01.html', 'score': 0.8737439, 'images': []}, page_content='* 全国の天気 * 週間天気予報 * アメダス実況 * 降水短時間予報 * 衛星雲画像 * 天気図 * 洗濯情報 * 台風 * 地震 * 警報・注意報 * 世界の天気 * 花粉情報 # 東京都\\xa0東京の天気 8月24日5時発表 ## 今日の天気\\xa0-\\xa08月24日(日) | 晴時々曇 | 最高気温\\xa0[前日差]  37℃\\xa0[\\xa0+1\\xa0] | 最低気温  - | | 時間帯 | 00-06時 | 06-12時 | 12-18時 | 18-24時 | ## 明日の天気\\xa0-\\xa08月25日(月) | 曇時々晴 | 最高気温  35℃ | 最低気温  27℃ | |  | 26日(火) | 27日(水) | 28日(木) | 29日(金) | 30日(土) | | 天気 | 曇時々晴 | 曇一時雨 | 曇 | 曇時々晴 | 曇時々晴 | | 最高気温 | 34℃ | 35℃ | 33℃ | 33℃ | 34℃ | | 最低気温 | 26℃ | 26℃ | 26℃ | 25℃ | 25℃ |'), Document(metadata={'title': '今日・明日と14日間(2週間)の1時間ごとの天気予報 - Toshin.com - 東進', 'source': 'https://www.toshin.com/weather/detail?id=66124', 'score': 0.86024034, 'images': []}, page_content='リロードすると1時間ごとに更新されます。 所在地：東京都千代田区東京メトロ丸ノ内線. 今日の東京の天気は雨のち曇で、最高気温は24℃です'), Document(metadata={'title': '東京の天気予報 - ウェザーニュース', 'source': 'https://weathernews.jp/onebox/tenki/tokyo/', 'score': 0.8003337, 'images': []}, page_content='今日は日差しのチャンスがあっても雲が多く、雨の降る可能性があります。一時的に強まることも。お出かけには雨具が必要です。朝晩は肌寒くても、昼間は過ごしやすい')], 'answer': '東京の今日の天気は「晴時々曇」で、最高気温は37℃です。'}\n"
     ]
    }
   ],
   "source": [
    "# インスタンスメソッドから\n",
    "\n",
    "from langchain_core.runnables import RunnableParallel\n",
    "\n",
    "chain = RunnableParallel(\n",
    "    {\n",
    "        \"question\": RunnablePassthrough(),\n",
    "        \"context\": retriever,\n",
    "    }\n",
    ").assign(answer=prompt | model | StrOutputParser())\n",
    "output = chain.invoke(\"東京の今日の天気は？\")\n",
    "print(output)"
   ]
  },
  {
   "cell_type": "markdown",
   "id": "a8799391",
   "metadata": {},
   "source": [
    "pick"
   ]
  },
  {
   "cell_type": "code",
   "execution_count": 39,
   "id": "743dd1af",
   "metadata": {},
   "outputs": [
    {
     "name": "stdout",
     "output_type": "stream",
     "text": [
      "{'context': [Document(metadata={'title': '東京都 東京の天気 - 毎日新聞', 'source': 'https://mainichi.jp/weather/forecast/city/city_03_01_01.html', 'score': 0.8737439, 'images': []}, page_content='* 全国の天気 * 週間天気予報 * アメダス実況 * 降水短時間予報 * 衛星雲画像 * 天気図 * 洗濯情報 * 台風 * 地震 * 警報・注意報 * 世界の天気 * 花粉情報 # 東京都\\xa0東京の天気 8月24日5時発表 ## 今日の天気\\xa0-\\xa08月24日(日) | 晴時々曇 | 最高気温\\xa0[前日差]  37℃\\xa0[\\xa0+1\\xa0] | 最低気温  - | | 時間帯 | 00-06時 | 06-12時 | 12-18時 | 18-24時 | ## 明日の天気\\xa0-\\xa08月25日(月) | 曇時々晴 | 最高気温  35℃ | 最低気温  27℃ | |  | 26日(火) | 27日(水) | 28日(木) | 29日(金) | 30日(土) | | 天気 | 曇時々晴 | 曇一時雨 | 曇 | 曇時々晴 | 曇時々晴 | | 最高気温 | 34℃ | 35℃ | 33℃ | 33℃ | 34℃ | | 最低気温 | 26℃ | 26℃ | 26℃ | 25℃ | 25℃ |'), Document(metadata={'title': '今日・明日と14日間(2週間)の1時間ごとの天気予報 - Toshin.com - 東進', 'source': 'https://www.toshin.com/weather/detail?id=66124', 'score': 0.86024034, 'images': []}, page_content='リロードすると1時間ごとに更新されます。 所在地：東京都千代田区東京メトロ丸ノ内線. 今日の東京の天気は雨のち曇で、最高気温は24℃です'), Document(metadata={'title': '東京の天気予報 - ウェザーニュース', 'source': 'https://weathernews.jp/onebox/tenki/tokyo/', 'score': 0.8003337, 'images': []}, page_content='今日は日差しのチャンスがあっても雲が多く、雨の降る可能性があります。一時的に強まることも。お出かけには雨具が必要です。朝晩は肌寒くても、昼間は過ごしやすい')], 'answer': '東京の今日の天気は「晴時々曇」で、最高気温は37℃です。'}\n"
     ]
    }
   ],
   "source": [
    "chain = (\n",
    "    RunnableParallel(\n",
    "        {\n",
    "            \"question\": RunnablePassthrough(),\n",
    "            \"context\": retriever,\n",
    "        }\n",
    "    )\n",
    "    .assign(answer=prompt | model | StrOutputParser())\n",
    "    .pick([\"context\", \"answer\"])\n",
    ")\n",
    "output = chain.invoke(\"東京の今日の天気は？\")\n",
    "print(output)"
   ]
  },
  {
   "cell_type": "markdown",
   "id": "b26ccfa5",
   "metadata": {},
   "source": [
    "astream_events"
   ]
  },
  {
   "cell_type": "code",
   "execution_count": 40,
   "id": "287b03cb",
   "metadata": {},
   "outputs": [
    {
     "name": "stdout",
     "output_type": "stream",
     "text": [
      "{'event': 'on_chain_start', 'data': {'input': '東京の今日の天気は？'}, 'name': 'RunnableSequence', 'tags': [], 'run_id': 'cc21ad78-0631-49b0-96c7-c8ee79641179', 'metadata': {}, 'parent_ids': []}\n",
      "{'event': 'on_chain_start', 'data': {}, 'name': 'RunnableParallel<context,question>', 'tags': ['seq:step:1'], 'run_id': '52884af8-9529-4e17-bba4-b24752011657', 'metadata': {}, 'parent_ids': ['cc21ad78-0631-49b0-96c7-c8ee79641179']}\n",
      "{'event': 'on_retriever_start', 'data': {'input': {'query': '東京の今日の天気は？'}}, 'name': 'TavilySearchAPIRetriever', 'tags': ['map:key:context'], 'run_id': 'ae57b3c4-cb3b-4226-8706-e5fb1659f30a', 'metadata': {'ls_retriever_name': 'tavilysearchapi'}, 'parent_ids': ['cc21ad78-0631-49b0-96c7-c8ee79641179', '52884af8-9529-4e17-bba4-b24752011657']}\n",
      "{'event': 'on_chain_start', 'data': {}, 'name': 'RunnablePassthrough', 'tags': ['map:key:question'], 'run_id': 'dc6b10cf-923e-4f03-9685-ed4aa6dc0c15', 'metadata': {}, 'parent_ids': ['cc21ad78-0631-49b0-96c7-c8ee79641179', '52884af8-9529-4e17-bba4-b24752011657']}\n",
      "{'event': 'on_chain_stream', 'run_id': 'dc6b10cf-923e-4f03-9685-ed4aa6dc0c15', 'name': 'RunnablePassthrough', 'tags': ['map:key:question'], 'metadata': {}, 'data': {'chunk': '東京の今日の天気は？'}, 'parent_ids': ['cc21ad78-0631-49b0-96c7-c8ee79641179', '52884af8-9529-4e17-bba4-b24752011657']}\n",
      "{'event': 'on_chain_stream', 'run_id': '52884af8-9529-4e17-bba4-b24752011657', 'name': 'RunnableParallel<context,question>', 'tags': ['seq:step:1'], 'metadata': {}, 'data': {'chunk': {'question': '東京の今日の天気は？'}}, 'parent_ids': ['cc21ad78-0631-49b0-96c7-c8ee79641179']}\n",
      "{'event': 'on_chain_end', 'data': {'output': '東京の今日の天気は？', 'input': '東京の今日の天気は？'}, 'run_id': 'dc6b10cf-923e-4f03-9685-ed4aa6dc0c15', 'name': 'RunnablePassthrough', 'tags': ['map:key:question'], 'metadata': {}, 'parent_ids': ['cc21ad78-0631-49b0-96c7-c8ee79641179', '52884af8-9529-4e17-bba4-b24752011657']}\n",
      "{'event': 'on_retriever_end', 'data': {'output': [Document(metadata={'title': '東京都 東京の天気 - 毎日新聞', 'source': 'https://mainichi.jp/weather/forecast/city/city_03_01_01.html', 'score': 0.8737439, 'images': []}, page_content='* 全国の天気 * 週間天気予報 * アメダス実況 * 降水短時間予報 * 衛星雲画像 * 天気図 * 洗濯情報 * 台風 * 地震 * 警報・注意報 * 世界の天気 * 花粉情報 # 東京都\\xa0東京の天気 8月24日5時発表 ## 今日の天気\\xa0-\\xa08月24日(日) | 晴時々曇 | 最高気温\\xa0[前日差]  37℃\\xa0[\\xa0+1\\xa0] | 最低気温  - | | 時間帯 | 00-06時 | 06-12時 | 12-18時 | 18-24時 | ## 明日の天気\\xa0-\\xa08月25日(月) | 曇時々晴 | 最高気温  35℃ | 最低気温  27℃ | |  | 26日(火) | 27日(水) | 28日(木) | 29日(金) | 30日(土) | | 天気 | 曇時々晴 | 曇一時雨 | 曇 | 曇時々晴 | 曇時々晴 | | 最高気温 | 34℃ | 35℃ | 33℃ | 33℃ | 34℃ | | 最低気温 | 26℃ | 26℃ | 26℃ | 25℃ | 25℃ |'), Document(metadata={'title': '今日・明日と14日間(2週間)の1時間ごとの天気予報 - Toshin.com - 東進', 'source': 'https://www.toshin.com/weather/detail?id=66124', 'score': 0.86024034, 'images': []}, page_content='リロードすると1時間ごとに更新されます。 所在地：東京都千代田区東京メトロ丸ノ内線. 今日の東京の天気は雨のち曇で、最高気温は24℃です'), Document(metadata={'title': '東京の天気予報 - ウェザーニュース', 'source': 'https://weathernews.jp/onebox/tenki/tokyo/', 'score': 0.8003337, 'images': []}, page_content='今日は日差しのチャンスがあっても雲が多く、雨の降る可能性があります。一時的に強まることも。お出かけには雨具が必要です。朝晩は肌寒くても、昼間は過ごしやすい')], 'input': {'query': '東京の今日の天気は？'}}, 'run_id': 'ae57b3c4-cb3b-4226-8706-e5fb1659f30a', 'name': 'TavilySearchAPIRetriever', 'tags': ['map:key:context'], 'metadata': {'ls_retriever_name': 'tavilysearchapi', 'LANGSMITH_PROJECT': 'agent-book', 'LANGSMITH_TRACING': 'true', 'LANGSMITH_ENDPOINT': 'https://api.smith.langchain.com', 'revision_id': 'ec71376'}, 'parent_ids': ['cc21ad78-0631-49b0-96c7-c8ee79641179', '52884af8-9529-4e17-bba4-b24752011657']}\n",
      "{'event': 'on_chain_stream', 'run_id': '52884af8-9529-4e17-bba4-b24752011657', 'name': 'RunnableParallel<context,question>', 'tags': ['seq:step:1'], 'metadata': {}, 'data': {'chunk': {'context': [Document(metadata={'title': '東京都 東京の天気 - 毎日新聞', 'source': 'https://mainichi.jp/weather/forecast/city/city_03_01_01.html', 'score': 0.8737439, 'images': []}, page_content='* 全国の天気 * 週間天気予報 * アメダス実況 * 降水短時間予報 * 衛星雲画像 * 天気図 * 洗濯情報 * 台風 * 地震 * 警報・注意報 * 世界の天気 * 花粉情報 # 東京都\\xa0東京の天気 8月24日5時発表 ## 今日の天気\\xa0-\\xa08月24日(日) | 晴時々曇 | 最高気温\\xa0[前日差]  37℃\\xa0[\\xa0+1\\xa0] | 最低気温  - | | 時間帯 | 00-06時 | 06-12時 | 12-18時 | 18-24時 | ## 明日の天気\\xa0-\\xa08月25日(月) | 曇時々晴 | 最高気温  35℃ | 最低気温  27℃ | |  | 26日(火) | 27日(水) | 28日(木) | 29日(金) | 30日(土) | | 天気 | 曇時々晴 | 曇一時雨 | 曇 | 曇時々晴 | 曇時々晴 | | 最高気温 | 34℃ | 35℃ | 33℃ | 33℃ | 34℃ | | 最低気温 | 26℃ | 26℃ | 26℃ | 25℃ | 25℃ |'), Document(metadata={'title': '今日・明日と14日間(2週間)の1時間ごとの天気予報 - Toshin.com - 東進', 'source': 'https://www.toshin.com/weather/detail?id=66124', 'score': 0.86024034, 'images': []}, page_content='リロードすると1時間ごとに更新されます。 所在地：東京都千代田区東京メトロ丸ノ内線. 今日の東京の天気は雨のち曇で、最高気温は24℃です'), Document(metadata={'title': '東京の天気予報 - ウェザーニュース', 'source': 'https://weathernews.jp/onebox/tenki/tokyo/', 'score': 0.8003337, 'images': []}, page_content='今日は日差しのチャンスがあっても雲が多く、雨の降る可能性があります。一時的に強まることも。お出かけには雨具が必要です。朝晩は肌寒くても、昼間は過ごしやすい')]}}, 'parent_ids': ['cc21ad78-0631-49b0-96c7-c8ee79641179']}\n",
      "{'event': 'on_chain_end', 'data': {'output': {'question': '東京の今日の天気は？', 'context': [Document(metadata={'title': '東京都 東京の天気 - 毎日新聞', 'source': 'https://mainichi.jp/weather/forecast/city/city_03_01_01.html', 'score': 0.8737439, 'images': []}, page_content='* 全国の天気 * 週間天気予報 * アメダス実況 * 降水短時間予報 * 衛星雲画像 * 天気図 * 洗濯情報 * 台風 * 地震 * 警報・注意報 * 世界の天気 * 花粉情報 # 東京都\\xa0東京の天気 8月24日5時発表 ## 今日の天気\\xa0-\\xa08月24日(日) | 晴時々曇 | 最高気温\\xa0[前日差]  37℃\\xa0[\\xa0+1\\xa0] | 最低気温  - | | 時間帯 | 00-06時 | 06-12時 | 12-18時 | 18-24時 | ## 明日の天気\\xa0-\\xa08月25日(月) | 曇時々晴 | 最高気温  35℃ | 最低気温  27℃ | |  | 26日(火) | 27日(水) | 28日(木) | 29日(金) | 30日(土) | | 天気 | 曇時々晴 | 曇一時雨 | 曇 | 曇時々晴 | 曇時々晴 | | 最高気温 | 34℃ | 35℃ | 33℃ | 33℃ | 34℃ | | 最低気温 | 26℃ | 26℃ | 26℃ | 25℃ | 25℃ |'), Document(metadata={'title': '今日・明日と14日間(2週間)の1時間ごとの天気予報 - Toshin.com - 東進', 'source': 'https://www.toshin.com/weather/detail?id=66124', 'score': 0.86024034, 'images': []}, page_content='リロードすると1時間ごとに更新されます。 所在地：東京都千代田区東京メトロ丸ノ内線. 今日の東京の天気は雨のち曇で、最高気温は24℃です'), Document(metadata={'title': '東京の天気予報 - ウェザーニュース', 'source': 'https://weathernews.jp/onebox/tenki/tokyo/', 'score': 0.8003337, 'images': []}, page_content='今日は日差しのチャンスがあっても雲が多く、雨の降る可能性があります。一時的に強まることも。お出かけには雨具が必要です。朝晩は肌寒くても、昼間は過ごしやすい')]}, 'input': '東京の今日の天気は？'}, 'run_id': '52884af8-9529-4e17-bba4-b24752011657', 'name': 'RunnableParallel<context,question>', 'tags': ['seq:step:1'], 'metadata': {}, 'parent_ids': ['cc21ad78-0631-49b0-96c7-c8ee79641179']}\n",
      "{'event': 'on_prompt_start', 'data': {'input': {'question': '東京の今日の天気は？', 'context': [Document(metadata={'title': '東京都 東京の天気 - 毎日新聞', 'source': 'https://mainichi.jp/weather/forecast/city/city_03_01_01.html', 'score': 0.8737439, 'images': []}, page_content='* 全国の天気 * 週間天気予報 * アメダス実況 * 降水短時間予報 * 衛星雲画像 * 天気図 * 洗濯情報 * 台風 * 地震 * 警報・注意報 * 世界の天気 * 花粉情報 # 東京都\\xa0東京の天気 8月24日5時発表 ## 今日の天気\\xa0-\\xa08月24日(日) | 晴時々曇 | 最高気温\\xa0[前日差]  37℃\\xa0[\\xa0+1\\xa0] | 最低気温  - | | 時間帯 | 00-06時 | 06-12時 | 12-18時 | 18-24時 | ## 明日の天気\\xa0-\\xa08月25日(月) | 曇時々晴 | 最高気温  35℃ | 最低気温  27℃ | |  | 26日(火) | 27日(水) | 28日(木) | 29日(金) | 30日(土) | | 天気 | 曇時々晴 | 曇一時雨 | 曇 | 曇時々晴 | 曇時々晴 | | 最高気温 | 34℃ | 35℃ | 33℃ | 33℃ | 34℃ | | 最低気温 | 26℃ | 26℃ | 26℃ | 25℃ | 25℃ |'), Document(metadata={'title': '今日・明日と14日間(2週間)の1時間ごとの天気予報 - Toshin.com - 東進', 'source': 'https://www.toshin.com/weather/detail?id=66124', 'score': 0.86024034, 'images': []}, page_content='リロードすると1時間ごとに更新されます。 所在地：東京都千代田区東京メトロ丸ノ内線. 今日の東京の天気は雨のち曇で、最高気温は24℃です'), Document(metadata={'title': '東京の天気予報 - ウェザーニュース', 'source': 'https://weathernews.jp/onebox/tenki/tokyo/', 'score': 0.8003337, 'images': []}, page_content='今日は日差しのチャンスがあっても雲が多く、雨の降る可能性があります。一時的に強まることも。お出かけには雨具が必要です。朝晩は肌寒くても、昼間は過ごしやすい')]}}, 'name': 'ChatPromptTemplate', 'tags': ['seq:step:2'], 'run_id': '619d55a6-766f-4aa1-90b6-80e9a65c5ec1', 'metadata': {}, 'parent_ids': ['cc21ad78-0631-49b0-96c7-c8ee79641179']}\n",
      "{'event': 'on_prompt_end', 'data': {'output': ChatPromptValue(messages=[HumanMessage(content='以下の文脈だけを踏まえて質問に回答してください。\\n\\n文脈: \"\"\"\\n[Document(metadata={\\'title\\': \\'東京都 東京の天気 - 毎日新聞\\', \\'source\\': \\'https://mainichi.jp/weather/forecast/city/city_03_01_01.html\\', \\'score\\': 0.8737439, \\'images\\': []}, page_content=\\'* 全国の天気 * 週間天気予報 * アメダス実況 * 降水短時間予報 * 衛星雲画像 * 天気図 * 洗濯情報 * 台風 * 地震 * 警報・注意報 * 世界の天気 * 花粉情報 # 東京都\\\\xa0東京の天気 8月24日5時発表 ## 今日の天気\\\\xa0-\\\\xa08月24日(日) | 晴時々曇 | 最高気温\\\\xa0[前日差]  37℃\\\\xa0[\\\\xa0+1\\\\xa0] | 最低気温  - | | 時間帯 | 00-06時 | 06-12時 | 12-18時 | 18-24時 | ## 明日の天気\\\\xa0-\\\\xa08月25日(月) | 曇時々晴 | 最高気温  35℃ | 最低気温  27℃ | |  | 26日(火) | 27日(水) | 28日(木) | 29日(金) | 30日(土) | | 天気 | 曇時々晴 | 曇一時雨 | 曇 | 曇時々晴 | 曇時々晴 | | 最高気温 | 34℃ | 35℃ | 33℃ | 33℃ | 34℃ | | 最低気温 | 26℃ | 26℃ | 26℃ | 25℃ | 25℃ |\\'), Document(metadata={\\'title\\': \\'今日・明日と14日間(2週間)の1時間ごとの天気予報 - Toshin.com - 東進\\', \\'source\\': \\'https://www.toshin.com/weather/detail?id=66124\\', \\'score\\': 0.86024034, \\'images\\': []}, page_content=\\'リロードすると1時間ごとに更新されます。 所在地：東京都千代田区東京メトロ丸ノ内線. 今日の東京の天気は雨のち曇で、最高気温は24℃です\\'), Document(metadata={\\'title\\': \\'東京の天気予報 - ウェザーニュース\\', \\'source\\': \\'https://weathernews.jp/onebox/tenki/tokyo/\\', \\'score\\': 0.8003337, \\'images\\': []}, page_content=\\'今日は日差しのチャンスがあっても雲が多く、雨の降る可能性があります。一時的に強まることも。お出かけには雨具が必要です。朝晩は肌寒くても、昼間は過ごしやすい\\')]\\n\"\"\"\\n\\n質問: 東京の今日の天気は？\\n', additional_kwargs={}, response_metadata={})]), 'input': {'question': '東京の今日の天気は？', 'context': [Document(metadata={'title': '東京都 東京の天気 - 毎日新聞', 'source': 'https://mainichi.jp/weather/forecast/city/city_03_01_01.html', 'score': 0.8737439, 'images': []}, page_content='* 全国の天気 * 週間天気予報 * アメダス実況 * 降水短時間予報 * 衛星雲画像 * 天気図 * 洗濯情報 * 台風 * 地震 * 警報・注意報 * 世界の天気 * 花粉情報 # 東京都\\xa0東京の天気 8月24日5時発表 ## 今日の天気\\xa0-\\xa08月24日(日) | 晴時々曇 | 最高気温\\xa0[前日差]  37℃\\xa0[\\xa0+1\\xa0] | 最低気温  - | | 時間帯 | 00-06時 | 06-12時 | 12-18時 | 18-24時 | ## 明日の天気\\xa0-\\xa08月25日(月) | 曇時々晴 | 最高気温  35℃ | 最低気温  27℃ | |  | 26日(火) | 27日(水) | 28日(木) | 29日(金) | 30日(土) | | 天気 | 曇時々晴 | 曇一時雨 | 曇 | 曇時々晴 | 曇時々晴 | | 最高気温 | 34℃ | 35℃ | 33℃ | 33℃ | 34℃ | | 最低気温 | 26℃ | 26℃ | 26℃ | 25℃ | 25℃ |'), Document(metadata={'title': '今日・明日と14日間(2週間)の1時間ごとの天気予報 - Toshin.com - 東進', 'source': 'https://www.toshin.com/weather/detail?id=66124', 'score': 0.86024034, 'images': []}, page_content='リロードすると1時間ごとに更新されます。 所在地：東京都千代田区東京メトロ丸ノ内線. 今日の東京の天気は雨のち曇で、最高気温は24℃です'), Document(metadata={'title': '東京の天気予報 - ウェザーニュース', 'source': 'https://weathernews.jp/onebox/tenki/tokyo/', 'score': 0.8003337, 'images': []}, page_content='今日は日差しのチャンスがあっても雲が多く、雨の降る可能性があります。一時的に強まることも。お出かけには雨具が必要です。朝晩は肌寒くても、昼間は過ごしやすい')]}}, 'run_id': '619d55a6-766f-4aa1-90b6-80e9a65c5ec1', 'name': 'ChatPromptTemplate', 'tags': ['seq:step:2'], 'metadata': {}, 'parent_ids': ['cc21ad78-0631-49b0-96c7-c8ee79641179']}\n",
      "{'event': 'on_chat_model_start', 'data': {'input': {'messages': [[HumanMessage(content='以下の文脈だけを踏まえて質問に回答してください。\\n\\n文脈: \"\"\"\\n[Document(metadata={\\'title\\': \\'東京都 東京の天気 - 毎日新聞\\', \\'source\\': \\'https://mainichi.jp/weather/forecast/city/city_03_01_01.html\\', \\'score\\': 0.8737439, \\'images\\': []}, page_content=\\'* 全国の天気 * 週間天気予報 * アメダス実況 * 降水短時間予報 * 衛星雲画像 * 天気図 * 洗濯情報 * 台風 * 地震 * 警報・注意報 * 世界の天気 * 花粉情報 # 東京都\\\\xa0東京の天気 8月24日5時発表 ## 今日の天気\\\\xa0-\\\\xa08月24日(日) | 晴時々曇 | 最高気温\\\\xa0[前日差]  37℃\\\\xa0[\\\\xa0+1\\\\xa0] | 最低気温  - | | 時間帯 | 00-06時 | 06-12時 | 12-18時 | 18-24時 | ## 明日の天気\\\\xa0-\\\\xa08月25日(月) | 曇時々晴 | 最高気温  35℃ | 最低気温  27℃ | |  | 26日(火) | 27日(水) | 28日(木) | 29日(金) | 30日(土) | | 天気 | 曇時々晴 | 曇一時雨 | 曇 | 曇時々晴 | 曇時々晴 | | 最高気温 | 34℃ | 35℃ | 33℃ | 33℃ | 34℃ | | 最低気温 | 26℃ | 26℃ | 26℃ | 25℃ | 25℃ |\\'), Document(metadata={\\'title\\': \\'今日・明日と14日間(2週間)の1時間ごとの天気予報 - Toshin.com - 東進\\', \\'source\\': \\'https://www.toshin.com/weather/detail?id=66124\\', \\'score\\': 0.86024034, \\'images\\': []}, page_content=\\'リロードすると1時間ごとに更新されます。 所在地：東京都千代田区東京メトロ丸ノ内線. 今日の東京の天気は雨のち曇で、最高気温は24℃です\\'), Document(metadata={\\'title\\': \\'東京の天気予報 - ウェザーニュース\\', \\'source\\': \\'https://weathernews.jp/onebox/tenki/tokyo/\\', \\'score\\': 0.8003337, \\'images\\': []}, page_content=\\'今日は日差しのチャンスがあっても雲が多く、雨の降る可能性があります。一時的に強まることも。お出かけには雨具が必要です。朝晩は肌寒くても、昼間は過ごしやすい\\')]\\n\"\"\"\\n\\n質問: 東京の今日の天気は？\\n', additional_kwargs={}, response_metadata={})]]}}, 'name': 'ChatOpenAI', 'tags': ['seq:step:3'], 'run_id': '5b026120-7a7e-4b59-b2b2-af11e2da9211', 'metadata': {'ls_provider': 'openai', 'ls_model_name': 'gpt-4o-mini', 'ls_model_type': 'chat', 'ls_temperature': 0.0}, 'parent_ids': ['cc21ad78-0631-49b0-96c7-c8ee79641179']}\n",
      "{'event': 'on_chat_model_stream', 'data': {'chunk': AIMessageChunk(content='', additional_kwargs={}, response_metadata={'model_provider': 'openai'}, id='lc_run--5b026120-7a7e-4b59-b2b2-af11e2da9211')}, 'run_id': '5b026120-7a7e-4b59-b2b2-af11e2da9211', 'name': 'ChatOpenAI', 'tags': ['seq:step:3'], 'metadata': {'ls_provider': 'openai', 'ls_model_name': 'gpt-4o-mini', 'ls_model_type': 'chat', 'ls_temperature': 0.0}, 'parent_ids': ['cc21ad78-0631-49b0-96c7-c8ee79641179']}\n",
      "{'event': 'on_parser_start', 'data': {}, 'name': 'StrOutputParser', 'tags': ['seq:step:4'], 'run_id': '21c7055a-7eb9-4122-9241-ed98649d1a20', 'metadata': {}, 'parent_ids': ['cc21ad78-0631-49b0-96c7-c8ee79641179']}\n",
      "{'event': 'on_parser_stream', 'run_id': '21c7055a-7eb9-4122-9241-ed98649d1a20', 'name': 'StrOutputParser', 'tags': ['seq:step:4'], 'metadata': {}, 'data': {'chunk': ''}, 'parent_ids': ['cc21ad78-0631-49b0-96c7-c8ee79641179']}\n",
      "{'event': 'on_chain_stream', 'run_id': 'cc21ad78-0631-49b0-96c7-c8ee79641179', 'name': 'RunnableSequence', 'tags': [], 'metadata': {}, 'data': {'chunk': ''}, 'parent_ids': []}\n",
      "{'event': 'on_chat_model_stream', 'data': {'chunk': AIMessageChunk(content='東京', additional_kwargs={}, response_metadata={'model_provider': 'openai'}, id='lc_run--5b026120-7a7e-4b59-b2b2-af11e2da9211')}, 'run_id': '5b026120-7a7e-4b59-b2b2-af11e2da9211', 'name': 'ChatOpenAI', 'tags': ['seq:step:3'], 'metadata': {'ls_provider': 'openai', 'ls_model_name': 'gpt-4o-mini', 'ls_model_type': 'chat', 'ls_temperature': 0.0}, 'parent_ids': ['cc21ad78-0631-49b0-96c7-c8ee79641179']}\n",
      "{'event': 'on_parser_stream', 'run_id': '21c7055a-7eb9-4122-9241-ed98649d1a20', 'name': 'StrOutputParser', 'tags': ['seq:step:4'], 'metadata': {}, 'data': {'chunk': '東京'}, 'parent_ids': ['cc21ad78-0631-49b0-96c7-c8ee79641179']}\n",
      "{'event': 'on_chain_stream', 'run_id': 'cc21ad78-0631-49b0-96c7-c8ee79641179', 'name': 'RunnableSequence', 'tags': [], 'metadata': {}, 'data': {'chunk': '東京'}, 'parent_ids': []}\n",
      "{'event': 'on_chat_model_stream', 'data': {'chunk': AIMessageChunk(content='の', additional_kwargs={}, response_metadata={'model_provider': 'openai'}, id='lc_run--5b026120-7a7e-4b59-b2b2-af11e2da9211')}, 'run_id': '5b026120-7a7e-4b59-b2b2-af11e2da9211', 'name': 'ChatOpenAI', 'tags': ['seq:step:3'], 'metadata': {'ls_provider': 'openai', 'ls_model_name': 'gpt-4o-mini', 'ls_model_type': 'chat', 'ls_temperature': 0.0}, 'parent_ids': ['cc21ad78-0631-49b0-96c7-c8ee79641179']}\n",
      "{'event': 'on_parser_stream', 'run_id': '21c7055a-7eb9-4122-9241-ed98649d1a20', 'name': 'StrOutputParser', 'tags': ['seq:step:4'], 'metadata': {}, 'data': {'chunk': 'の'}, 'parent_ids': ['cc21ad78-0631-49b0-96c7-c8ee79641179']}\n",
      "{'event': 'on_chain_stream', 'run_id': 'cc21ad78-0631-49b0-96c7-c8ee79641179', 'name': 'RunnableSequence', 'tags': [], 'metadata': {}, 'data': {'chunk': 'の'}, 'parent_ids': []}\n",
      "{'event': 'on_chat_model_stream', 'data': {'chunk': AIMessageChunk(content='今日', additional_kwargs={}, response_metadata={'model_provider': 'openai'}, id='lc_run--5b026120-7a7e-4b59-b2b2-af11e2da9211')}, 'run_id': '5b026120-7a7e-4b59-b2b2-af11e2da9211', 'name': 'ChatOpenAI', 'tags': ['seq:step:3'], 'metadata': {'ls_provider': 'openai', 'ls_model_name': 'gpt-4o-mini', 'ls_model_type': 'chat', 'ls_temperature': 0.0}, 'parent_ids': ['cc21ad78-0631-49b0-96c7-c8ee79641179']}\n",
      "{'event': 'on_parser_stream', 'run_id': '21c7055a-7eb9-4122-9241-ed98649d1a20', 'name': 'StrOutputParser', 'tags': ['seq:step:4'], 'metadata': {}, 'data': {'chunk': '今日'}, 'parent_ids': ['cc21ad78-0631-49b0-96c7-c8ee79641179']}\n",
      "{'event': 'on_chain_stream', 'run_id': 'cc21ad78-0631-49b0-96c7-c8ee79641179', 'name': 'RunnableSequence', 'tags': [], 'metadata': {}, 'data': {'chunk': '今日'}, 'parent_ids': []}\n",
      "{'event': 'on_chat_model_stream', 'data': {'chunk': AIMessageChunk(content='の', additional_kwargs={}, response_metadata={'model_provider': 'openai'}, id='lc_run--5b026120-7a7e-4b59-b2b2-af11e2da9211')}, 'run_id': '5b026120-7a7e-4b59-b2b2-af11e2da9211', 'name': 'ChatOpenAI', 'tags': ['seq:step:3'], 'metadata': {'ls_provider': 'openai', 'ls_model_name': 'gpt-4o-mini', 'ls_model_type': 'chat', 'ls_temperature': 0.0}, 'parent_ids': ['cc21ad78-0631-49b0-96c7-c8ee79641179']}\n",
      "{'event': 'on_parser_stream', 'run_id': '21c7055a-7eb9-4122-9241-ed98649d1a20', 'name': 'StrOutputParser', 'tags': ['seq:step:4'], 'metadata': {}, 'data': {'chunk': 'の'}, 'parent_ids': ['cc21ad78-0631-49b0-96c7-c8ee79641179']}\n",
      "{'event': 'on_chain_stream', 'run_id': 'cc21ad78-0631-49b0-96c7-c8ee79641179', 'name': 'RunnableSequence', 'tags': [], 'metadata': {}, 'data': {'chunk': 'の'}, 'parent_ids': []}\n",
      "{'event': 'on_chat_model_stream', 'data': {'chunk': AIMessageChunk(content='天', additional_kwargs={}, response_metadata={'model_provider': 'openai'}, id='lc_run--5b026120-7a7e-4b59-b2b2-af11e2da9211')}, 'run_id': '5b026120-7a7e-4b59-b2b2-af11e2da9211', 'name': 'ChatOpenAI', 'tags': ['seq:step:3'], 'metadata': {'ls_provider': 'openai', 'ls_model_name': 'gpt-4o-mini', 'ls_model_type': 'chat', 'ls_temperature': 0.0}, 'parent_ids': ['cc21ad78-0631-49b0-96c7-c8ee79641179']}\n",
      "{'event': 'on_parser_stream', 'run_id': '21c7055a-7eb9-4122-9241-ed98649d1a20', 'name': 'StrOutputParser', 'tags': ['seq:step:4'], 'metadata': {}, 'data': {'chunk': '天'}, 'parent_ids': ['cc21ad78-0631-49b0-96c7-c8ee79641179']}\n",
      "{'event': 'on_chain_stream', 'run_id': 'cc21ad78-0631-49b0-96c7-c8ee79641179', 'name': 'RunnableSequence', 'tags': [], 'metadata': {}, 'data': {'chunk': '天'}, 'parent_ids': []}\n",
      "{'event': 'on_chat_model_stream', 'data': {'chunk': AIMessageChunk(content='気', additional_kwargs={}, response_metadata={'model_provider': 'openai'}, id='lc_run--5b026120-7a7e-4b59-b2b2-af11e2da9211')}, 'run_id': '5b026120-7a7e-4b59-b2b2-af11e2da9211', 'name': 'ChatOpenAI', 'tags': ['seq:step:3'], 'metadata': {'ls_provider': 'openai', 'ls_model_name': 'gpt-4o-mini', 'ls_model_type': 'chat', 'ls_temperature': 0.0}, 'parent_ids': ['cc21ad78-0631-49b0-96c7-c8ee79641179']}\n",
      "{'event': 'on_parser_stream', 'run_id': '21c7055a-7eb9-4122-9241-ed98649d1a20', 'name': 'StrOutputParser', 'tags': ['seq:step:4'], 'metadata': {}, 'data': {'chunk': '気'}, 'parent_ids': ['cc21ad78-0631-49b0-96c7-c8ee79641179']}\n",
      "{'event': 'on_chain_stream', 'run_id': 'cc21ad78-0631-49b0-96c7-c8ee79641179', 'name': 'RunnableSequence', 'tags': [], 'metadata': {}, 'data': {'chunk': '気'}, 'parent_ids': []}\n",
      "{'event': 'on_chat_model_stream', 'data': {'chunk': AIMessageChunk(content='は', additional_kwargs={}, response_metadata={'model_provider': 'openai'}, id='lc_run--5b026120-7a7e-4b59-b2b2-af11e2da9211')}, 'run_id': '5b026120-7a7e-4b59-b2b2-af11e2da9211', 'name': 'ChatOpenAI', 'tags': ['seq:step:3'], 'metadata': {'ls_provider': 'openai', 'ls_model_name': 'gpt-4o-mini', 'ls_model_type': 'chat', 'ls_temperature': 0.0}, 'parent_ids': ['cc21ad78-0631-49b0-96c7-c8ee79641179']}\n",
      "{'event': 'on_parser_stream', 'run_id': '21c7055a-7eb9-4122-9241-ed98649d1a20', 'name': 'StrOutputParser', 'tags': ['seq:step:4'], 'metadata': {}, 'data': {'chunk': 'は'}, 'parent_ids': ['cc21ad78-0631-49b0-96c7-c8ee79641179']}\n",
      "{'event': 'on_chain_stream', 'run_id': 'cc21ad78-0631-49b0-96c7-c8ee79641179', 'name': 'RunnableSequence', 'tags': [], 'metadata': {}, 'data': {'chunk': 'は'}, 'parent_ids': []}\n",
      "{'event': 'on_chat_model_stream', 'data': {'chunk': AIMessageChunk(content='「', additional_kwargs={}, response_metadata={'model_provider': 'openai'}, id='lc_run--5b026120-7a7e-4b59-b2b2-af11e2da9211')}, 'run_id': '5b026120-7a7e-4b59-b2b2-af11e2da9211', 'name': 'ChatOpenAI', 'tags': ['seq:step:3'], 'metadata': {'ls_provider': 'openai', 'ls_model_name': 'gpt-4o-mini', 'ls_model_type': 'chat', 'ls_temperature': 0.0}, 'parent_ids': ['cc21ad78-0631-49b0-96c7-c8ee79641179']}\n",
      "{'event': 'on_parser_stream', 'run_id': '21c7055a-7eb9-4122-9241-ed98649d1a20', 'name': 'StrOutputParser', 'tags': ['seq:step:4'], 'metadata': {}, 'data': {'chunk': '「'}, 'parent_ids': ['cc21ad78-0631-49b0-96c7-c8ee79641179']}\n",
      "{'event': 'on_chain_stream', 'run_id': 'cc21ad78-0631-49b0-96c7-c8ee79641179', 'name': 'RunnableSequence', 'tags': [], 'metadata': {}, 'data': {'chunk': '「'}, 'parent_ids': []}\n",
      "{'event': 'on_chat_model_stream', 'data': {'chunk': AIMessageChunk(content='晴', additional_kwargs={}, response_metadata={'model_provider': 'openai'}, id='lc_run--5b026120-7a7e-4b59-b2b2-af11e2da9211')}, 'run_id': '5b026120-7a7e-4b59-b2b2-af11e2da9211', 'name': 'ChatOpenAI', 'tags': ['seq:step:3'], 'metadata': {'ls_provider': 'openai', 'ls_model_name': 'gpt-4o-mini', 'ls_model_type': 'chat', 'ls_temperature': 0.0}, 'parent_ids': ['cc21ad78-0631-49b0-96c7-c8ee79641179']}\n",
      "{'event': 'on_parser_stream', 'run_id': '21c7055a-7eb9-4122-9241-ed98649d1a20', 'name': 'StrOutputParser', 'tags': ['seq:step:4'], 'metadata': {}, 'data': {'chunk': '晴'}, 'parent_ids': ['cc21ad78-0631-49b0-96c7-c8ee79641179']}\n",
      "{'event': 'on_chain_stream', 'run_id': 'cc21ad78-0631-49b0-96c7-c8ee79641179', 'name': 'RunnableSequence', 'tags': [], 'metadata': {}, 'data': {'chunk': '晴'}, 'parent_ids': []}\n",
      "{'event': 'on_chat_model_stream', 'data': {'chunk': AIMessageChunk(content='時', additional_kwargs={}, response_metadata={'model_provider': 'openai'}, id='lc_run--5b026120-7a7e-4b59-b2b2-af11e2da9211')}, 'run_id': '5b026120-7a7e-4b59-b2b2-af11e2da9211', 'name': 'ChatOpenAI', 'tags': ['seq:step:3'], 'metadata': {'ls_provider': 'openai', 'ls_model_name': 'gpt-4o-mini', 'ls_model_type': 'chat', 'ls_temperature': 0.0}, 'parent_ids': ['cc21ad78-0631-49b0-96c7-c8ee79641179']}\n",
      "{'event': 'on_parser_stream', 'run_id': '21c7055a-7eb9-4122-9241-ed98649d1a20', 'name': 'StrOutputParser', 'tags': ['seq:step:4'], 'metadata': {}, 'data': {'chunk': '時'}, 'parent_ids': ['cc21ad78-0631-49b0-96c7-c8ee79641179']}\n",
      "{'event': 'on_chain_stream', 'run_id': 'cc21ad78-0631-49b0-96c7-c8ee79641179', 'name': 'RunnableSequence', 'tags': [], 'metadata': {}, 'data': {'chunk': '時'}, 'parent_ids': []}\n",
      "{'event': 'on_chat_model_stream', 'data': {'chunk': AIMessageChunk(content='々', additional_kwargs={}, response_metadata={'model_provider': 'openai'}, id='lc_run--5b026120-7a7e-4b59-b2b2-af11e2da9211')}, 'run_id': '5b026120-7a7e-4b59-b2b2-af11e2da9211', 'name': 'ChatOpenAI', 'tags': ['seq:step:3'], 'metadata': {'ls_provider': 'openai', 'ls_model_name': 'gpt-4o-mini', 'ls_model_type': 'chat', 'ls_temperature': 0.0}, 'parent_ids': ['cc21ad78-0631-49b0-96c7-c8ee79641179']}\n",
      "{'event': 'on_parser_stream', 'run_id': '21c7055a-7eb9-4122-9241-ed98649d1a20', 'name': 'StrOutputParser', 'tags': ['seq:step:4'], 'metadata': {}, 'data': {'chunk': '々'}, 'parent_ids': ['cc21ad78-0631-49b0-96c7-c8ee79641179']}\n",
      "{'event': 'on_chain_stream', 'run_id': 'cc21ad78-0631-49b0-96c7-c8ee79641179', 'name': 'RunnableSequence', 'tags': [], 'metadata': {}, 'data': {'chunk': '々'}, 'parent_ids': []}\n",
      "{'event': 'on_chat_model_stream', 'data': {'chunk': AIMessageChunk(content='曇', additional_kwargs={}, response_metadata={'model_provider': 'openai'}, id='lc_run--5b026120-7a7e-4b59-b2b2-af11e2da9211')}, 'run_id': '5b026120-7a7e-4b59-b2b2-af11e2da9211', 'name': 'ChatOpenAI', 'tags': ['seq:step:3'], 'metadata': {'ls_provider': 'openai', 'ls_model_name': 'gpt-4o-mini', 'ls_model_type': 'chat', 'ls_temperature': 0.0}, 'parent_ids': ['cc21ad78-0631-49b0-96c7-c8ee79641179']}\n",
      "{'event': 'on_parser_stream', 'run_id': '21c7055a-7eb9-4122-9241-ed98649d1a20', 'name': 'StrOutputParser', 'tags': ['seq:step:4'], 'metadata': {}, 'data': {'chunk': '曇'}, 'parent_ids': ['cc21ad78-0631-49b0-96c7-c8ee79641179']}\n",
      "{'event': 'on_chain_stream', 'run_id': 'cc21ad78-0631-49b0-96c7-c8ee79641179', 'name': 'RunnableSequence', 'tags': [], 'metadata': {}, 'data': {'chunk': '曇'}, 'parent_ids': []}\n",
      "{'event': 'on_chat_model_stream', 'data': {'chunk': AIMessageChunk(content='」で', additional_kwargs={}, response_metadata={'model_provider': 'openai'}, id='lc_run--5b026120-7a7e-4b59-b2b2-af11e2da9211')}, 'run_id': '5b026120-7a7e-4b59-b2b2-af11e2da9211', 'name': 'ChatOpenAI', 'tags': ['seq:step:3'], 'metadata': {'ls_provider': 'openai', 'ls_model_name': 'gpt-4o-mini', 'ls_model_type': 'chat', 'ls_temperature': 0.0}, 'parent_ids': ['cc21ad78-0631-49b0-96c7-c8ee79641179']}\n",
      "{'event': 'on_parser_stream', 'run_id': '21c7055a-7eb9-4122-9241-ed98649d1a20', 'name': 'StrOutputParser', 'tags': ['seq:step:4'], 'metadata': {}, 'data': {'chunk': '」で'}, 'parent_ids': ['cc21ad78-0631-49b0-96c7-c8ee79641179']}\n",
      "{'event': 'on_chain_stream', 'run_id': 'cc21ad78-0631-49b0-96c7-c8ee79641179', 'name': 'RunnableSequence', 'tags': [], 'metadata': {}, 'data': {'chunk': '」で'}, 'parent_ids': []}\n",
      "{'event': 'on_chat_model_stream', 'data': {'chunk': AIMessageChunk(content='、', additional_kwargs={}, response_metadata={'model_provider': 'openai'}, id='lc_run--5b026120-7a7e-4b59-b2b2-af11e2da9211')}, 'run_id': '5b026120-7a7e-4b59-b2b2-af11e2da9211', 'name': 'ChatOpenAI', 'tags': ['seq:step:3'], 'metadata': {'ls_provider': 'openai', 'ls_model_name': 'gpt-4o-mini', 'ls_model_type': 'chat', 'ls_temperature': 0.0}, 'parent_ids': ['cc21ad78-0631-49b0-96c7-c8ee79641179']}\n",
      "{'event': 'on_parser_stream', 'run_id': '21c7055a-7eb9-4122-9241-ed98649d1a20', 'name': 'StrOutputParser', 'tags': ['seq:step:4'], 'metadata': {}, 'data': {'chunk': '、'}, 'parent_ids': ['cc21ad78-0631-49b0-96c7-c8ee79641179']}\n",
      "{'event': 'on_chain_stream', 'run_id': 'cc21ad78-0631-49b0-96c7-c8ee79641179', 'name': 'RunnableSequence', 'tags': [], 'metadata': {}, 'data': {'chunk': '、'}, 'parent_ids': []}\n",
      "{'event': 'on_chat_model_stream', 'data': {'chunk': AIMessageChunk(content='最高', additional_kwargs={}, response_metadata={'model_provider': 'openai'}, id='lc_run--5b026120-7a7e-4b59-b2b2-af11e2da9211')}, 'run_id': '5b026120-7a7e-4b59-b2b2-af11e2da9211', 'name': 'ChatOpenAI', 'tags': ['seq:step:3'], 'metadata': {'ls_provider': 'openai', 'ls_model_name': 'gpt-4o-mini', 'ls_model_type': 'chat', 'ls_temperature': 0.0}, 'parent_ids': ['cc21ad78-0631-49b0-96c7-c8ee79641179']}\n",
      "{'event': 'on_parser_stream', 'run_id': '21c7055a-7eb9-4122-9241-ed98649d1a20', 'name': 'StrOutputParser', 'tags': ['seq:step:4'], 'metadata': {}, 'data': {'chunk': '最高'}, 'parent_ids': ['cc21ad78-0631-49b0-96c7-c8ee79641179']}\n",
      "{'event': 'on_chain_stream', 'run_id': 'cc21ad78-0631-49b0-96c7-c8ee79641179', 'name': 'RunnableSequence', 'tags': [], 'metadata': {}, 'data': {'chunk': '最高'}, 'parent_ids': []}\n",
      "{'event': 'on_chat_model_stream', 'data': {'chunk': AIMessageChunk(content='気', additional_kwargs={}, response_metadata={'model_provider': 'openai'}, id='lc_run--5b026120-7a7e-4b59-b2b2-af11e2da9211')}, 'run_id': '5b026120-7a7e-4b59-b2b2-af11e2da9211', 'name': 'ChatOpenAI', 'tags': ['seq:step:3'], 'metadata': {'ls_provider': 'openai', 'ls_model_name': 'gpt-4o-mini', 'ls_model_type': 'chat', 'ls_temperature': 0.0}, 'parent_ids': ['cc21ad78-0631-49b0-96c7-c8ee79641179']}\n",
      "{'event': 'on_parser_stream', 'run_id': '21c7055a-7eb9-4122-9241-ed98649d1a20', 'name': 'StrOutputParser', 'tags': ['seq:step:4'], 'metadata': {}, 'data': {'chunk': '気'}, 'parent_ids': ['cc21ad78-0631-49b0-96c7-c8ee79641179']}\n",
      "{'event': 'on_chain_stream', 'run_id': 'cc21ad78-0631-49b0-96c7-c8ee79641179', 'name': 'RunnableSequence', 'tags': [], 'metadata': {}, 'data': {'chunk': '気'}, 'parent_ids': []}\n",
      "{'event': 'on_chat_model_stream', 'data': {'chunk': AIMessageChunk(content='温', additional_kwargs={}, response_metadata={'model_provider': 'openai'}, id='lc_run--5b026120-7a7e-4b59-b2b2-af11e2da9211')}, 'run_id': '5b026120-7a7e-4b59-b2b2-af11e2da9211', 'name': 'ChatOpenAI', 'tags': ['seq:step:3'], 'metadata': {'ls_provider': 'openai', 'ls_model_name': 'gpt-4o-mini', 'ls_model_type': 'chat', 'ls_temperature': 0.0}, 'parent_ids': ['cc21ad78-0631-49b0-96c7-c8ee79641179']}\n",
      "{'event': 'on_parser_stream', 'run_id': '21c7055a-7eb9-4122-9241-ed98649d1a20', 'name': 'StrOutputParser', 'tags': ['seq:step:4'], 'metadata': {}, 'data': {'chunk': '温'}, 'parent_ids': ['cc21ad78-0631-49b0-96c7-c8ee79641179']}\n",
      "{'event': 'on_chain_stream', 'run_id': 'cc21ad78-0631-49b0-96c7-c8ee79641179', 'name': 'RunnableSequence', 'tags': [], 'metadata': {}, 'data': {'chunk': '温'}, 'parent_ids': []}\n",
      "{'event': 'on_chat_model_stream', 'data': {'chunk': AIMessageChunk(content='は', additional_kwargs={}, response_metadata={'model_provider': 'openai'}, id='lc_run--5b026120-7a7e-4b59-b2b2-af11e2da9211')}, 'run_id': '5b026120-7a7e-4b59-b2b2-af11e2da9211', 'name': 'ChatOpenAI', 'tags': ['seq:step:3'], 'metadata': {'ls_provider': 'openai', 'ls_model_name': 'gpt-4o-mini', 'ls_model_type': 'chat', 'ls_temperature': 0.0}, 'parent_ids': ['cc21ad78-0631-49b0-96c7-c8ee79641179']}\n",
      "{'event': 'on_parser_stream', 'run_id': '21c7055a-7eb9-4122-9241-ed98649d1a20', 'name': 'StrOutputParser', 'tags': ['seq:step:4'], 'metadata': {}, 'data': {'chunk': 'は'}, 'parent_ids': ['cc21ad78-0631-49b0-96c7-c8ee79641179']}\n",
      "{'event': 'on_chain_stream', 'run_id': 'cc21ad78-0631-49b0-96c7-c8ee79641179', 'name': 'RunnableSequence', 'tags': [], 'metadata': {}, 'data': {'chunk': 'は'}, 'parent_ids': []}\n",
      "{'event': 'on_chat_model_stream', 'data': {'chunk': AIMessageChunk(content='37', additional_kwargs={}, response_metadata={'model_provider': 'openai'}, id='lc_run--5b026120-7a7e-4b59-b2b2-af11e2da9211')}, 'run_id': '5b026120-7a7e-4b59-b2b2-af11e2da9211', 'name': 'ChatOpenAI', 'tags': ['seq:step:3'], 'metadata': {'ls_provider': 'openai', 'ls_model_name': 'gpt-4o-mini', 'ls_model_type': 'chat', 'ls_temperature': 0.0}, 'parent_ids': ['cc21ad78-0631-49b0-96c7-c8ee79641179']}\n",
      "{'event': 'on_parser_stream', 'run_id': '21c7055a-7eb9-4122-9241-ed98649d1a20', 'name': 'StrOutputParser', 'tags': ['seq:step:4'], 'metadata': {}, 'data': {'chunk': '37'}, 'parent_ids': ['cc21ad78-0631-49b0-96c7-c8ee79641179']}\n",
      "{'event': 'on_chain_stream', 'run_id': 'cc21ad78-0631-49b0-96c7-c8ee79641179', 'name': 'RunnableSequence', 'tags': [], 'metadata': {}, 'data': {'chunk': '37'}, 'parent_ids': []}\n",
      "{'event': 'on_chat_model_stream', 'data': {'chunk': AIMessageChunk(content='℃', additional_kwargs={}, response_metadata={'model_provider': 'openai'}, id='lc_run--5b026120-7a7e-4b59-b2b2-af11e2da9211')}, 'run_id': '5b026120-7a7e-4b59-b2b2-af11e2da9211', 'name': 'ChatOpenAI', 'tags': ['seq:step:3'], 'metadata': {'ls_provider': 'openai', 'ls_model_name': 'gpt-4o-mini', 'ls_model_type': 'chat', 'ls_temperature': 0.0}, 'parent_ids': ['cc21ad78-0631-49b0-96c7-c8ee79641179']}\n",
      "{'event': 'on_parser_stream', 'run_id': '21c7055a-7eb9-4122-9241-ed98649d1a20', 'name': 'StrOutputParser', 'tags': ['seq:step:4'], 'metadata': {}, 'data': {'chunk': '℃'}, 'parent_ids': ['cc21ad78-0631-49b0-96c7-c8ee79641179']}\n",
      "{'event': 'on_chain_stream', 'run_id': 'cc21ad78-0631-49b0-96c7-c8ee79641179', 'name': 'RunnableSequence', 'tags': [], 'metadata': {}, 'data': {'chunk': '℃'}, 'parent_ids': []}\n",
      "{'event': 'on_chat_model_stream', 'data': {'chunk': AIMessageChunk(content='です', additional_kwargs={}, response_metadata={'model_provider': 'openai'}, id='lc_run--5b026120-7a7e-4b59-b2b2-af11e2da9211')}, 'run_id': '5b026120-7a7e-4b59-b2b2-af11e2da9211', 'name': 'ChatOpenAI', 'tags': ['seq:step:3'], 'metadata': {'ls_provider': 'openai', 'ls_model_name': 'gpt-4o-mini', 'ls_model_type': 'chat', 'ls_temperature': 0.0}, 'parent_ids': ['cc21ad78-0631-49b0-96c7-c8ee79641179']}\n",
      "{'event': 'on_parser_stream', 'run_id': '21c7055a-7eb9-4122-9241-ed98649d1a20', 'name': 'StrOutputParser', 'tags': ['seq:step:4'], 'metadata': {}, 'data': {'chunk': 'です'}, 'parent_ids': ['cc21ad78-0631-49b0-96c7-c8ee79641179']}\n",
      "{'event': 'on_chain_stream', 'run_id': 'cc21ad78-0631-49b0-96c7-c8ee79641179', 'name': 'RunnableSequence', 'tags': [], 'metadata': {}, 'data': {'chunk': 'です'}, 'parent_ids': []}\n",
      "{'event': 'on_chat_model_stream', 'data': {'chunk': AIMessageChunk(content='。', additional_kwargs={}, response_metadata={'model_provider': 'openai'}, id='lc_run--5b026120-7a7e-4b59-b2b2-af11e2da9211')}, 'run_id': '5b026120-7a7e-4b59-b2b2-af11e2da9211', 'name': 'ChatOpenAI', 'tags': ['seq:step:3'], 'metadata': {'ls_provider': 'openai', 'ls_model_name': 'gpt-4o-mini', 'ls_model_type': 'chat', 'ls_temperature': 0.0}, 'parent_ids': ['cc21ad78-0631-49b0-96c7-c8ee79641179']}\n",
      "{'event': 'on_parser_stream', 'run_id': '21c7055a-7eb9-4122-9241-ed98649d1a20', 'name': 'StrOutputParser', 'tags': ['seq:step:4'], 'metadata': {}, 'data': {'chunk': '。'}, 'parent_ids': ['cc21ad78-0631-49b0-96c7-c8ee79641179']}\n",
      "{'event': 'on_chain_stream', 'run_id': 'cc21ad78-0631-49b0-96c7-c8ee79641179', 'name': 'RunnableSequence', 'tags': [], 'metadata': {}, 'data': {'chunk': '。'}, 'parent_ids': []}\n",
      "{'event': 'on_chat_model_stream', 'data': {'chunk': AIMessageChunk(content='', additional_kwargs={}, response_metadata={'finish_reason': 'stop', 'model_name': 'gpt-4o-mini-2024-07-18', 'system_fingerprint': 'fp_51db84afab', 'service_tier': 'default', 'model_provider': 'openai'}, id='lc_run--5b026120-7a7e-4b59-b2b2-af11e2da9211', chunk_position='last')}, 'run_id': '5b026120-7a7e-4b59-b2b2-af11e2da9211', 'name': 'ChatOpenAI', 'tags': ['seq:step:3'], 'metadata': {'ls_provider': 'openai', 'ls_model_name': 'gpt-4o-mini', 'ls_model_type': 'chat', 'ls_temperature': 0.0}, 'parent_ids': ['cc21ad78-0631-49b0-96c7-c8ee79641179']}\n",
      "{'event': 'on_parser_stream', 'run_id': '21c7055a-7eb9-4122-9241-ed98649d1a20', 'name': 'StrOutputParser', 'tags': ['seq:step:4'], 'metadata': {}, 'data': {'chunk': ''}, 'parent_ids': ['cc21ad78-0631-49b0-96c7-c8ee79641179']}\n",
      "{'event': 'on_chain_stream', 'run_id': 'cc21ad78-0631-49b0-96c7-c8ee79641179', 'name': 'RunnableSequence', 'tags': [], 'metadata': {}, 'data': {'chunk': ''}, 'parent_ids': []}\n",
      "{'event': 'on_chat_model_stream', 'data': {'chunk': AIMessageChunk(content='', additional_kwargs={}, response_metadata={}, id='lc_run--5b026120-7a7e-4b59-b2b2-af11e2da9211', usage_metadata={'input_tokens': 671, 'output_tokens': 23, 'total_tokens': 694, 'input_token_details': {'audio': 0, 'cache_read': 0}, 'output_token_details': {'audio': 0, 'reasoning': 0}})}, 'run_id': '5b026120-7a7e-4b59-b2b2-af11e2da9211', 'name': 'ChatOpenAI', 'tags': ['seq:step:3'], 'metadata': {'ls_provider': 'openai', 'ls_model_name': 'gpt-4o-mini', 'ls_model_type': 'chat', 'ls_temperature': 0.0}, 'parent_ids': ['cc21ad78-0631-49b0-96c7-c8ee79641179']}\n",
      "{'event': 'on_parser_stream', 'run_id': '21c7055a-7eb9-4122-9241-ed98649d1a20', 'name': 'StrOutputParser', 'tags': ['seq:step:4'], 'metadata': {}, 'data': {'chunk': ''}, 'parent_ids': ['cc21ad78-0631-49b0-96c7-c8ee79641179']}\n",
      "{'event': 'on_chain_stream', 'run_id': 'cc21ad78-0631-49b0-96c7-c8ee79641179', 'name': 'RunnableSequence', 'tags': [], 'metadata': {}, 'data': {'chunk': ''}, 'parent_ids': []}\n",
      "{'event': 'on_chat_model_stream', 'data': {'chunk': AIMessageChunk(content='', additional_kwargs={}, response_metadata={}, id='lc_run--5b026120-7a7e-4b59-b2b2-af11e2da9211', chunk_position='last')}, 'run_id': '5b026120-7a7e-4b59-b2b2-af11e2da9211', 'name': 'ChatOpenAI', 'tags': ['seq:step:3'], 'metadata': {'ls_provider': 'openai', 'ls_model_name': 'gpt-4o-mini', 'ls_model_type': 'chat', 'ls_temperature': 0.0}, 'parent_ids': ['cc21ad78-0631-49b0-96c7-c8ee79641179']}\n",
      "{'event': 'on_parser_stream', 'run_id': '21c7055a-7eb9-4122-9241-ed98649d1a20', 'name': 'StrOutputParser', 'tags': ['seq:step:4'], 'metadata': {}, 'data': {'chunk': ''}, 'parent_ids': ['cc21ad78-0631-49b0-96c7-c8ee79641179']}\n",
      "{'event': 'on_chain_stream', 'run_id': 'cc21ad78-0631-49b0-96c7-c8ee79641179', 'name': 'RunnableSequence', 'tags': [], 'metadata': {}, 'data': {'chunk': ''}, 'parent_ids': []}\n",
      "{'event': 'on_chat_model_end', 'data': {'output': AIMessageChunk(content='東京の今日の天気は「晴時々曇」で、最高気温は37℃です。', additional_kwargs={}, response_metadata={'model_provider': 'openai', 'finish_reason': 'stop', 'model_name': 'gpt-4o-mini-2024-07-18', 'system_fingerprint': 'fp_51db84afab', 'service_tier': 'default'}, id='lc_run--5b026120-7a7e-4b59-b2b2-af11e2da9211', usage_metadata={'input_tokens': 671, 'output_tokens': 23, 'total_tokens': 694, 'input_token_details': {'audio': 0, 'cache_read': 0}, 'output_token_details': {'audio': 0, 'reasoning': 0}}, chunk_position='last'), 'input': {'messages': [[HumanMessage(content='以下の文脈だけを踏まえて質問に回答してください。\\n\\n文脈: \"\"\"\\n[Document(metadata={\\'title\\': \\'東京都 東京の天気 - 毎日新聞\\', \\'source\\': \\'https://mainichi.jp/weather/forecast/city/city_03_01_01.html\\', \\'score\\': 0.8737439, \\'images\\': []}, page_content=\\'* 全国の天気 * 週間天気予報 * アメダス実況 * 降水短時間予報 * 衛星雲画像 * 天気図 * 洗濯情報 * 台風 * 地震 * 警報・注意報 * 世界の天気 * 花粉情報 # 東京都\\\\xa0東京の天気 8月24日5時発表 ## 今日の天気\\\\xa0-\\\\xa08月24日(日) | 晴時々曇 | 最高気温\\\\xa0[前日差]  37℃\\\\xa0[\\\\xa0+1\\\\xa0] | 最低気温  - | | 時間帯 | 00-06時 | 06-12時 | 12-18時 | 18-24時 | ## 明日の天気\\\\xa0-\\\\xa08月25日(月) | 曇時々晴 | 最高気温  35℃ | 最低気温  27℃ | |  | 26日(火) | 27日(水) | 28日(木) | 29日(金) | 30日(土) | | 天気 | 曇時々晴 | 曇一時雨 | 曇 | 曇時々晴 | 曇時々晴 | | 最高気温 | 34℃ | 35℃ | 33℃ | 33℃ | 34℃ | | 最低気温 | 26℃ | 26℃ | 26℃ | 25℃ | 25℃ |\\'), Document(metadata={\\'title\\': \\'今日・明日と14日間(2週間)の1時間ごとの天気予報 - Toshin.com - 東進\\', \\'source\\': \\'https://www.toshin.com/weather/detail?id=66124\\', \\'score\\': 0.86024034, \\'images\\': []}, page_content=\\'リロードすると1時間ごとに更新されます。 所在地：東京都千代田区東京メトロ丸ノ内線. 今日の東京の天気は雨のち曇で、最高気温は24℃です\\'), Document(metadata={\\'title\\': \\'東京の天気予報 - ウェザーニュース\\', \\'source\\': \\'https://weathernews.jp/onebox/tenki/tokyo/\\', \\'score\\': 0.8003337, \\'images\\': []}, page_content=\\'今日は日差しのチャンスがあっても雲が多く、雨の降る可能性があります。一時的に強まることも。お出かけには雨具が必要です。朝晩は肌寒くても、昼間は過ごしやすい\\')]\\n\"\"\"\\n\\n質問: 東京の今日の天気は？\\n', additional_kwargs={}, response_metadata={})]]}}, 'run_id': '5b026120-7a7e-4b59-b2b2-af11e2da9211', 'name': 'ChatOpenAI', 'tags': ['seq:step:3'], 'metadata': {'ls_provider': 'openai', 'ls_model_name': 'gpt-4o-mini', 'ls_model_type': 'chat', 'ls_temperature': 0.0, 'LANGSMITH_PROJECT': 'agent-book', 'LANGSMITH_TRACING': 'true', 'LANGSMITH_ENDPOINT': 'https://api.smith.langchain.com', 'revision_id': 'ec71376'}, 'parent_ids': ['cc21ad78-0631-49b0-96c7-c8ee79641179']}\n",
      "{'event': 'on_parser_end', 'data': {'output': '東京の今日の天気は「晴時々曇」で、最高気温は37℃です。', 'input': AIMessageChunk(content='東京の今日の天気は「晴時々曇」で、最高気温は37℃です。', additional_kwargs={}, response_metadata={'model_provider': 'openai', 'finish_reason': 'stop', 'model_name': 'gpt-4o-mini-2024-07-18', 'system_fingerprint': 'fp_51db84afab', 'service_tier': 'default'}, id='lc_run--5b026120-7a7e-4b59-b2b2-af11e2da9211', usage_metadata={'input_tokens': 671, 'output_tokens': 23, 'total_tokens': 694, 'input_token_details': {'audio': 0, 'cache_read': 0}, 'output_token_details': {'audio': 0, 'reasoning': 0}}, chunk_position='last')}, 'run_id': '21c7055a-7eb9-4122-9241-ed98649d1a20', 'name': 'StrOutputParser', 'tags': ['seq:step:4'], 'metadata': {}, 'parent_ids': ['cc21ad78-0631-49b0-96c7-c8ee79641179']}\n",
      "{'event': 'on_chain_end', 'data': {'output': '東京の今日の天気は「晴時々曇」で、最高気温は37℃です。'}, 'run_id': 'cc21ad78-0631-49b0-96c7-c8ee79641179', 'name': 'RunnableSequence', 'tags': [], 'metadata': {}, 'parent_ids': []}\n"
     ]
    }
   ],
   "source": [
    "chain = (\n",
    "    {\"context\": retriever, \"question\": RunnablePassthrough()}\n",
    "    | prompt\n",
    "    | model\n",
    "    | StrOutputParser()\n",
    ")\n",
    "\n",
    "async for event in chain.astream_events(\"東京の今日の天気は？\", version=\"v2\"):\n",
    "    print(event, flush=True)\n"
   ]
  },
  {
   "cell_type": "code",
   "execution_count": 41,
   "metadata": {},
   "outputs": [
    {
     "name": "stdout",
     "output_type": "stream",
     "text": [
      "=== 検索結果 ===\n",
      "page_content='* 全国の天気 * 週間天気予報 * アメダス実況 * 降水短時間予報 * 衛星雲画像 * 天気図 * 洗濯情報 * 台風 * 地震 * 警報・注意報 * 世界の天気 * 花粉情報 # 東京都 東京の天気 8月24日5時発表 ## 今日の天気 - 8月24日(日) | 晴時々曇 | 最高気温 [前日差]  37℃ [ +1 ] | 最低気温  - | | 時間帯 | 00-06時 | 06-12時 | 12-18時 | 18-24時 | ## 明日の天気 - 8月25日(月) | 曇時々晴 | 最高気温  35℃ | 最低気温  27℃ | |  | 26日(火) | 27日(水) | 28日(木) | 29日(金) | 30日(土) | | 天気 | 曇時々晴 | 曇一時雨 | 曇 | 曇時々晴 | 曇時々晴 | | 最高気温 | 34℃ | 35℃ | 33℃ | 33℃ | 34℃ | | 最低気温 | 26℃ | 26℃ | 26℃ | 25℃ | 25℃ |' metadata={'title': '東京都 東京の天気 - 毎日新聞', 'source': 'https://mainichi.jp/weather/forecast/city/city_03_01_01.html', 'score': 0.8737439, 'images': []}\n",
      "page_content='リロードすると1時間ごとに更新されます。 所在地：東京都千代田区東京メトロ丸ノ内線. 今日の東京の天気は雨のち曇で、最高気温は24℃です' metadata={'title': '今日・明日と14日間(2週間)の1時間ごとの天気予報 - Toshin.com - 東進', 'source': 'https://www.toshin.com/weather/detail?id=66124', 'score': 0.86024034, 'images': []}\n",
      "page_content='今日は日差しのチャンスがあっても雲が多く、雨の降る可能性があります。一時的に強まることも。お出かけには雨具が必要です。朝晩は肌寒くても、昼間は過ごしやすい' metadata={'title': '東京の天気予報 - ウェザーニュース', 'source': 'https://weathernews.jp/onebox/tenki/tokyo/', 'score': 0.8003337, 'images': []}\n",
      "=== 最終出力 ===\n",
      "東京の今日の天気は「晴時々曇」で、最高気温は37℃です。"
     ]
    }
   ],
   "source": [
    "async for event in chain.astream_events(\"東京の今日の天気は？\", version=\"v2\"):\n",
    "    event_kind = event[\"event\"]\n",
    "\n",
    "    if event_kind == \"on_retriever_end\":\n",
    "        print(\"=== 検索結果 ===\")\n",
    "        documents = event[\"data\"][\"output\"]\n",
    "        for document in documents:\n",
    "            print(document)\n",
    "\n",
    "    elif event_kind == \"on_parser_start\":\n",
    "        print(\"=== 最終出力 ===\")\n",
    "\n",
    "    elif event_kind == \"on_parser_stream\":\n",
    "        chunk = event[\"data\"][\"chunk\"]\n",
    "        print(chunk, end=\"\", flush=True)\n"
   ]
  },
  {
   "cell_type": "markdown",
   "id": "b5262650",
   "metadata": {},
   "source": [
    "Chat history と Memory"
   ]
  },
  {
   "cell_type": "code",
   "execution_count": 42,
   "id": "639494f6",
   "metadata": {},
   "outputs": [],
   "source": [
    "from langchain_core.output_parsers import StrOutputParser\n",
    "from langchain_core.prompts import ChatPromptTemplate, MessagesPlaceholder\n",
    "from langchain_openai import ChatOpenAI\n",
    "\n",
    "model = ChatOpenAI(model=\"gpt-4o-mini\", temperature=0)\n",
    "\n",
    "prompt = ChatPromptTemplate.from_messages(\n",
    "    [\n",
    "        (\"system\", \"You are a helpful assistant.\"),\n",
    "        MessagesPlaceholder(\"chat_history\", optional=True),\n",
    "        (\"human\", \"{input}\"),\n",
    "    ]\n",
    ")\n",
    "\n",
    "chain = prompt | model | StrOutputParser()\n"
   ]
  },
  {
   "cell_type": "code",
   "execution_count": 43,
   "id": "630e02ca",
   "metadata": {},
   "outputs": [],
   "source": [
    "from langchain_community.chat_message_histories import SQLChatMessageHistory\n",
    "\n",
    "\n",
    "def respond(session_id: str, human_message: str) -> str:\n",
    "    # 会話履歴読み込み\n",
    "    chat_message_history = SQLChatMessageHistory(\n",
    "        session_id=session_id, connection=\"sqlite:///sqlite.db\"\n",
    "    )\n",
    "\n",
    "    # 返答生成\n",
    "    ai_message = chain.invoke(\n",
    "        {\n",
    "            \"chat_history\": chat_message_history.get_messages(),\n",
    "            \"input\": human_message,\n",
    "        }\n",
    "    )\n",
    "\n",
    "    # 会話記録\n",
    "    chat_message_history.add_user_message(human_message)\n",
    "    chat_message_history.add_ai_message(ai_message)\n",
    "\n",
    "    return ai_message\n"
   ]
  },
  {
   "cell_type": "code",
   "execution_count": 44,
   "id": "4d40c0fa",
   "metadata": {},
   "outputs": [
    {
     "name": "stdout",
     "output_type": "stream",
     "text": [
      "こんにちは、ジョンさん！お会いできて嬉しいです。今日はどんなことをお話ししましょうか？\n",
      "はい、あなたの名前はジョンさんですね！他に何かお話ししたいことがありますか？\n"
     ]
    }
   ],
   "source": [
    "from uuid import uuid4\n",
    "\n",
    "session_id = uuid4().hex\n",
    "\n",
    "output1 = respond(\n",
    "    session_id=session_id,\n",
    "    human_message=\"こんにちは！私はジョンと言います！\",\n",
    ")\n",
    "print(output1)\n",
    "\n",
    "output2 = respond(\n",
    "    session_id=session_id,\n",
    "    human_message=\"私の名前が分かりますか？\",\n",
    ")\n",
    "print(output2)"
   ]
  },
  {
   "cell_type": "code",
   "execution_count": null,
   "id": "770049d5",
   "metadata": {},
   "outputs": [],
   "source": []
  }
 ],
 "metadata": {
  "kernelspec": {
   "display_name": "tutorial-langchain",
   "language": "python",
   "name": "python3"
  },
  "language_info": {
   "codemirror_mode": {
    "name": "ipython",
    "version": 3
   },
   "file_extension": ".py",
   "mimetype": "text/x-python",
   "name": "python",
   "nbconvert_exporter": "python",
   "pygments_lexer": "ipython3",
   "version": "3.10.18"
  }
 },
 "nbformat": 4,
 "nbformat_minor": 5
}
