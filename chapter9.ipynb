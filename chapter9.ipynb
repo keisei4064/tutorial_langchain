{
 "cells": [
  {
   "cell_type": "markdown",
   "id": "a8ba6994",
   "metadata": {
    "vscode": {
     "languageId": "plaintext"
    }
   },
   "source": [
    "# 9章"
   ]
  },
  {
   "cell_type": "code",
   "execution_count": 1,
   "id": "b204348b",
   "metadata": {},
   "outputs": [],
   "source": [
    "ROLES = {\n",
    "    \"1\": {\n",
    "        \"name\": \"一般知識エキスパート\",\n",
    "        \"description\": \"幅広い分野の一般的な質問に答える\",\n",
    "        \"details\": \"幅広い分野の一般的な質問に対して、正確で分かりやすい回答を提供してください。\",\n",
    "    },\n",
    "    \"2\": {\n",
    "        \"name\": \"生成AI製品エキスパート\",\n",
    "        \"description\": \"生成AIや関連製品、技術に関する専門的な質問に答える\",\n",
    "        \"details\": \"生成AIや関連製品、技術に関する専門的な質問に対して、最新の情報と深い洞察を提供してください。\",\n",
    "    },\n",
    "    \"3\": {\n",
    "        \"name\": \"カウンセラー\",\n",
    "        \"description\": \"個人的な悩みや心理的な問題に対してサポートを提供する\",\n",
    "        \"details\": \"個人的な悩みや心理的な問題に対して、共感的で支援的な回答を提供し、可能であれば適切なアドバイスも行ってください。\",\n",
    "    },\n",
    "}\n"
   ]
  },
  {
   "cell_type": "code",
   "execution_count": 2,
   "id": "f7c041da",
   "metadata": {},
   "outputs": [],
   "source": [
    "import operator\n",
    "from typing import Annotated\n",
    "\n",
    "from pydantic import BaseModel, Field\n",
    "\n",
    "\n",
    "class State(BaseModel):\n",
    "    query: str = Field(..., description=\"ユーザーからの質問\")\n",
    "    current_role: str = Field(default=\"\", description=\"選定された回答ロール\")\n",
    "    messages: Annotated[list[str], operator.add] = Field(\n",
    "        default=[], description=\"回答履歴\"\n",
    "    )\n",
    "    current_judge: bool = Field(default=False, description=\"品質チェックの結果\")\n",
    "    judgement_reason: str = Field(default=\"\", description=\"品質チェックの判定理由\")\n"
   ]
  },
  {
   "cell_type": "code",
   "execution_count": 3,
   "id": "93e44f47",
   "metadata": {},
   "outputs": [],
   "source": [
    "from langchain_openai import ChatOpenAI\n",
    "from langchain_core.runnables import ConfigurableField\n",
    "\n",
    "llm = ChatOpenAI(model=\"gpt-4o\", temperature=0.0)\n",
    "# 後からmax_tokensの値を変更できるように、変更可能なフィールドを宣言\n",
    "llm = llm.configurable_fields(max_tokens=ConfigurableField(id=\"max_tokens\"))\n"
   ]
  },
  {
   "cell_type": "code",
   "execution_count": 4,
   "id": "43128104",
   "metadata": {},
   "outputs": [],
   "source": [
    "from typing import Any\n",
    "\n",
    "from langchain_core.prompts import ChatPromptTemplate\n",
    "from langchain_core.output_parsers import StrOutputParser\n",
    "\n",
    "\n",
    "def selection_node(state: State) -> dict[str, Any]:\n",
    "    query = state.query\n",
    "    role_options = \"\\n\".join(\n",
    "        [f\"{k}. {v['name']}: {v['description']}\" for k, v in ROLES.items()]\n",
    "    )\n",
    "    prompt = ChatPromptTemplate.from_template(\n",
    "        \"\"\"質問を分析し、最も適切な回答担当ロールを選択してください。\n",
    "\n",
    "選択肢:\n",
    "{role_options}\n",
    "\n",
    "回答は選択肢の番号（1、2、または3）のみを返してください。\n",
    "\n",
    "質問: {query}\n",
    "\"\"\".strip()\n",
    "    )\n",
    "    # 選択肢の番号のみを返すことを期待したいため、max_tokensの値を1に変更\n",
    "    chain = (\n",
    "        prompt | llm.with_config(configurable=dict(max_tokens=1)) | StrOutputParser()\n",
    "    )\n",
    "    role_number = chain.invoke({\"role_options\": role_options, \"query\": query})\n",
    "\n",
    "    selected_role = ROLES[role_number.strip()][\"name\"]\n",
    "    return {\"current_role\": selected_role}\n"
   ]
  },
  {
   "cell_type": "code",
   "execution_count": 5,
   "id": "93f6207c",
   "metadata": {},
   "outputs": [],
   "source": [
    "def answering_node(state: State) -> dict[str, Any]:\n",
    "    query = state.query\n",
    "    role = state.current_role\n",
    "    role_details = \"\\n\".join([f\"- {v['name']}: {v['details']}\" for v in ROLES.values()])\n",
    "    prompt = ChatPromptTemplate.from_template(\n",
    "        \"\"\"あなたは{role}として回答してください。以下の質問に対して、あなたの役割に基づいた適切な回答を提供してください。\n",
    "\n",
    "役割の詳細:\n",
    "{role_details}\n",
    "\n",
    "質問: {query}\n",
    "\n",
    "回答:\"\"\".strip()\n",
    "    )\n",
    "    chain = prompt | llm | StrOutputParser()\n",
    "    answer = chain.invoke({\"role\": role, \"role_details\": role_details, \"query\": query})\n",
    "    return {\"messages\": [answer]}"
   ]
  },
  {
   "cell_type": "code",
   "execution_count": 6,
   "id": "e98e217f",
   "metadata": {},
   "outputs": [],
   "source": [
    "class Judgement(BaseModel):\n",
    "    judge: bool = Field(default=False, description=\"判定結果\")\n",
    "    reason: str = Field(default=\"\", description=\"判定理由\")\n",
    "\n",
    "\n",
    "def check_node(state: State) -> dict[str, Any]:\n",
    "    query = state.query\n",
    "    answer = state.messages[-1]\n",
    "    prompt = ChatPromptTemplate.from_template(\n",
    "        \"\"\"以下の回答の品質をチェックし、問題がある場合は'False'、問題がない場合は'True'を回答してください。\n",
    "また、その判断理由も説明してください。\n",
    "\n",
    "ユーザーからの質問: {query}\n",
    "回答: {answer}\n",
    "\"\"\".strip()\n",
    "    )\n",
    "    chain = prompt | llm.with_structured_output(Judgement)\n",
    "    result: Judgement = chain.invoke({\"query\": query, \"answer\": answer})\n",
    "\n",
    "    return {\"current_judge\": result.judge, \"judgement_reason\": result.reason}"
   ]
  },
  {
   "cell_type": "code",
   "execution_count": 7,
   "id": "4357873c",
   "metadata": {},
   "outputs": [],
   "source": [
    "from langgraph.graph import StateGraph\n",
    "\n",
    "workflow = StateGraph(State)"
   ]
  },
  {
   "cell_type": "code",
   "execution_count": 8,
   "id": "39f5f97d",
   "metadata": {},
   "outputs": [
    {
     "data": {
      "text/plain": [
       "<langgraph.graph.state.StateGraph at 0x716fedd6fc10>"
      ]
     },
     "execution_count": 8,
     "metadata": {},
     "output_type": "execute_result"
    }
   ],
   "source": [
    "workflow.add_node(\"selection\", selection_node)\n",
    "workflow.add_node(\"answering\", answering_node)\n",
    "workflow.add_node(\"check\", check_node)"
   ]
  },
  {
   "cell_type": "code",
   "execution_count": 9,
   "id": "67a08af6",
   "metadata": {},
   "outputs": [
    {
     "data": {
      "text/plain": [
       "<langgraph.graph.state.StateGraph at 0x716fedd6fc10>"
      ]
     },
     "execution_count": 9,
     "metadata": {},
     "output_type": "execute_result"
    }
   ],
   "source": [
    "# selectionノードから処理を開始\n",
    "workflow.set_entry_point(\"selection\")\n",
    "# selectionノードからansweringノードへ\n",
    "workflow.add_edge(\"selection\", \"answering\")\n",
    "# answeringノードからcheckノードへ\n",
    "workflow.add_edge(\"answering\", \"check\")"
   ]
  },
  {
   "cell_type": "code",
   "execution_count": 10,
   "id": "e7518850",
   "metadata": {},
   "outputs": [
    {
     "data": {
      "text/plain": [
       "<langgraph.graph.state.StateGraph at 0x716fedd6fc10>"
      ]
     },
     "execution_count": 10,
     "metadata": {},
     "output_type": "execute_result"
    }
   ],
   "source": [
    "from langgraph.graph import END\n",
    "\n",
    "# checkノードから次のノードへの遷移に条件付きエッジを定義\n",
    "# state.current_judgeの値がTrueならENDノードへ、Falseならselectionノードへ\n",
    "workflow.add_conditional_edges(\n",
    "    \"check\", lambda state: state.current_judge, {True: END, False: \"selection\"}\n",
    ")"
   ]
  },
  {
   "cell_type": "code",
   "execution_count": 11,
   "id": "139ec58e",
   "metadata": {},
   "outputs": [],
   "source": [
    "compiled = workflow.compile()"
   ]
  },
  {
   "cell_type": "code",
   "execution_count": 12,
   "id": "5e8b43bb",
   "metadata": {},
   "outputs": [],
   "source": [
    "initial_state = State(query=\"生成AIについて教えてください\")\n",
    "result = compiled.invoke(initial_state)\n"
   ]
  },
  {
   "cell_type": "code",
   "execution_count": 13,
   "id": "5c4e509d",
   "metadata": {},
   "outputs": [
    {
     "data": {
      "text/plain": [
       "{'query': '生成AIについて教えてください',\n",
       " 'current_role': '生成AI製品エキスパート',\n",
       " 'messages': ['生成AI製品エキスパートとしてお答えします。\\n\\n生成AI（生成的人工知能）は、データから新しいコンテンツを生成する能力を持つAI技術の一種です。これには、テキスト、画像、音声、音楽、ビデオなど、さまざまな形式のコンテンツが含まれます。生成AIの代表的な技術には、自然言語処理（NLP）を用いたテキスト生成モデルや、画像生成を行うGAN（生成的敵対ネットワーク）などがあります。\\n\\n生成AIの応用例としては、以下のようなものがあります：\\n\\n1. **テキスト生成**: 自然言語処理技術を用いて、文章の自動生成や要約、翻訳を行います。例えば、OpenAIのGPTシリーズは、非常に高品質なテキスト生成が可能です。\\n\\n2. **画像生成**: GANを用いて、新しい画像を生成します。これにより、アート作品の創作や、写真のスタイル変換、顔の合成などが可能です。\\n\\n3. **音楽生成**: AIが音楽を作曲することも可能で、特定のスタイルやジャンルに基づいた新しい楽曲を生成します。\\n\\n4. **音声合成**: テキストを音声に変換する技術で、自然な音声での読み上げが可能です。これにより、音声アシスタントやナレーションの自動生成が行われます。\\n\\n生成AIは、クリエイティブなプロセスを支援し、新しいアイデアやコンテンツを生み出すための強力なツールとして、さまざまな分野で活用されています。しかし、倫理的な問題や著作権の問題も伴うため、適切な利用が求められます。'],\n",
       " 'current_judge': True,\n",
       " 'judgement_reason': 'この回答は、生成AIについての基本的な情報を網羅的に提供しており、ユーザーの質問に対して適切に答えています。以下の点で品質が高いと判断できます。\\n\\n1. **明確な定義**: 生成AIの定義が明確に示されており、どのような形式のコンテンツを生成できるかが具体的に説明されています。\\n\\n2. **技術の例示**: 生成AIの代表的な技術として、自然言語処理やGANが挙げられており、技術的な背景が理解しやすくなっています。\\n\\n3. **応用例の提示**: テキスト生成、画像生成、音楽生成、音声合成といった具体的な応用例が示されており、生成AIの実用性が伝わります。\\n\\n4. **倫理的考慮**: 生成AIの利用に伴う倫理的な問題や著作権の問題についても触れられており、バランスの取れた視点が提供されています。\\n\\nこれらの理由から、この回答はユーザーの質問に対して適切であり、問題がないと判断しました。'}"
      ]
     },
     "execution_count": 13,
     "metadata": {},
     "output_type": "execute_result"
    }
   ],
   "source": [
    "result"
   ]
  },
  {
   "cell_type": "code",
   "execution_count": 14,
   "id": "0e4edcfa",
   "metadata": {},
   "outputs": [
    {
     "name": "stdout",
     "output_type": "stream",
     "text": [
      "生成AI製品エキスパートとしてお答えします。\n",
      "\n",
      "生成AI（生成的人工知能）は、データから新しいコンテンツを生成する能力を持つAI技術の一種です。これには、テキスト、画像、音声、音楽、ビデオなど、さまざまな形式のコンテンツが含まれます。生成AIの代表的な技術には、自然言語処理（NLP）を用いたテキスト生成モデルや、画像生成を行うGAN（生成的敵対ネットワーク）などがあります。\n",
      "\n",
      "生成AIの応用例としては、以下のようなものがあります：\n",
      "\n",
      "1. **テキスト生成**: 自然言語処理技術を用いて、文章の自動生成や要約、翻訳を行います。例えば、OpenAIのGPTシリーズは、非常に高品質なテキスト生成が可能です。\n",
      "\n",
      "2. **画像生成**: GANを用いて、新しい画像を生成します。これにより、アート作品の創作や、写真のスタイル変換、顔の合成などが可能です。\n",
      "\n",
      "3. **音楽生成**: AIが音楽を作曲することも可能で、特定のスタイルやジャンルに基づいた新しい楽曲を生成します。\n",
      "\n",
      "4. **音声合成**: テキストを音声に変換する技術で、自然な音声での読み上げが可能です。これにより、音声アシスタントやナレーションの自動生成が行われます。\n",
      "\n",
      "生成AIは、クリエイティブなプロセスを支援し、新しいアイデアやコンテンツを生み出すための強力なツールとして、さまざまな分野で活用されています。しかし、倫理的な問題や著作権の問題も伴うため、適切な利用が求められます。\n"
     ]
    }
   ],
   "source": [
    "print(result[\"messages\"][-1])"
   ]
  },
  {
   "cell_type": "code",
   "execution_count": 15,
   "id": "5744da40",
   "metadata": {},
   "outputs": [
    {
     "data": {
      "text/plain": [
       "{'query': '生成AIについて教えてください',\n",
       " 'current_role': '生成AI製品エキスパート',\n",
       " 'messages': ['生成AI製品エキスパートとしてお答えします。\\n\\n生成AI（生成的人工知能）は、データから新しいコンテンツを生成する能力を持つAI技術の一分野です。これには、テキスト、画像、音声、動画などの多様な形式のコンテンツが含まれます。生成AIの代表的な技術には、GPT（Generative Pre-trained Transformer）やGAN（Generative Adversarial Network）などがあります。\\n\\nGPTは、特に自然言語処理において強力なモデルであり、人間のようなテキストを生成する能力があります。これにより、チャットボット、文章生成、翻訳、要約などのアプリケーションで広く利用されています。\\n\\n一方、GANは、二つのニューラルネットワーク（生成者と識別者）が競い合うことで、非常にリアルな画像や動画を生成することができます。これにより、画像の生成や修正、スタイル変換などの分野で活用されています。\\n\\n生成AIは、クリエイティブなプロセスを支援し、効率を向上させる一方で、倫理的な問題や誤用のリスクも伴います。例えば、フェイクニュースの生成や著作権の侵害などが懸念されています。そのため、生成AIの開発と利用には、倫理的な配慮と責任が求められます。\\n\\nこの分野は急速に進化しており、今後も新しい技術や応用が登場することが期待されています。'],\n",
       " 'current_judge': True,\n",
       " 'judgement_reason': 'この回答は、生成AIについての基本的な情報を網羅的に説明しており、特に問題は見当たりません。以下の点で評価できます。\\n\\n1. **定義の明確さ**: 生成AIの定義が明確に示されており、どのような形式のコンテンツを生成できるかが具体的に説明されています。\\n\\n2. **技術の紹介**: GPTとGANという代表的な技術が紹介され、それぞれの特徴と応用例が具体的に述べられています。\\n\\n3. **倫理的配慮**: 生成AIの利点だけでなく、倫理的な問題や誤用のリスクについても言及されており、バランスの取れた視点が提供されています。\\n\\n4. **将来の展望**: 生成AIの分野が急速に進化していることに触れ、今後の技術の発展に対する期待感を示しています。\\n\\n全体として、ユーザーに対して生成AIの基本的な理解を提供するのに十分な内容であり、特に改善が必要な点は見当たりません。'}"
      ]
     },
     "execution_count": 15,
     "metadata": {},
     "output_type": "execute_result"
    }
   ],
   "source": [
    "initial_state = State(query=\"生成AIについて教えてください\")\n",
    "result = await compiled.ainvoke(initial_state)  # 非同期\n",
    "result\n"
   ]
  },
  {
   "cell_type": "code",
   "execution_count": 16,
   "id": "548c2657",
   "metadata": {},
   "outputs": [
    {
     "name": "stdout",
     "output_type": "stream",
     "text": [
      "{'selection': {'current_role': '生成AI製品エキスパート'}}\n",
      "{'answering': {'messages': ['生成AI製品エキスパートとしてお答えします。\\n\\n生成AI（生成的人工知能）は、データから新しいコンテンツを生成する能力を持つAI技術の一分野です。これには、テキスト、画像、音声、動画などの生成が含まれます。生成AIの代表的な技術には、以下のようなものがあります。\\n\\n1. **GPT（Generative Pre-trained Transformer）**: これは、OpenAIが開発した自然言語処理モデルで、大量のテキストデータを基にして人間のような文章を生成することができます。GPT-3やGPT-4などのバージョンがあり、さまざまなアプリケーションで利用されています。\\n\\n2. **GAN（Generative Adversarial Networks）**: これは、2つのニューラルネットワーク（生成者と識別者）が競い合うことで、リアルなデータを生成する技術です。特に画像生成の分野で多く利用されており、写真のようなリアルな画像を生成することが可能です。\\n\\n3. **VAE（Variational Autoencoders）**: これは、データの潜在的な特徴を学習し、新しいデータを生成するためのモデルです。主に画像や音声の生成に使われます。\\n\\n生成AIは、クリエイティブなコンテンツの制作、自動化されたカスタマーサービス、医療診断の支援、教育コンテンツの生成など、さまざまな分野で応用されています。しかし、生成AIの利用には倫理的な課題も伴い、フェイクニュースの生成やプライバシーの侵害といった問題に対する対策が求められています。\\n\\nこの分野は急速に進化しており、今後も新しい技術や応用が登場することが期待されています。']}}\n",
      "{'check': {'current_judge': True, 'judgement_reason': 'この回答は、生成AIについての基本的な情報を網羅的に提供しており、ユーザーの質問に対して適切に応答しています。以下の点で品質が高いと判断できます。\\n\\n1. **明確な定義**: 生成AIの定義が明確に示されており、どのようなコンテンツを生成できるかが具体的に説明されています。\\n\\n2. **代表的な技術の紹介**: GPT、GAN、VAEといった代表的な生成AI技術が紹介され、それぞれの特徴や用途が簡潔に説明されています。\\n\\n3. **応用分野の提示**: 生成AIがどのような分野で応用されているかが具体的に示されており、ユーザーがその実用性を理解しやすくなっています。\\n\\n4. **倫理的課題の指摘**: 生成AIの利用に伴う倫理的な課題についても触れられており、バランスの取れた視点が提供されています。\\n\\n5. **将来の展望**: 生成AIの進化と今後の期待についても言及されており、ユーザーに対してこの分野の動向を理解する手助けとなっています。\\n\\nこれらの理由から、回答の品質に問題はなく、ユーザーの質問に対して適切に応答していると判断できます。'}}\n"
     ]
    }
   ],
   "source": [
    "initial_state = State(query=\"生成AIについて教えてください\")\n",
    "for step in compiled.stream(initial_state):  # 逐次取得\n",
    "    print(step)"
   ]
  },
  {
   "cell_type": "code",
   "execution_count": 17,
   "id": "4973fc06",
   "metadata": {},
   "outputs": [
    {
     "data": {
      "image/png": "[encoded data removed]",
      "text/plain": [
       "<IPython.core.display.Image object>"
      ]
     },
     "execution_count": 17,
     "metadata": {},
     "output_type": "execute_result"
    }
   ],
   "source": [
    "from IPython.display import Image\n",
    "\n",
    "Image(compiled.get_graph().draw_png())"
   ]
  },
  {
   "cell_type": "markdown",
   "id": "c65f3b4e",
   "metadata": {},
   "source": [
    "## 9.4"
   ]
  },
  {
   "cell_type": "code",
   "execution_count": 18,
   "id": "139ed746",
   "metadata": {},
   "outputs": [],
   "source": [
    "import operator\n",
    "from typing import Annotated, Any\n",
    "from langchain_core.messages import SystemMessage, HumanMessage, BaseMessage\n",
    "from langchain_openai import ChatOpenAI\n",
    "from pydantic import BaseModel, Field\n",
    "\n",
    "\n",
    "# グラフのステートを定義\n",
    "class State(BaseModel):\n",
    "    query: str\n",
    "    messages: Annotated[list[BaseMessage], operator.add] = Field(default=[])\n",
    "\n",
    "\n",
    "# メッセージを追加するノード関数\n",
    "def add_message(state: State) -> dict[str, Any]:\n",
    "    additional_messages = []\n",
    "    if not state.messages:\n",
    "        additional_messages.append(\n",
    "            SystemMessage(content=\"あなたは最小限の応答をする対話エージェントです。\")\n",
    "        )\n",
    "    additional_messages.append(HumanMessage(content=state.query))\n",
    "    return {\"messages\": additional_messages}\n",
    "\n",
    "\n",
    "# LLMからの応答を追加するノード関数\n",
    "def llm_response(state: State) -> dict[str, Any]:\n",
    "    llm = ChatOpenAI(model=\"gpt-4o-mini\", temperature=0.5)\n",
    "    ai_message = llm.invoke(state.messages)\n",
    "    return {\"messages\": [ai_message]}\n"
   ]
  },
  {
   "cell_type": "code",
   "execution_count": 19,
   "id": "47ef0be4",
   "metadata": {},
   "outputs": [],
   "source": [
    "from pprint import pprint\n",
    "from langchain_core.runnables import RunnableConfig\n",
    "from langgraph.checkpoint.base import BaseCheckpointSaver\n",
    "\n",
    "\n",
    "def print_checkpoint_dump(checkpointer: BaseCheckpointSaver, config: RunnableConfig):\n",
    "    checkpoint_tuple = checkpointer.get_tuple(config)\n",
    "\n",
    "    print(\"チェックポイントデータ:\")\n",
    "    pprint(checkpoint_tuple.checkpoint)\n",
    "    print(\"\\nメタデータ:\")\n",
    "    pprint(checkpoint_tuple.metadata)\n"
   ]
  },
  {
   "cell_type": "code",
   "execution_count": 20,
   "id": "20ac70c4",
   "metadata": {},
   "outputs": [],
   "source": [
    "from langgraph.graph import StateGraph, END\n",
    "from langgraph.checkpoint.memory import MemorySaver\n",
    "\n",
    "# グラフを設定\n",
    "graph = StateGraph(State)\n",
    "graph.add_node(\"add_message\", add_message)\n",
    "graph.add_node(\"llm_response\", llm_response)\n",
    "\n",
    "graph.set_entry_point(\"add_message\")\n",
    "graph.add_edge(\"add_message\", \"llm_response\")\n",
    "graph.add_edge(\"llm_response\", END)\n",
    "\n",
    "# チェックポインターを設定\n",
    "checkpointer = MemorySaver()\n",
    "\n",
    "# グラフをコンパイル\n",
    "compiled_graph = graph.compile(checkpointer=checkpointer)\n"
   ]
  },
  {
   "cell_type": "code",
   "execution_count": 21,
   "id": "ec998720",
   "metadata": {},
   "outputs": [
    {
     "data": {
      "text/plain": [
       "{'query': '私の好きなものはずんだ餅です。覚えておいてね。',\n",
       " 'messages': [SystemMessage(content='あなたは最小限の応答をする対話エージェントです。', additional_kwargs={}, response_metadata={}),\n",
       "  HumanMessage(content='私の好きなものはずんだ餅です。覚えておいてね。', additional_kwargs={}, response_metadata={}),\n",
       "  AIMessage(content='了解しました。ずんだ餅ですね。', additional_kwargs={'refusal': None}, response_metadata={'token_usage': {'completion_tokens': 10, 'prompt_tokens': 48, 'total_tokens': 58, 'completion_tokens_details': {'accepted_prediction_tokens': 0, 'audio_tokens': 0, 'reasoning_tokens': 0, 'rejected_prediction_tokens': 0}, 'prompt_tokens_details': {'audio_tokens': 0, 'cached_tokens': 0}}, 'model_provider': 'openai', 'model_name': 'gpt-4o-mini-2024-07-18', 'system_fingerprint': 'fp_560af6e559', 'id': 'chatcmpl-CSyXNJczluijk7uFOq90q4sfj3SCf', 'service_tier': 'default', 'finish_reason': 'stop', 'logprobs': None}, id='lc_run--0e8dae4c-13e2-4eea-9b01-91f4099af0f6-0', usage_metadata={'input_tokens': 48, 'output_tokens': 10, 'total_tokens': 58, 'input_token_details': {'audio': 0, 'cache_read': 0}, 'output_token_details': {'audio': 0, 'reasoning': 0}})]}"
      ]
     },
     "execution_count": 21,
     "metadata": {},
     "output_type": "execute_result"
    }
   ],
   "source": [
    "config = {\"configurable\": {\"thread_id\": \"example-1\"}}\n",
    "user_query = State(query=\"私の好きなものはずんだ餅です。覚えておいてね。\")\n",
    "first_response = compiled_graph.invoke(user_query, config)\n",
    "first_response\n"
   ]
  },
  {
   "cell_type": "code",
   "execution_count": 22,
   "id": "c4afff60",
   "metadata": {},
   "outputs": [
    {
     "name": "stdout",
     "output_type": "stream",
     "text": [
      "CheckpointTuple(config={'configurable': {'thread_id': 'example-1', 'checkpoint_ns': '', 'checkpoint_id': '1f0ae38c-31fc-6f5a-8002-e00c8fddce2c'}}, checkpoint={'v': 4, 'ts': '2025-10-21T04:45:26.352869+00:00', 'id': '1f0ae38c-31fc-6f5a-8002-e00c8fddce2c', 'channel_versions': {'__start__': '00000000000000000000000000000002.0.727057819971006', 'query': '00000000000000000000000000000002.0.727057819971006', 'messages': '00000000000000000000000000000004.0.46338861210284155', 'branch:to:add_message': '00000000000000000000000000000003.0.3172903045008276', 'branch:to:llm_response': '00000000000000000000000000000004.0.46338861210284155'}, 'versions_seen': {'__input__': {}, '__start__': {'__start__': '00000000000000000000000000000001.0.8070223456706067'}, 'add_message': {'branch:to:add_message': '00000000000000000000000000000002.0.727057819971006'}, 'llm_response': {'branch:to:llm_response': '00000000000000000000000000000003.0.3172903045008276'}}, 'updated_channels': ['messages'], 'channel_values': {'query': '私の好きなものはずんだ餅です。覚えておいてね。', 'messages': [SystemMessage(content='あなたは最小限の応答をする対話エージェントです。', additional_kwargs={}, response_metadata={}), HumanMessage(content='私の好きなものはずんだ餅です。覚えておいてね。', additional_kwargs={}, response_metadata={}), AIMessage(content='了解しました。ずんだ餅ですね。', additional_kwargs={'refusal': None}, response_metadata={'token_usage': {'completion_tokens': 10, 'prompt_tokens': 48, 'total_tokens': 58, 'completion_tokens_details': {'accepted_prediction_tokens': 0, 'audio_tokens': 0, 'reasoning_tokens': 0, 'rejected_prediction_tokens': 0}, 'prompt_tokens_details': {'audio_tokens': 0, 'cached_tokens': 0}}, 'model_provider': 'openai', 'model_name': 'gpt-4o-mini-2024-07-18', 'system_fingerprint': 'fp_560af6e559', 'id': 'chatcmpl-CSyXNJczluijk7uFOq90q4sfj3SCf', 'service_tier': 'default', 'finish_reason': 'stop', 'logprobs': None}, id='lc_run--0e8dae4c-13e2-4eea-9b01-91f4099af0f6-0', usage_metadata={'input_tokens': 48, 'output_tokens': 10, 'total_tokens': 58, 'input_token_details': {'audio': 0, 'cache_read': 0}, 'output_token_details': {'audio': 0, 'reasoning': 0}})]}}, metadata={'source': 'loop', 'step': 2, 'parents': {}}, parent_config={'configurable': {'thread_id': 'example-1', 'checkpoint_ns': '', 'checkpoint_id': '1f0ae38c-22af-69cb-8001-10645683ff6d'}}, pending_writes=[])\n",
      "CheckpointTuple(config={'configurable': {'thread_id': 'example-1', 'checkpoint_ns': '', 'checkpoint_id': '1f0ae38c-22af-69cb-8001-10645683ff6d'}}, checkpoint={'v': 4, 'ts': '2025-10-21T04:45:24.748329+00:00', 'id': '1f0ae38c-22af-69cb-8001-10645683ff6d', 'channel_versions': {'__start__': '00000000000000000000000000000002.0.727057819971006', 'query': '00000000000000000000000000000002.0.727057819971006', 'messages': '00000000000000000000000000000003.0.3172903045008276', 'branch:to:add_message': '00000000000000000000000000000003.0.3172903045008276', 'branch:to:llm_response': '00000000000000000000000000000003.0.3172903045008276'}, 'versions_seen': {'__input__': {}, '__start__': {'__start__': '00000000000000000000000000000001.0.8070223456706067'}, 'add_message': {'branch:to:add_message': '00000000000000000000000000000002.0.727057819971006'}}, 'updated_channels': ['branch:to:llm_response', 'messages'], 'channel_values': {'query': '私の好きなものはずんだ餅です。覚えておいてね。', 'messages': [SystemMessage(content='あなたは最小限の応答をする対話エージェントです。', additional_kwargs={}, response_metadata={}), HumanMessage(content='私の好きなものはずんだ餅です。覚えておいてね。', additional_kwargs={}, response_metadata={})], 'branch:to:llm_response': None}}, metadata={'source': 'loop', 'step': 1, 'parents': {}}, parent_config={'configurable': {'thread_id': 'example-1', 'checkpoint_ns': '', 'checkpoint_id': '1f0ae38c-22ac-6a7d-8000-76a4e8b8c289'}}, pending_writes=[('85cd7d55-4e81-d727-5faf-117c1b5761e1', 'messages', [AIMessage(content='了解しました。ずんだ餅ですね。', additional_kwargs={'refusal': None}, response_metadata={'token_usage': {'completion_tokens': 10, 'prompt_tokens': 48, 'total_tokens': 58, 'completion_tokens_details': {'accepted_prediction_tokens': 0, 'audio_tokens': 0, 'reasoning_tokens': 0, 'rejected_prediction_tokens': 0}, 'prompt_tokens_details': {'audio_tokens': 0, 'cached_tokens': 0}}, 'model_provider': 'openai', 'model_name': 'gpt-4o-mini-2024-07-18', 'system_fingerprint': 'fp_560af6e559', 'id': 'chatcmpl-CSyXNJczluijk7uFOq90q4sfj3SCf', 'service_tier': 'default', 'finish_reason': 'stop', 'logprobs': None}, id='lc_run--0e8dae4c-13e2-4eea-9b01-91f4099af0f6-0', usage_metadata={'input_tokens': 48, 'output_tokens': 10, 'total_tokens': 58, 'input_token_details': {'audio': 0, 'cache_read': 0}, 'output_token_details': {'audio': 0, 'reasoning': 0}})])])\n",
      "CheckpointTuple(config={'configurable': {'thread_id': 'example-1', 'checkpoint_ns': '', 'checkpoint_id': '1f0ae38c-22ac-6a7d-8000-76a4e8b8c289'}}, checkpoint={'v': 4, 'ts': '2025-10-21T04:45:24.747115+00:00', 'id': '1f0ae38c-22ac-6a7d-8000-76a4e8b8c289', 'channel_versions': {'__start__': '00000000000000000000000000000002.0.727057819971006', 'query': '00000000000000000000000000000002.0.727057819971006', 'messages': '00000000000000000000000000000002.0.727057819971006', 'branch:to:add_message': '00000000000000000000000000000002.0.727057819971006'}, 'versions_seen': {'__input__': {}, '__start__': {'__start__': '00000000000000000000000000000001.0.8070223456706067'}}, 'updated_channels': ['branch:to:add_message', 'messages', 'query'], 'channel_values': {'query': '私の好きなものはずんだ餅です。覚えておいてね。', 'messages': [], 'branch:to:add_message': None}}, metadata={'source': 'loop', 'step': 0, 'parents': {}}, parent_config={'configurable': {'thread_id': 'example-1', 'checkpoint_ns': '', 'checkpoint_id': '1f0ae38c-22aa-6cd0-bfff-d22169d8ce29'}}, pending_writes=[('710e372b-a191-cc82-4a6b-2e2abb5eb8e0', 'messages', [SystemMessage(content='あなたは最小限の応答をする対話エージェントです。', additional_kwargs={}, response_metadata={}), HumanMessage(content='私の好きなものはずんだ餅です。覚えておいてね。', additional_kwargs={}, response_metadata={})]), ('710e372b-a191-cc82-4a6b-2e2abb5eb8e0', 'branch:to:llm_response', None)])\n",
      "CheckpointTuple(config={'configurable': {'thread_id': 'example-1', 'checkpoint_ns': '', 'checkpoint_id': '1f0ae38c-22aa-6cd0-bfff-d22169d8ce29'}}, checkpoint={'v': 4, 'ts': '2025-10-21T04:45:24.746347+00:00', 'id': '1f0ae38c-22aa-6cd0-bfff-d22169d8ce29', 'channel_versions': {'__start__': '00000000000000000000000000000001.0.8070223456706067'}, 'versions_seen': {'__input__': {}}, 'updated_channels': ['__start__'], 'channel_values': {'__start__': State(query='私の好きなものはずんだ餅です。覚えておいてね。', messages=[])}}, metadata={'source': 'input', 'step': -1, 'parents': {}}, parent_config=None, pending_writes=[('55a46f54-4cf3-dc44-0fc5-4077c30ca814', 'query', '私の好きなものはずんだ餅です。覚えておいてね。'), ('55a46f54-4cf3-dc44-0fc5-4077c30ca814', 'messages', []), ('55a46f54-4cf3-dc44-0fc5-4077c30ca814', 'branch:to:add_message', None)])\n"
     ]
    }
   ],
   "source": [
    "for checkpoint in checkpointer.list(config):\n",
    "    print(checkpoint)\n"
   ]
  },
  {
   "cell_type": "code",
   "execution_count": 23,
   "id": "161516d3",
   "metadata": {},
   "outputs": [
    {
     "name": "stdout",
     "output_type": "stream",
     "text": [
      "チェックポイントデータ:\n",
      "{'channel_values': {'messages': [SystemMessage(content='あなたは最小限の応答をする対話エージェントです。', additional_kwargs={}, response_metadata={}),\n",
      "                                 HumanMessage(content='私の好きなものはずんだ餅です。覚えておいてね。', additional_kwargs={}, response_metadata={}),\n",
      "                                 AIMessage(content='了解しました。ずんだ餅ですね。', additional_kwargs={'refusal': None}, response_metadata={'token_usage': {'completion_tokens': 10, 'prompt_tokens': 48, 'total_tokens': 58, 'completion_tokens_details': {'accepted_prediction_tokens': 0, 'audio_tokens': 0, 'reasoning_tokens': 0, 'rejected_prediction_tokens': 0}, 'prompt_tokens_details': {'audio_tokens': 0, 'cached_tokens': 0}}, 'model_provider': 'openai', 'model_name': 'gpt-4o-mini-2024-07-18', 'system_fingerprint': 'fp_560af6e559', 'id': 'chatcmpl-CSyXNJczluijk7uFOq90q4sfj3SCf', 'service_tier': 'default', 'finish_reason': 'stop', 'logprobs': None}, id='lc_run--0e8dae4c-13e2-4eea-9b01-91f4099af0f6-0', usage_metadata={'input_tokens': 48, 'output_tokens': 10, 'total_tokens': 58, 'input_token_details': {'audio': 0, 'cache_read': 0}, 'output_token_details': {'audio': 0, 'reasoning': 0}})],\n",
      "                    'query': '私の好きなものはずんだ餅です。覚えておいてね。'},\n",
      " 'channel_versions': {'__start__': '00000000000000000000000000000002.0.727057819971006',\n",
      "                      'branch:to:add_message': '00000000000000000000000000000003.0.3172903045008276',\n",
      "                      'branch:to:llm_response': '00000000000000000000000000000004.0.46338861210284155',\n",
      "                      'messages': '00000000000000000000000000000004.0.46338861210284155',\n",
      "                      'query': '00000000000000000000000000000002.0.727057819971006'},\n",
      " 'id': '1f0ae38c-31fc-6f5a-8002-e00c8fddce2c',\n",
      " 'ts': '2025-10-21T04:45:26.352869+00:00',\n",
      " 'updated_channels': ['messages'],\n",
      " 'v': 4,\n",
      " 'versions_seen': {'__input__': {},\n",
      "                   '__start__': {'__start__': '00000000000000000000000000000001.0.8070223456706067'},\n",
      "                   'add_message': {'branch:to:add_message': '00000000000000000000000000000002.0.727057819971006'},\n",
      "                   'llm_response': {'branch:to:llm_response': '00000000000000000000000000000003.0.3172903045008276'}}}\n",
      "\n",
      "メタデータ:\n",
      "{'parents': {}, 'source': 'loop', 'step': 2}\n"
     ]
    }
   ],
   "source": [
    "print_checkpoint_dump(checkpointer, config)\n"
   ]
  },
  {
   "cell_type": "code",
   "execution_count": 24,
   "id": "4bcd6bfc",
   "metadata": {},
   "outputs": [
    {
     "data": {
      "text/plain": [
       "{'query': '私の好物は何か覚えてる？',\n",
       " 'messages': [SystemMessage(content='あなたは最小限の応答をする対話エージェントです。', additional_kwargs={}, response_metadata={}),\n",
       "  HumanMessage(content='私の好きなものはずんだ餅です。覚えておいてね。', additional_kwargs={}, response_metadata={}),\n",
       "  AIMessage(content='了解しました。ずんだ餅ですね。', additional_kwargs={'refusal': None}, response_metadata={'token_usage': {'completion_tokens': 10, 'prompt_tokens': 48, 'total_tokens': 58, 'completion_tokens_details': {'accepted_prediction_tokens': 0, 'audio_tokens': 0, 'reasoning_tokens': 0, 'rejected_prediction_tokens': 0}, 'prompt_tokens_details': {'audio_tokens': 0, 'cached_tokens': 0}}, 'model_provider': 'openai', 'model_name': 'gpt-4o-mini-2024-07-18', 'system_fingerprint': 'fp_560af6e559', 'id': 'chatcmpl-CSyXNJczluijk7uFOq90q4sfj3SCf', 'service_tier': 'default', 'finish_reason': 'stop', 'logprobs': None}, id='lc_run--0e8dae4c-13e2-4eea-9b01-91f4099af0f6-0', usage_metadata={'input_tokens': 48, 'output_tokens': 10, 'total_tokens': 58, 'input_token_details': {'audio': 0, 'cache_read': 0}, 'output_token_details': {'audio': 0, 'reasoning': 0}}),\n",
       "  HumanMessage(content='私の好物は何か覚えてる？', additional_kwargs={}, response_metadata={}),\n",
       "  AIMessage(content='はい、ずんだ餅です。', additional_kwargs={'refusal': None}, response_metadata={'token_usage': {'completion_tokens': 9, 'prompt_tokens': 77, 'total_tokens': 86, 'completion_tokens_details': {'accepted_prediction_tokens': 0, 'audio_tokens': 0, 'reasoning_tokens': 0, 'rejected_prediction_tokens': 0}, 'prompt_tokens_details': {'audio_tokens': 0, 'cached_tokens': 0}}, 'model_provider': 'openai', 'model_name': 'gpt-4o-mini-2024-07-18', 'system_fingerprint': 'fp_560af6e559', 'id': 'chatcmpl-CSyZAbXPN5cqOPyjzWXjFO5gXrjVA', 'service_tier': 'default', 'finish_reason': 'stop', 'logprobs': None}, id='lc_run--45d698cd-e3b7-4950-b56f-5d7fd354fb0f-0', usage_metadata={'input_tokens': 77, 'output_tokens': 9, 'total_tokens': 86, 'input_token_details': {'audio': 0, 'cache_read': 0}, 'output_token_details': {'audio': 0, 'reasoning': 0}})]}"
      ]
     },
     "execution_count": 24,
     "metadata": {},
     "output_type": "execute_result"
    }
   ],
   "source": [
    "user_query = State(query=\"私の好物は何か覚えてる？\")\n",
    "second_response = compiled_graph.invoke(user_query, config)\n",
    "second_response\n"
   ]
  },
  {
   "cell_type": "code",
   "execution_count": 25,
   "id": "d2b07771",
   "metadata": {},
   "outputs": [
    {
     "name": "stdout",
     "output_type": "stream",
     "text": [
      "CheckpointTuple(config={'configurable': {'thread_id': 'example-1', 'checkpoint_ns': '', 'checkpoint_id': '1f0ae390-542a-6227-8006-04fae8a3525d'}}, checkpoint={'v': 4, 'ts': '2025-10-21T04:47:17.310717+00:00', 'id': '1f0ae390-542a-6227-8006-04fae8a3525d', 'channel_versions': {'__start__': '00000000000000000000000000000006.0.5889802787668253', 'query': '00000000000000000000000000000006.0.5889802787668253', 'messages': '00000000000000000000000000000008.0.4869882870148683', 'branch:to:add_message': '00000000000000000000000000000007.0.5735187487975623', 'branch:to:llm_response': '00000000000000000000000000000008.0.4869882870148683'}, 'versions_seen': {'__input__': {}, '__start__': {'__start__': '00000000000000000000000000000005.0.8275567833540522'}, 'add_message': {'branch:to:add_message': '00000000000000000000000000000006.0.5889802787668253'}, 'llm_response': {'branch:to:llm_response': '00000000000000000000000000000007.0.5735187487975623'}}, 'updated_channels': ['messages'], 'channel_values': {'query': '私の好物は何か覚えてる？', 'messages': [SystemMessage(content='あなたは最小限の応答をする対話エージェントです。', additional_kwargs={}, response_metadata={}), HumanMessage(content='私の好きなものはずんだ餅です。覚えておいてね。', additional_kwargs={}, response_metadata={}), AIMessage(content='了解しました。ずんだ餅ですね。', additional_kwargs={'refusal': None}, response_metadata={'token_usage': {'completion_tokens': 10, 'prompt_tokens': 48, 'total_tokens': 58, 'completion_tokens_details': {'accepted_prediction_tokens': 0, 'audio_tokens': 0, 'reasoning_tokens': 0, 'rejected_prediction_tokens': 0}, 'prompt_tokens_details': {'audio_tokens': 0, 'cached_tokens': 0}}, 'model_provider': 'openai', 'model_name': 'gpt-4o-mini-2024-07-18', 'system_fingerprint': 'fp_560af6e559', 'id': 'chatcmpl-CSyXNJczluijk7uFOq90q4sfj3SCf', 'service_tier': 'default', 'finish_reason': 'stop', 'logprobs': None}, id='lc_run--0e8dae4c-13e2-4eea-9b01-91f4099af0f6-0', usage_metadata={'input_tokens': 48, 'output_tokens': 10, 'total_tokens': 58, 'input_token_details': {'audio': 0, 'cache_read': 0}, 'output_token_details': {'audio': 0, 'reasoning': 0}}), HumanMessage(content='私の好物は何か覚えてる？', additional_kwargs={}, response_metadata={}), AIMessage(content='はい、ずんだ餅です。', additional_kwargs={'refusal': None}, response_metadata={'token_usage': {'completion_tokens': 9, 'prompt_tokens': 77, 'total_tokens': 86, 'completion_tokens_details': {'accepted_prediction_tokens': 0, 'audio_tokens': 0, 'reasoning_tokens': 0, 'rejected_prediction_tokens': 0}, 'prompt_tokens_details': {'audio_tokens': 0, 'cached_tokens': 0}}, 'model_provider': 'openai', 'model_name': 'gpt-4o-mini-2024-07-18', 'system_fingerprint': 'fp_560af6e559', 'id': 'chatcmpl-CSyZAbXPN5cqOPyjzWXjFO5gXrjVA', 'service_tier': 'default', 'finish_reason': 'stop', 'logprobs': None}, id='lc_run--45d698cd-e3b7-4950-b56f-5d7fd354fb0f-0', usage_metadata={'input_tokens': 77, 'output_tokens': 9, 'total_tokens': 86, 'input_token_details': {'audio': 0, 'cache_read': 0}, 'output_token_details': {'audio': 0, 'reasoning': 0}})]}}, metadata={'source': 'loop', 'step': 6, 'parents': {}}, parent_config={'configurable': {'thread_id': 'example-1', 'checkpoint_ns': '', 'checkpoint_id': '1f0ae390-4836-6a4b-8005-90bae891270c'}}, pending_writes=[])\n",
      "CheckpointTuple(config={'configurable': {'thread_id': 'example-1', 'checkpoint_ns': '', 'checkpoint_id': '1f0ae390-4836-6a4b-8005-90bae891270c'}}, checkpoint={'v': 4, 'ts': '2025-10-21T04:47:16.057552+00:00', 'id': '1f0ae390-4836-6a4b-8005-90bae891270c', 'channel_versions': {'__start__': '00000000000000000000000000000006.0.5889802787668253', 'query': '00000000000000000000000000000006.0.5889802787668253', 'messages': '00000000000000000000000000000007.0.5735187487975623', 'branch:to:add_message': '00000000000000000000000000000007.0.5735187487975623', 'branch:to:llm_response': '00000000000000000000000000000007.0.5735187487975623'}, 'versions_seen': {'__input__': {}, '__start__': {'__start__': '00000000000000000000000000000005.0.8275567833540522'}, 'add_message': {'branch:to:add_message': '00000000000000000000000000000006.0.5889802787668253'}, 'llm_response': {'branch:to:llm_response': '00000000000000000000000000000003.0.3172903045008276'}}, 'updated_channels': ['branch:to:llm_response', 'messages'], 'channel_values': {'query': '私の好物は何か覚えてる？', 'messages': [SystemMessage(content='あなたは最小限の応答をする対話エージェントです。', additional_kwargs={}, response_metadata={}), HumanMessage(content='私の好きなものはずんだ餅です。覚えておいてね。', additional_kwargs={}, response_metadata={}), AIMessage(content='了解しました。ずんだ餅ですね。', additional_kwargs={'refusal': None}, response_metadata={'token_usage': {'completion_tokens': 10, 'prompt_tokens': 48, 'total_tokens': 58, 'completion_tokens_details': {'accepted_prediction_tokens': 0, 'audio_tokens': 0, 'reasoning_tokens': 0, 'rejected_prediction_tokens': 0}, 'prompt_tokens_details': {'audio_tokens': 0, 'cached_tokens': 0}}, 'model_provider': 'openai', 'model_name': 'gpt-4o-mini-2024-07-18', 'system_fingerprint': 'fp_560af6e559', 'id': 'chatcmpl-CSyXNJczluijk7uFOq90q4sfj3SCf', 'service_tier': 'default', 'finish_reason': 'stop', 'logprobs': None}, id='lc_run--0e8dae4c-13e2-4eea-9b01-91f4099af0f6-0', usage_metadata={'input_tokens': 48, 'output_tokens': 10, 'total_tokens': 58, 'input_token_details': {'audio': 0, 'cache_read': 0}, 'output_token_details': {'audio': 0, 'reasoning': 0}}), HumanMessage(content='私の好物は何か覚えてる？', additional_kwargs={}, response_metadata={})], 'branch:to:llm_response': None}}, metadata={'source': 'loop', 'step': 5, 'parents': {}}, parent_config={'configurable': {'thread_id': 'example-1', 'checkpoint_ns': '', 'checkpoint_id': '1f0ae390-4834-6b2b-8004-12a5fe6eedd9'}}, pending_writes=[('57e74cf8-e09e-b7ec-9412-9dc56602093b', 'messages', [AIMessage(content='はい、ずんだ餅です。', additional_kwargs={'refusal': None}, response_metadata={'token_usage': {'completion_tokens': 9, 'prompt_tokens': 77, 'total_tokens': 86, 'completion_tokens_details': {'accepted_prediction_tokens': 0, 'audio_tokens': 0, 'reasoning_tokens': 0, 'rejected_prediction_tokens': 0}, 'prompt_tokens_details': {'audio_tokens': 0, 'cached_tokens': 0}}, 'model_provider': 'openai', 'model_name': 'gpt-4o-mini-2024-07-18', 'system_fingerprint': 'fp_560af6e559', 'id': 'chatcmpl-CSyZAbXPN5cqOPyjzWXjFO5gXrjVA', 'service_tier': 'default', 'finish_reason': 'stop', 'logprobs': None}, id='lc_run--45d698cd-e3b7-4950-b56f-5d7fd354fb0f-0', usage_metadata={'input_tokens': 77, 'output_tokens': 9, 'total_tokens': 86, 'input_token_details': {'audio': 0, 'cache_read': 0}, 'output_token_details': {'audio': 0, 'reasoning': 0}})])])\n",
      "CheckpointTuple(config={'configurable': {'thread_id': 'example-1', 'checkpoint_ns': '', 'checkpoint_id': '1f0ae390-4834-6b2b-8004-12a5fe6eedd9'}}, checkpoint={'v': 4, 'ts': '2025-10-21T04:47:16.056753+00:00', 'id': '1f0ae390-4834-6b2b-8004-12a5fe6eedd9', 'channel_versions': {'__start__': '00000000000000000000000000000006.0.5889802787668253', 'query': '00000000000000000000000000000006.0.5889802787668253', 'messages': '00000000000000000000000000000006.0.5889802787668253', 'branch:to:add_message': '00000000000000000000000000000006.0.5889802787668253', 'branch:to:llm_response': '00000000000000000000000000000004.0.46338861210284155'}, 'versions_seen': {'__input__': {}, '__start__': {'__start__': '00000000000000000000000000000005.0.8275567833540522'}, 'add_message': {'branch:to:add_message': '00000000000000000000000000000002.0.727057819971006'}, 'llm_response': {'branch:to:llm_response': '00000000000000000000000000000003.0.3172903045008276'}}, 'updated_channels': ['branch:to:add_message', 'messages', 'query'], 'channel_values': {'query': '私の好物は何か覚えてる？', 'messages': [SystemMessage(content='あなたは最小限の応答をする対話エージェントです。', additional_kwargs={}, response_metadata={}), HumanMessage(content='私の好きなものはずんだ餅です。覚えておいてね。', additional_kwargs={}, response_metadata={}), AIMessage(content='了解しました。ずんだ餅ですね。', additional_kwargs={'refusal': None}, response_metadata={'token_usage': {'completion_tokens': 10, 'prompt_tokens': 48, 'total_tokens': 58, 'completion_tokens_details': {'accepted_prediction_tokens': 0, 'audio_tokens': 0, 'reasoning_tokens': 0, 'rejected_prediction_tokens': 0}, 'prompt_tokens_details': {'audio_tokens': 0, 'cached_tokens': 0}}, 'model_provider': 'openai', 'model_name': 'gpt-4o-mini-2024-07-18', 'system_fingerprint': 'fp_560af6e559', 'id': 'chatcmpl-CSyXNJczluijk7uFOq90q4sfj3SCf', 'service_tier': 'default', 'finish_reason': 'stop', 'logprobs': None}, id='lc_run--0e8dae4c-13e2-4eea-9b01-91f4099af0f6-0', usage_metadata={'input_tokens': 48, 'output_tokens': 10, 'total_tokens': 58, 'input_token_details': {'audio': 0, 'cache_read': 0}, 'output_token_details': {'audio': 0, 'reasoning': 0}})], 'branch:to:add_message': None}}, metadata={'source': 'loop', 'step': 4, 'parents': {}}, parent_config={'configurable': {'thread_id': 'example-1', 'checkpoint_ns': '', 'checkpoint_id': '1f0ae390-4833-64c2-8003-2a3c3e7632b9'}}, pending_writes=[('155bbb8b-b174-5d1f-cf75-1ab6aeb25eea', 'messages', [HumanMessage(content='私の好物は何か覚えてる？', additional_kwargs={}, response_metadata={})]), ('155bbb8b-b174-5d1f-cf75-1ab6aeb25eea', 'branch:to:llm_response', None)])\n",
      "CheckpointTuple(config={'configurable': {'thread_id': 'example-1', 'checkpoint_ns': '', 'checkpoint_id': '1f0ae390-4833-64c2-8003-2a3c3e7632b9'}}, checkpoint={'v': 4, 'ts': '2025-10-21T04:47:16.056176+00:00', 'id': '1f0ae390-4833-64c2-8003-2a3c3e7632b9', 'channel_versions': {'__start__': '00000000000000000000000000000005.0.8275567833540522', 'query': '00000000000000000000000000000002.0.727057819971006', 'messages': '00000000000000000000000000000004.0.46338861210284155', 'branch:to:add_message': '00000000000000000000000000000003.0.3172903045008276', 'branch:to:llm_response': '00000000000000000000000000000004.0.46338861210284155'}, 'versions_seen': {'__input__': {}, '__start__': {'__start__': '00000000000000000000000000000001.0.8070223456706067'}, 'add_message': {'branch:to:add_message': '00000000000000000000000000000002.0.727057819971006'}, 'llm_response': {'branch:to:llm_response': '00000000000000000000000000000003.0.3172903045008276'}}, 'updated_channels': ['__start__'], 'channel_values': {'__start__': State(query='私の好物は何か覚えてる？', messages=[]), 'query': '私の好きなものはずんだ餅です。覚えておいてね。', 'messages': [SystemMessage(content='あなたは最小限の応答をする対話エージェントです。', additional_kwargs={}, response_metadata={}), HumanMessage(content='私の好きなものはずんだ餅です。覚えておいてね。', additional_kwargs={}, response_metadata={}), AIMessage(content='了解しました。ずんだ餅ですね。', additional_kwargs={'refusal': None}, response_metadata={'token_usage': {'completion_tokens': 10, 'prompt_tokens': 48, 'total_tokens': 58, 'completion_tokens_details': {'accepted_prediction_tokens': 0, 'audio_tokens': 0, 'reasoning_tokens': 0, 'rejected_prediction_tokens': 0}, 'prompt_tokens_details': {'audio_tokens': 0, 'cached_tokens': 0}}, 'model_provider': 'openai', 'model_name': 'gpt-4o-mini-2024-07-18', 'system_fingerprint': 'fp_560af6e559', 'id': 'chatcmpl-CSyXNJczluijk7uFOq90q4sfj3SCf', 'service_tier': 'default', 'finish_reason': 'stop', 'logprobs': None}, id='lc_run--0e8dae4c-13e2-4eea-9b01-91f4099af0f6-0', usage_metadata={'input_tokens': 48, 'output_tokens': 10, 'total_tokens': 58, 'input_token_details': {'audio': 0, 'cache_read': 0}, 'output_token_details': {'audio': 0, 'reasoning': 0}})]}}, metadata={'source': 'input', 'step': 3, 'parents': {}}, parent_config={'configurable': {'thread_id': 'example-1', 'checkpoint_ns': '', 'checkpoint_id': '1f0ae38c-31fc-6f5a-8002-e00c8fddce2c'}}, pending_writes=[('c037afe6-8e12-27d3-97dc-6aaecc4fb77e', 'query', '私の好物は何か覚えてる？'), ('c037afe6-8e12-27d3-97dc-6aaecc4fb77e', 'messages', []), ('c037afe6-8e12-27d3-97dc-6aaecc4fb77e', 'branch:to:add_message', None)])\n",
      "CheckpointTuple(config={'configurable': {'thread_id': 'example-1', 'checkpoint_ns': '', 'checkpoint_id': '1f0ae38c-31fc-6f5a-8002-e00c8fddce2c'}}, checkpoint={'v': 4, 'ts': '2025-10-21T04:45:26.352869+00:00', 'id': '1f0ae38c-31fc-6f5a-8002-e00c8fddce2c', 'channel_versions': {'__start__': '00000000000000000000000000000002.0.727057819971006', 'query': '00000000000000000000000000000002.0.727057819971006', 'messages': '00000000000000000000000000000004.0.46338861210284155', 'branch:to:add_message': '00000000000000000000000000000003.0.3172903045008276', 'branch:to:llm_response': '00000000000000000000000000000004.0.46338861210284155'}, 'versions_seen': {'__input__': {}, '__start__': {'__start__': '00000000000000000000000000000001.0.8070223456706067'}, 'add_message': {'branch:to:add_message': '00000000000000000000000000000002.0.727057819971006'}, 'llm_response': {'branch:to:llm_response': '00000000000000000000000000000003.0.3172903045008276'}}, 'updated_channels': ['messages'], 'channel_values': {'query': '私の好きなものはずんだ餅です。覚えておいてね。', 'messages': [SystemMessage(content='あなたは最小限の応答をする対話エージェントです。', additional_kwargs={}, response_metadata={}), HumanMessage(content='私の好きなものはずんだ餅です。覚えておいてね。', additional_kwargs={}, response_metadata={}), AIMessage(content='了解しました。ずんだ餅ですね。', additional_kwargs={'refusal': None}, response_metadata={'token_usage': {'completion_tokens': 10, 'prompt_tokens': 48, 'total_tokens': 58, 'completion_tokens_details': {'accepted_prediction_tokens': 0, 'audio_tokens': 0, 'reasoning_tokens': 0, 'rejected_prediction_tokens': 0}, 'prompt_tokens_details': {'audio_tokens': 0, 'cached_tokens': 0}}, 'model_provider': 'openai', 'model_name': 'gpt-4o-mini-2024-07-18', 'system_fingerprint': 'fp_560af6e559', 'id': 'chatcmpl-CSyXNJczluijk7uFOq90q4sfj3SCf', 'service_tier': 'default', 'finish_reason': 'stop', 'logprobs': None}, id='lc_run--0e8dae4c-13e2-4eea-9b01-91f4099af0f6-0', usage_metadata={'input_tokens': 48, 'output_tokens': 10, 'total_tokens': 58, 'input_token_details': {'audio': 0, 'cache_read': 0}, 'output_token_details': {'audio': 0, 'reasoning': 0}})]}}, metadata={'source': 'loop', 'step': 2, 'parents': {}}, parent_config={'configurable': {'thread_id': 'example-1', 'checkpoint_ns': '', 'checkpoint_id': '1f0ae38c-22af-69cb-8001-10645683ff6d'}}, pending_writes=[])\n",
      "CheckpointTuple(config={'configurable': {'thread_id': 'example-1', 'checkpoint_ns': '', 'checkpoint_id': '1f0ae38c-22af-69cb-8001-10645683ff6d'}}, checkpoint={'v': 4, 'ts': '2025-10-21T04:45:24.748329+00:00', 'id': '1f0ae38c-22af-69cb-8001-10645683ff6d', 'channel_versions': {'__start__': '00000000000000000000000000000002.0.727057819971006', 'query': '00000000000000000000000000000002.0.727057819971006', 'messages': '00000000000000000000000000000003.0.3172903045008276', 'branch:to:add_message': '00000000000000000000000000000003.0.3172903045008276', 'branch:to:llm_response': '00000000000000000000000000000003.0.3172903045008276'}, 'versions_seen': {'__input__': {}, '__start__': {'__start__': '00000000000000000000000000000001.0.8070223456706067'}, 'add_message': {'branch:to:add_message': '00000000000000000000000000000002.0.727057819971006'}}, 'updated_channels': ['branch:to:llm_response', 'messages'], 'channel_values': {'query': '私の好きなものはずんだ餅です。覚えておいてね。', 'messages': [SystemMessage(content='あなたは最小限の応答をする対話エージェントです。', additional_kwargs={}, response_metadata={}), HumanMessage(content='私の好きなものはずんだ餅です。覚えておいてね。', additional_kwargs={}, response_metadata={})], 'branch:to:llm_response': None}}, metadata={'source': 'loop', 'step': 1, 'parents': {}}, parent_config={'configurable': {'thread_id': 'example-1', 'checkpoint_ns': '', 'checkpoint_id': '1f0ae38c-22ac-6a7d-8000-76a4e8b8c289'}}, pending_writes=[('85cd7d55-4e81-d727-5faf-117c1b5761e1', 'messages', [AIMessage(content='了解しました。ずんだ餅ですね。', additional_kwargs={'refusal': None}, response_metadata={'token_usage': {'completion_tokens': 10, 'prompt_tokens': 48, 'total_tokens': 58, 'completion_tokens_details': {'accepted_prediction_tokens': 0, 'audio_tokens': 0, 'reasoning_tokens': 0, 'rejected_prediction_tokens': 0}, 'prompt_tokens_details': {'audio_tokens': 0, 'cached_tokens': 0}}, 'model_provider': 'openai', 'model_name': 'gpt-4o-mini-2024-07-18', 'system_fingerprint': 'fp_560af6e559', 'id': 'chatcmpl-CSyXNJczluijk7uFOq90q4sfj3SCf', 'service_tier': 'default', 'finish_reason': 'stop', 'logprobs': None}, id='lc_run--0e8dae4c-13e2-4eea-9b01-91f4099af0f6-0', usage_metadata={'input_tokens': 48, 'output_tokens': 10, 'total_tokens': 58, 'input_token_details': {'audio': 0, 'cache_read': 0}, 'output_token_details': {'audio': 0, 'reasoning': 0}})])])\n",
      "CheckpointTuple(config={'configurable': {'thread_id': 'example-1', 'checkpoint_ns': '', 'checkpoint_id': '1f0ae38c-22ac-6a7d-8000-76a4e8b8c289'}}, checkpoint={'v': 4, 'ts': '2025-10-21T04:45:24.747115+00:00', 'id': '1f0ae38c-22ac-6a7d-8000-76a4e8b8c289', 'channel_versions': {'__start__': '00000000000000000000000000000002.0.727057819971006', 'query': '00000000000000000000000000000002.0.727057819971006', 'messages': '00000000000000000000000000000002.0.727057819971006', 'branch:to:add_message': '00000000000000000000000000000002.0.727057819971006'}, 'versions_seen': {'__input__': {}, '__start__': {'__start__': '00000000000000000000000000000001.0.8070223456706067'}}, 'updated_channels': ['branch:to:add_message', 'messages', 'query'], 'channel_values': {'query': '私の好きなものはずんだ餅です。覚えておいてね。', 'messages': [], 'branch:to:add_message': None}}, metadata={'source': 'loop', 'step': 0, 'parents': {}}, parent_config={'configurable': {'thread_id': 'example-1', 'checkpoint_ns': '', 'checkpoint_id': '1f0ae38c-22aa-6cd0-bfff-d22169d8ce29'}}, pending_writes=[('710e372b-a191-cc82-4a6b-2e2abb5eb8e0', 'messages', [SystemMessage(content='あなたは最小限の応答をする対話エージェントです。', additional_kwargs={}, response_metadata={}), HumanMessage(content='私の好きなものはずんだ餅です。覚えておいてね。', additional_kwargs={}, response_metadata={})]), ('710e372b-a191-cc82-4a6b-2e2abb5eb8e0', 'branch:to:llm_response', None)])\n",
      "CheckpointTuple(config={'configurable': {'thread_id': 'example-1', 'checkpoint_ns': '', 'checkpoint_id': '1f0ae38c-22aa-6cd0-bfff-d22169d8ce29'}}, checkpoint={'v': 4, 'ts': '2025-10-21T04:45:24.746347+00:00', 'id': '1f0ae38c-22aa-6cd0-bfff-d22169d8ce29', 'channel_versions': {'__start__': '00000000000000000000000000000001.0.8070223456706067'}, 'versions_seen': {'__input__': {}}, 'updated_channels': ['__start__'], 'channel_values': {'__start__': State(query='私の好きなものはずんだ餅です。覚えておいてね。', messages=[])}}, metadata={'source': 'input', 'step': -1, 'parents': {}}, parent_config=None, pending_writes=[('55a46f54-4cf3-dc44-0fc5-4077c30ca814', 'query', '私の好きなものはずんだ餅です。覚えておいてね。'), ('55a46f54-4cf3-dc44-0fc5-4077c30ca814', 'messages', []), ('55a46f54-4cf3-dc44-0fc5-4077c30ca814', 'branch:to:add_message', None)])\n"
     ]
    }
   ],
   "source": [
    "for checkpoint in checkpointer.list(config):\n",
    "    print(checkpoint)\n"
   ]
  },
  {
   "cell_type": "code",
   "execution_count": 26,
   "id": "6a3b4548",
   "metadata": {},
   "outputs": [
    {
     "name": "stdout",
     "output_type": "stream",
     "text": [
      "チェックポイントデータ:\n",
      "{'channel_values': {'messages': [SystemMessage(content='あなたは最小限の応答をする対話エージェントです。', additional_kwargs={}, response_metadata={}),\n",
      "                                 HumanMessage(content='私の好きなものはずんだ餅です。覚えておいてね。', additional_kwargs={}, response_metadata={}),\n",
      "                                 AIMessage(content='了解しました。ずんだ餅ですね。', additional_kwargs={'refusal': None}, response_metadata={'token_usage': {'completion_tokens': 10, 'prompt_tokens': 48, 'total_tokens': 58, 'completion_tokens_details': {'accepted_prediction_tokens': 0, 'audio_tokens': 0, 'reasoning_tokens': 0, 'rejected_prediction_tokens': 0}, 'prompt_tokens_details': {'audio_tokens': 0, 'cached_tokens': 0}}, 'model_provider': 'openai', 'model_name': 'gpt-4o-mini-2024-07-18', 'system_fingerprint': 'fp_560af6e559', 'id': 'chatcmpl-CSyXNJczluijk7uFOq90q4sfj3SCf', 'service_tier': 'default', 'finish_reason': 'stop', 'logprobs': None}, id='lc_run--0e8dae4c-13e2-4eea-9b01-91f4099af0f6-0', usage_metadata={'input_tokens': 48, 'output_tokens': 10, 'total_tokens': 58, 'input_token_details': {'audio': 0, 'cache_read': 0}, 'output_token_details': {'audio': 0, 'reasoning': 0}}),\n",
      "                                 HumanMessage(content='私の好物は何か覚えてる？', additional_kwargs={}, response_metadata={}),\n",
      "                                 AIMessage(content='はい、ずんだ餅です。', additional_kwargs={'refusal': None}, response_metadata={'token_usage': {'completion_tokens': 9, 'prompt_tokens': 77, 'total_tokens': 86, 'completion_tokens_details': {'accepted_prediction_tokens': 0, 'audio_tokens': 0, 'reasoning_tokens': 0, 'rejected_prediction_tokens': 0}, 'prompt_tokens_details': {'audio_tokens': 0, 'cached_tokens': 0}}, 'model_provider': 'openai', 'model_name': 'gpt-4o-mini-2024-07-18', 'system_fingerprint': 'fp_560af6e559', 'id': 'chatcmpl-CSyZAbXPN5cqOPyjzWXjFO5gXrjVA', 'service_tier': 'default', 'finish_reason': 'stop', 'logprobs': None}, id='lc_run--45d698cd-e3b7-4950-b56f-5d7fd354fb0f-0', usage_metadata={'input_tokens': 77, 'output_tokens': 9, 'total_tokens': 86, 'input_token_details': {'audio': 0, 'cache_read': 0}, 'output_token_details': {'audio': 0, 'reasoning': 0}})],\n",
      "                    'query': '私の好物は何か覚えてる？'},\n",
      " 'channel_versions': {'__start__': '00000000000000000000000000000006.0.5889802787668253',\n",
      "                      'branch:to:add_message': '00000000000000000000000000000007.0.5735187487975623',\n",
      "                      'branch:to:llm_response': '00000000000000000000000000000008.0.4869882870148683',\n",
      "                      'messages': '00000000000000000000000000000008.0.4869882870148683',\n",
      "                      'query': '00000000000000000000000000000006.0.5889802787668253'},\n",
      " 'id': '1f0ae390-542a-6227-8006-04fae8a3525d',\n",
      " 'ts': '2025-10-21T04:47:17.310717+00:00',\n",
      " 'updated_channels': ['messages'],\n",
      " 'v': 4,\n",
      " 'versions_seen': {'__input__': {},\n",
      "                   '__start__': {'__start__': '00000000000000000000000000000005.0.8275567833540522'},\n",
      "                   'add_message': {'branch:to:add_message': '00000000000000000000000000000006.0.5889802787668253'},\n",
      "                   'llm_response': {'branch:to:llm_response': '00000000000000000000000000000007.0.5735187487975623'}}}\n",
      "\n",
      "メタデータ:\n",
      "{'parents': {}, 'source': 'loop', 'step': 6}\n"
     ]
    }
   ],
   "source": [
    "print_checkpoint_dump(checkpointer, config)\n"
   ]
  },
  {
   "cell_type": "markdown",
   "id": "6cb5b0df",
   "metadata": {},
   "source": [
    "別IDから"
   ]
  },
  {
   "cell_type": "code",
   "execution_count": 27,
   "id": "f58151ca",
   "metadata": {},
   "outputs": [
    {
     "data": {
      "text/plain": [
       "{'query': '私の好物は何？',\n",
       " 'messages': [SystemMessage(content='あなたは最小限の応答をする対話エージェントです。', additional_kwargs={}, response_metadata={}),\n",
       "  HumanMessage(content='私の好物は何？', additional_kwargs={}, response_metadata={}),\n",
       "  AIMessage(content='わかりません。あなたの好物は何ですか？', additional_kwargs={'refusal': None}, response_metadata={'token_usage': {'completion_tokens': 14, 'prompt_tokens': 36, 'total_tokens': 50, 'completion_tokens_details': {'accepted_prediction_tokens': 0, 'audio_tokens': 0, 'reasoning_tokens': 0, 'rejected_prediction_tokens': 0}, 'prompt_tokens_details': {'audio_tokens': 0, 'cached_tokens': 0}}, 'model_provider': 'openai', 'model_name': 'gpt-4o-mini-2024-07-18', 'system_fingerprint': 'fp_560af6e559', 'id': 'chatcmpl-CSyeogOXabDN60F7BAktJ6AeqSyVL', 'service_tier': 'default', 'finish_reason': 'stop', 'logprobs': None}, id='lc_run--0d56a397-0d93-4bf4-95e7-8347dfd9b16d-0', usage_metadata={'input_tokens': 36, 'output_tokens': 14, 'total_tokens': 50, 'input_token_details': {'audio': 0, 'cache_read': 0}, 'output_token_details': {'audio': 0, 'reasoning': 0}})]}"
      ]
     },
     "execution_count": 27,
     "metadata": {},
     "output_type": "execute_result"
    }
   ],
   "source": [
    "config = {\"configurable\": {\"thread_id\": \"example-2\"}}\n",
    "user_query = State(query=\"私の好物は何？\")\n",
    "other_thread_response = compiled_graph.invoke(user_query, config)\n",
    "other_thread_response\n"
   ]
  },
  {
   "cell_type": "code",
   "execution_count": null,
   "id": "1aa6f67f",
   "metadata": {},
   "outputs": [],
   "source": []
  }
 ],
 "metadata": {
  "kernelspec": {
   "display_name": "tutorial-langchain",
   "language": "python",
   "name": "python3"
  },
  "language_info": {
   "codemirror_mode": {
    "name": "ipython",
    "version": 3
   },
   "file_extension": ".py",
   "mimetype": "text/x-python",
   "name": "python",
   "nbconvert_exporter": "python",
   "pygments_lexer": "ipython3",
   "version": "3.10.12"
  }
 },
 "nbformat": 4,
 "nbformat_minor": 5
}
