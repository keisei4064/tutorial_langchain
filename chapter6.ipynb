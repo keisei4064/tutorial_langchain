{
 "cells": [
  {
   "cell_type": "markdown",
   "id": "94de836f",
   "metadata": {},
   "source": [
    "# 6章"
   ]
  },
  {
   "cell_type": "code",
   "execution_count": 1,
   "id": "4abb8a36",
   "metadata": {},
   "outputs": [
    {
     "data": {
      "text/plain": [
       "True"
      ]
     },
     "execution_count": 1,
     "metadata": {},
     "output_type": "execute_result"
    }
   ],
   "source": [
    "from dotenv import load_dotenv\n",
    "from pathlib import Path\n",
    "\n",
    "env_path = Path(\".\") / \".env\"\n",
    "load_dotenv(dotenv_path=env_path)  # 環境変数を読み込む\n"
   ]
  },
  {
   "cell_type": "code",
   "execution_count": 2,
   "id": "8cec87a6",
   "metadata": {},
   "outputs": [],
   "source": [
    "# ドキュメントは別リポジトリで管理されている\n",
    "\n",
    "# from langchain_community.document_loaders import GitLoader\n",
    "\n",
    "\n",
    "# def file_filter(file_path: str) -> bool:\n",
    "#     return file_path.endswith(\".mdx\")A\n",
    "\n",
    "\n",
    "# loader = GitLoader(\n",
    "#     clone_url=\"https://github.com/langchain-ai/langchain\",\n",
    "#     repo_path=\"./langchain\",\n",
    "#     branch=\"master\",\n",
    "#     file_filter=file_filter,\n",
    "# )\n",
    "\n",
    "# documents = loader.load()\n",
    "# print(len(documents))\n"
   ]
  },
  {
   "cell_type": "markdown",
   "id": "0f720dca",
   "metadata": {},
   "source": [
    "### データベース化対象"
   ]
  },
  {
   "cell_type": "code",
   "execution_count": 3,
   "id": "4b70c03e",
   "metadata": {},
   "outputs": [
    {
     "name": "stdout",
     "output_type": "stream",
     "text": [
      "Loaded documents: 1979\n"
     ]
    }
   ],
   "source": [
    "from langchain_community.document_loaders import GitLoader\n",
    "\n",
    "\n",
    "def file_filter(file_path: str) -> bool:\n",
    "    return file_path.endswith(\".mdx\")\n",
    "\n",
    "\n",
    "loader = GitLoader(\n",
    "    clone_url=\"https://github.com/langchain-ai/docs\",\n",
    "    repo_path=\"./docs\",\n",
    "    branch=\"main\",\n",
    "    file_filter=file_filter,\n",
    ")\n",
    "\n",
    "documents = loader.load()\n",
    "print(\"Loaded documents:\", len(documents))\n"
   ]
  },
  {
   "cell_type": "markdown",
   "id": "d3f7584d",
   "metadata": {},
   "source": [
    "### ベクトル化"
   ]
  },
  {
   "cell_type": "code",
   "execution_count": 5,
   "id": "8cf06e8e",
   "metadata": {},
   "outputs": [
    {
     "name": "stdout",
     "output_type": "stream",
     "text": [
      "Sampled documents: 494\n",
      "Split into chunks: 1174\n"
     ]
    }
   ],
   "source": [
    "from langchain_text_splitters import RecursiveCharacterTextSplitter\n",
    "import random\n",
    "from langchain_openai import OpenAIEmbeddings\n",
    "from langchain_chroma import Chroma\n",
    "\n",
    "# ----------------------\n",
    "# 2. サンプリングで件数削減\n",
    "# ----------------------\n",
    "sample_fraction = 0.25\n",
    "sampled_documents = random.sample(documents, k=int(len(documents) * sample_fraction))\n",
    "print(\"Sampled documents:\", len(sampled_documents))\n",
    "\n",
    "# ----------------------\n",
    "# 3. チャンク化\n",
    "# ----------------------\n",
    "text_splitter = RecursiveCharacterTextSplitter(\n",
    "    chunk_size=4000,  # 1チャンクあたり最大4000文字\n",
    "    chunk_overlap=100,  # 200文字重複で文脈をつなぐ\n",
    ")\n",
    "\n",
    "split_docs = text_splitter.split_documents(sampled_documents)\n",
    "print(\"Split into chunks:\", len(split_docs))"
   ]
  },
  {
   "cell_type": "code",
   "execution_count": 6,
   "id": "d395241d",
   "metadata": {},
   "outputs": [],
   "source": [
    "# ----------------------\n",
    "# 4. Embeddings 作成 & Chroma登録\n",
    "# ----------------------\n",
    "embeddings = OpenAIEmbeddings(model=\"text-embedding-3-small\")\n",
    "db = Chroma(embedding_function=embeddings, persist_directory=\"./chroma_db\")"
   ]
  },
  {
   "cell_type": "code",
   "execution_count": 7,
   "id": "048e7ff2",
   "metadata": {},
   "outputs": [
    {
     "data": {
      "application/vnd.jupyter.widget-view+json": {
       "model_id": "d5058049ac224f18bd6780e62aa2f980",
       "version_major": 2,
       "version_minor": 0
      },
      "text/plain": [
       "  0%|          | 0/12 [00:00<?, ?it/s]"
      ]
     },
     "metadata": {},
     "output_type": "display_data"
    }
   ],
   "source": [
    "from tqdm.notebook import tqdm  # ←Notebook用\n",
    "\n",
    "batch_size = 100\n",
    "for i in tqdm(range(0, len(split_docs), batch_size)):\n",
    "    batch = split_docs[i : i + batch_size]\n",
    "    db.add_documents(batch)"
   ]
  },
  {
   "cell_type": "code",
   "execution_count": 9,
   "id": "a6f0d836",
   "metadata": {},
   "outputs": [
    {
     "data": {
      "text/plain": [
       "'LangChainは、言語モデルを活用したアプリケーションを開発するためのフレームワークです。ユーザーは、LangChainのインターフェース標準に従ったコンポーネントを実装するPythonパッケージを作成することができます。これには、チャットモデル、ツール、リトリーバーなどのさまざまなコンポーネントが含まれます。LangChainは、これらのコンポーネントを使用して、言語モデルを効果的に活用するための機能を提供します。'"
      ]
     },
     "execution_count": 9,
     "metadata": {},
     "output_type": "execute_result"
    }
   ],
   "source": [
    "from langchain_core.output_parsers import StrOutputParser\n",
    "from langchain_core.prompts import ChatPromptTemplate\n",
    "from langchain_core.runnables import RunnablePassthrough\n",
    "from langchain_openai import ChatOpenAI\n",
    "\n",
    "prompt = ChatPromptTemplate.from_template('''\\\n",
    "以下の文脈だけを踏まえて質問に回答してください。\n",
    "\n",
    "文脈: \"\"\"\n",
    "{context}\n",
    "\"\"\"\n",
    "\n",
    "質問: {question}\n",
    "''')\n",
    "\n",
    "model = ChatOpenAI(model=\"gpt-4o-mini\", temperature=0)\n",
    "\n",
    "retriever = db.as_retriever()\n",
    "\n",
    "chain = (\n",
    "    {\n",
    "        \"question\": RunnablePassthrough(),\n",
    "        \"context\": retriever,\n",
    "    }\n",
    "    | prompt\n",
    "    | model\n",
    "    | StrOutputParser()\n",
    ")\n",
    "\n",
    "chain.invoke(\"LangChainの概要を教えて\")\n"
   ]
  },
  {
   "cell_type": "code",
   "execution_count": null,
   "id": "09642983",
   "metadata": {},
   "outputs": [],
   "source": []
  }
 ],
 "metadata": {
  "kernelspec": {
   "display_name": "tutorial-langchain",
   "language": "python",
   "name": "python3"
  },
  "language_info": {
   "codemirror_mode": {
    "name": "ipython",
    "version": 3
   },
   "file_extension": ".py",
   "mimetype": "text/x-python",
   "name": "python",
   "nbconvert_exporter": "python",
   "pygments_lexer": "ipython3",
   "version": "3.10.18"
  }
 },
 "nbformat": 4,
 "nbformat_minor": 5
}
