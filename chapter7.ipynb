{
 "cells": [
  {
   "cell_type": "markdown",
   "id": "29a336f6",
   "metadata": {},
   "source": [
    "# 7章"
   ]
  },
  {
   "cell_type": "code",
   "execution_count": 1,
   "id": "92137f76",
   "metadata": {},
   "outputs": [
    {
     "data": {
      "text/plain": [
       "True"
      ]
     },
     "execution_count": 1,
     "metadata": {},
     "output_type": "execute_result"
    }
   ],
   "source": [
    "from dotenv import load_dotenv\n",
    "from pathlib import Path\n",
    "\n",
    "env_path = Path(\".\") / \".env\"\n",
    "load_dotenv(dotenv_path=env_path)  # 環境変数を読み込む"
   ]
  },
  {
   "cell_type": "markdown",
   "id": "7b719b7a",
   "metadata": {},
   "source": [
    "## 7.4, 7.5"
   ]
  },
  {
   "cell_type": "markdown",
   "id": "26e6dddb",
   "metadata": {},
   "source": [
    "バージョン違いで動かず"
   ]
  },
  {
   "cell_type": "markdown",
   "id": "11700a30",
   "metadata": {},
   "source": [
    "## 7.6"
   ]
  },
  {
   "cell_type": "code",
   "execution_count": 3,
   "id": "4d6e04e1",
   "metadata": {},
   "outputs": [
    {
     "name": "stdout",
     "output_type": "stream",
     "text": [
      "Loaded documents: 1979\n"
     ]
    }
   ],
   "source": [
    "from langchain_community.document_loaders import GitLoader\n",
    "\n",
    "\n",
    "def file_filter(file_path: str) -> bool:\n",
    "    return file_path.endswith(\".mdx\")\n",
    "\n",
    "\n",
    "loader = GitLoader(\n",
    "    clone_url=\"https://github.com/langchain-ai/docs\",\n",
    "    repo_path=\"./docs\",\n",
    "    branch=\"main\",\n",
    "    file_filter=file_filter,\n",
    ")\n",
    "\n",
    "documents = loader.load()\n",
    "print(\"Loaded documents:\", len(documents))"
   ]
  },
  {
   "cell_type": "code",
   "execution_count": 6,
   "id": "2a618148",
   "metadata": {},
   "outputs": [
    {
     "name": "stdout",
     "output_type": "stream",
     "text": [
      "✅ 既存のChroma DBを読み込みます。\n"
     ]
    }
   ],
   "source": [
    "from langchain_text_splitters import RecursiveCharacterTextSplitter\n",
    "import random\n",
    "from langchain_openai import OpenAIEmbeddings\n",
    "from langchain_chroma import Chroma\n",
    "import os\n",
    "\n",
    "# ----------------------\n",
    "# 1. Embeddings と DB 初期化\n",
    "# ----------------------\n",
    "embeddings = OpenAIEmbeddings(model=\"text-embedding-3-small\")\n",
    "persist_dir = \"./chroma_db\"\n",
    "\n",
    "# ----------------------\n",
    "# 2. 既存DBがあるか確認\n",
    "# ----------------------\n",
    "if os.path.exists(persist_dir) and os.listdir(persist_dir):\n",
    "    print(\"✅ 既存のChroma DBを読み込みます。\")\n",
    "    db = Chroma(embedding_function=embeddings, persist_directory=persist_dir)\n",
    "else:\n",
    "    print(\"⚙️ 新規にChroma DBを作成します。\")\n",
    "\n",
    "    # ----------------------\n",
    "    # 2. サンプリング\n",
    "    # ----------------------\n",
    "    sample_fraction = 0.25\n",
    "    sampled_documents = random.sample(\n",
    "        documents, k=int(len(documents) * sample_fraction)\n",
    "    )\n",
    "    print(\"Sampled documents:\", len(sampled_documents))\n",
    "\n",
    "    # ----------------------\n",
    "    # 3. チャンク化\n",
    "    # ----------------------\n",
    "    text_splitter = RecursiveCharacterTextSplitter(\n",
    "        chunk_size=4000,\n",
    "        chunk_overlap=100,\n",
    "    )\n",
    "    split_docs = text_splitter.split_documents(sampled_documents)\n",
    "    print(\"Split into chunks:\", len(split_docs))\n",
    "\n",
    "    # ----------------------\n",
    "    # 4. Embeddings 作成 & Chroma登録\n",
    "    # ----------------------\n",
    "    db = Chroma(embedding_function=embeddings, persist_directory=persist_dir)\n",
    "\n",
    "    from tqdm.notebook import tqdm\n",
    "\n",
    "    batch_size = 100\n",
    "    for i in tqdm(range(0, len(split_docs), batch_size)):\n",
    "        batch = split_docs[i : i + batch_size]\n",
    "        db.add_documents(batch)\n",
    "\n",
    "    db.persist()\n",
    "    print(\"✅ 新しいDBを保存しました。\")\n"
   ]
  },
  {
   "cell_type": "code",
   "execution_count": 7,
   "id": "021e987d",
   "metadata": {},
   "outputs": [],
   "source": [
    "from langchain_core.output_parsers import StrOutputParser\n",
    "from langchain_core.prompts import ChatPromptTemplate\n",
    "from langchain_core.runnables import RunnableParallel, RunnablePassthrough\n",
    "from langchain_openai import ChatOpenAI\n",
    "\n",
    "prompt = ChatPromptTemplate.from_template('''\\\n",
    "以下の文脈だけを踏まえて質問に回答してください。\n",
    "\n",
    "文脈: \"\"\"\n",
    "{context}\n",
    "\"\"\"\n",
    "\n",
    "質問: {question}\n",
    "''')\n",
    "\n",
    "model = ChatOpenAI(model=\"gpt-4o-mini\", temperature=0)\n",
    "\n",
    "retriever = db.as_retriever()\n",
    "\n",
    "chain = RunnableParallel(\n",
    "    {\n",
    "        \"question\": RunnablePassthrough(),\n",
    "        \"context\": retriever,\n",
    "    }\n",
    ").assign(answer=prompt | model | StrOutputParser())\n"
   ]
  },
  {
   "cell_type": "markdown",
   "id": "def07517",
   "metadata": {},
   "source": [
    "### フィードバックボタン"
   ]
  },
  {
   "cell_type": "code",
   "execution_count": 8,
   "id": "d8df3a51",
   "metadata": {},
   "outputs": [],
   "source": [
    "from uuid import UUID\n",
    "\n",
    "import ipywidgets as widgets\n",
    "from IPython.display import display\n",
    "from langsmith import Client\n",
    "\n",
    "\n",
    "def display_feedback_buttons(run_id: UUID) -> None:\n",
    "    # GoodボタンとBadボタンを準備\n",
    "    good_button = widgets.Button(\n",
    "        description=\"Good\",\n",
    "        button_style=\"success\",\n",
    "        icon=\"thumbs-up\",\n",
    "    )\n",
    "    bad_button = widgets.Button(\n",
    "        description=\"Bad\",\n",
    "        button_style=\"danger\",\n",
    "        icon=\"thumbs-down\",\n",
    "    )\n",
    "\n",
    "    # クリックされた際に実行される関数を定義\n",
    "    def on_button_clicked(button: widgets.Button) -> None:\n",
    "        if button == good_button:\n",
    "            score = 1\n",
    "        elif button == bad_button:\n",
    "            score = 0\n",
    "        else:\n",
    "            raise ValueError(f\"Unknown button: {button}\")\n",
    "\n",
    "        client = Client()\n",
    "        client.create_feedback(run_id=run_id, key=\"thumbs\", score=score)\n",
    "        print(\"フィードバックを送信しました\")\n",
    "\n",
    "    # ボタンがクリックされた際にon_button_clicked関数を実行\n",
    "    good_button.on_click(on_button_clicked)\n",
    "    bad_button.on_click(on_button_clicked)\n",
    "\n",
    "    # ボタンを表示\n",
    "    display(good_button, bad_button)\n"
   ]
  },
  {
   "cell_type": "code",
   "execution_count": 9,
   "id": "93a9af78",
   "metadata": {},
   "outputs": [
    {
     "name": "stdout",
     "output_type": "stream",
     "text": [
      "LangChainは、主にJavaScript向けのSDKであり、さまざまな機能を提供するフレームワークです。公式のリファレンスは[こちら](https://reference.langchain.com/javascript/modules/langchain.html)で確認できます。また、LangChainに関する教育リソースやトレーニングは、[LangChain Academy](https://academy.langchain.com/)で提供されています。このアカデミーでは、LangChainの使い方や関連技術について学ぶことができます。\n"
     ]
    },
    {
     "data": {
      "application/vnd.jupyter.widget-view+json": {
       "model_id": "f701857bdb2e406c85c3b1be424f09b9",
       "version_major": 2,
       "version_minor": 0
      },
      "text/plain": [
       "Button(button_style='success', description='Good', icon='thumbs-up', style=ButtonStyle())"
      ]
     },
     "metadata": {},
     "output_type": "display_data"
    },
    {
     "data": {
      "application/vnd.jupyter.widget-view+json": {
       "model_id": "13dc1191ea564b4b87fe95e3a68a4111",
       "version_major": 2,
       "version_minor": 0
      },
      "text/plain": [
       "Button(button_style='danger', description='Bad', icon='thumbs-down', style=ButtonStyle())"
      ]
     },
     "metadata": {},
     "output_type": "display_data"
    }
   ],
   "source": [
    "from langchain_core.tracers.context import collect_runs\n",
    "\n",
    "# LangSmithのトレースのID(Run ID)を取得するため、collect_runs関数を使用\n",
    "with collect_runs() as runs_cb:\n",
    "    output = chain.invoke(\"LangChainの概要を教えて\")\n",
    "    print(output[\"answer\"])\n",
    "    run_id = runs_cb.traced_runs[0].id\n",
    "\n",
    "display_feedback_buttons(run_id)\n"
   ]
  },
  {
   "cell_type": "code",
   "execution_count": 10,
   "id": "7819cba2",
   "metadata": {},
   "outputs": [
    {
     "name": "stdout",
     "output_type": "stream",
     "text": [
      "文脈には「CoT」という用語に関する情報が含まれていないため、具体的な説明はできません。ただし、一般的に「CoT」は「Chain of Thought」の略で、思考の過程や推論の連鎖を指すことがあります。もし特定の文脈や詳細が必要であれば、追加の情報を提供してください。\n"
     ]
    },
    {
     "data": {
      "application/vnd.jupyter.widget-view+json": {
       "model_id": "76ba1afa8ea34077bbcbf757382f4c6d",
       "version_major": 2,
       "version_minor": 0
      },
      "text/plain": [
       "Button(button_style='success', description='Good', icon='thumbs-up', style=ButtonStyle())"
      ]
     },
     "metadata": {},
     "output_type": "display_data"
    },
    {
     "data": {
      "application/vnd.jupyter.widget-view+json": {
       "model_id": "1d1b652bbc3f46be8929e242e41713eb",
       "version_major": 2,
       "version_minor": 0
      },
      "text/plain": [
       "Button(button_style='danger', description='Bad', icon='thumbs-down', style=ButtonStyle())"
      ]
     },
     "metadata": {},
     "output_type": "display_data"
    }
   ],
   "source": [
    "from langchain_core.tracers.context import collect_runs\n",
    "\n",
    "# LangSmithのトレースのID(Run ID)を取得するため、collect_runs関数を使用\n",
    "with collect_runs() as runs_cb:\n",
    "    output = chain.invoke(\"CoTって何？\")\n",
    "    print(output[\"answer\"])\n",
    "    run_id = runs_cb.traced_runs[0].id\n",
    "\n",
    "display_feedback_buttons(run_id)"
   ]
  },
  {
   "cell_type": "code",
   "execution_count": 11,
   "id": "f6657610",
   "metadata": {},
   "outputs": [
    {
     "name": "stdout",
     "output_type": "stream",
     "text": [
      "LangSmithには無料のセルフホスティング版がありますが、基本機能にアクセスできるのみです。クラウドデプロイメントオプションやセルフホスティングのオプションは有料サービスです。詳細については、[LangSmithの価格ページ](https://www.langchain.com/pricing)を参照してください。\n"
     ]
    },
    {
     "data": {
      "application/vnd.jupyter.widget-view+json": {
       "model_id": "fb00aa5751bb4d5588ad208b3c64e2ff",
       "version_major": 2,
       "version_minor": 0
      },
      "text/plain": [
       "Button(button_style='success', description='Good', icon='thumbs-up', style=ButtonStyle())"
      ]
     },
     "metadata": {},
     "output_type": "display_data"
    },
    {
     "data": {
      "application/vnd.jupyter.widget-view+json": {
       "model_id": "102aa4d55cf542f1be47dd4a7592dbc2",
       "version_major": 2,
       "version_minor": 0
      },
      "text/plain": [
       "Button(button_style='danger', description='Bad', icon='thumbs-down', style=ButtonStyle())"
      ]
     },
     "metadata": {},
     "output_type": "display_data"
    }
   ],
   "source": [
    "from langchain_core.tracers.context import collect_runs\n",
    "\n",
    "# LangSmithのトレースのID(Run ID)を取得するため、collect_runs関数を使用\n",
    "with collect_runs() as runs_cb:\n",
    "    output = chain.invoke(\"LangSmithって無料？\")\n",
    "    print(output[\"answer\"])\n",
    "    run_id = runs_cb.traced_runs[0].id\n",
    "\n",
    "display_feedback_buttons(run_id)\n"
   ]
  },
  {
   "cell_type": "code",
   "execution_count": null,
   "id": "9d974903",
   "metadata": {},
   "outputs": [],
   "source": []
  }
 ],
 "metadata": {
  "kernelspec": {
   "display_name": "tutorial-langchain",
   "language": "python",
   "name": "python3"
  },
  "language_info": {
   "codemirror_mode": {
    "name": "ipython",
    "version": 3
   },
   "file_extension": ".py",
   "mimetype": "text/x-python",
   "name": "python",
   "nbconvert_exporter": "python",
   "pygments_lexer": "ipython3",
   "version": "3.10.12"
  }
 },
 "nbformat": 4,
 "nbformat_minor": 5
}
