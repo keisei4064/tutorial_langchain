{
 "cells": [
  {
   "cell_type": "markdown",
   "id": "3b82b3ff",
   "metadata": {},
   "source": [
    "# 10章"
   ]
  },
  {
   "cell_type": "markdown",
   "id": "3e0e390c",
   "metadata": {},
   "source": []
  }
 ],
 "metadata": {
  "language_info": {
   "name": "python"
  }
 },
 "nbformat": 4,
 "nbformat_minor": 5
}
