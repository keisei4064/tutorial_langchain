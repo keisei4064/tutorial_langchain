{
 "cells": [
  {
   "cell_type": "markdown",
   "id": "a5ae013b",
   "metadata": {},
   "source": [
    "# 第3章"
   ]
  },
  {
   "cell_type": "code",
   "execution_count": 1,
   "id": "04b30258",
   "metadata": {},
   "outputs": [
    {
     "data": {
      "text/plain": [
       "True"
      ]
     },
     "execution_count": 1,
     "metadata": {},
     "output_type": "execute_result"
    }
   ],
   "source": [
    "from dotenv import load_dotenv\n",
    "from pathlib import Path\n",
    "\n",
    "env_path = Path(\".\") / \".env\"\n",
    "load_dotenv(dotenv_path=env_path)  # 環境変数を読み込む"
   ]
  },
  {
   "cell_type": "markdown",
   "id": "c6b6ac58",
   "metadata": {},
   "source": [
    "## 3.2"
   ]
  },
  {
   "cell_type": "code",
   "execution_count": 2,
   "id": "8b38eb05",
   "metadata": {},
   "outputs": [
    {
     "name": "stdout",
     "output_type": "stream",
     "text": [
      "プロンプトエンジニアリングとは、特に人工知能（AI）や自然言語処理（NLP）の分野において、AIモデルに対して適切な指示や質問（プロンプト）を設計する技術や方法論を指します。このプロセスは、モデルが生成する応答を最適化し、より正確で関連性のある情報を引き出すために重要です。\n",
      "\n",
      "具体的には、プロンプトエンジニアリングには以下のような要素が含まれます。\n",
      "\n",
      "1. **言語の選択**: モデルが理解しやすい言語や表現を用いることで、より良い応答を得る。\n",
      "2. **コンテキストの提供**: モデルが必要とする背景情報を提供することで、より関連性の高い回答を引き出す。\n",
      "3. **具体性と抽象性のバランス**: 必要な情報を具体的に指示する一方で、モデルに自由度を与えることで創造的な回答を促す。\n",
      "4. **反復的なテストと改善**: プロンプトの結果を評価し、必要に応じて修正や改善を行う。\n",
      "\n",
      "プロンプトエンジニアリングは、AIを活用したアプリケーションの効果を最大化するために非常に重要なスキルとなっています。特に大規模言語モデル（LLM）を利用する場合、この技術を駆使することで、より良い結果を得ることができます。\n"
     ]
    }
   ],
   "source": [
    "from openai import OpenAI\n",
    "\n",
    "client = OpenAI()\n",
    "\n",
    "response = client.chat.completions.create(\n",
    "    model=\"gpt-4o-mini\",\n",
    "    messages=[\n",
    "        {\"role\": \"user\", \"content\": \"プロンプトエンジニアリングとは\"},\n",
    "    ],\n",
    ")\n",
    "print(response.choices[0].message.content)"
   ]
  },
  {
   "cell_type": "code",
   "execution_count": 3,
   "id": "73737699",
   "metadata": {},
   "outputs": [
    {
     "name": "stdout",
     "output_type": "stream",
     "text": [
      "プロンプトエンジニアリングとは、AIモデルに対して適切な入力（プロンプト）を設計し、望ましい出力を得る技術や方法論です。ユーザーの意図を正確に伝えることで、より有用で関連性の高い応答を引き出すことが目指されます。\n"
     ]
    }
   ],
   "source": [
    "response = client.chat.completions.create(\n",
    "    model=\"gpt-4o-mini\",\n",
    "    messages=[\n",
    "        {\"role\": \"system\", \"content\": \"質問に100文字程度で答えてください。\"},  # 短く答えるよう指示\n",
    "        {\"role\": \"user\", \"content\": \"プロンプトエンジニアリングとは\"},\n",
    "    ],\n",
    ")\n",
    "print(response.choices[0].message.content)\n"
   ]
  },
  {
   "cell_type": "markdown",
   "id": "031a3d01",
   "metadata": {},
   "source": [
    "## 3.3"
   ]
  },
  {
   "cell_type": "code",
   "execution_count": 4,
   "id": "3076c3ec",
   "metadata": {},
   "outputs": [
    {
     "name": "stdout",
     "output_type": "stream",
     "text": [
      "もちろんです！以下は基本的なカレーのレシピです。\n",
      "\n",
      "### カレーのレシピ\n",
      "\n",
      "#### 材料（4人分）\n",
      "- 鶏肉（もも肉または胸肉） 400g\n",
      "- 玉ねぎ 1個\n",
      "- にんじん 1本\n",
      "- じゃがいも 2個\n",
      "- カレールー 1箱（約100g）\n",
      "- サラダ油 大さじ2\n",
      "- 水 600ml\n",
      "- 塩 少々\n",
      "- こしょう 少々\n",
      "- お好みでガーリックやしょうが（みじん切り） 少々\n",
      "- お好みでトッピング（漬物、ゆで卵、青ネギなど）\n",
      "\n",
      "#### 作り方\n",
      "\n",
      "1. **材料を準備する**\n",
      "   - 鶏肉は一口大に切り、塩とこしょうを振りかけておく。\n",
      "   - 玉ねぎは薄切りに、にんじんは輪切りまたはいちょう切り、じゃがいもは一口大に切る。\n",
      "  \n",
      "2. **炒める**\n",
      "   - 大きめの鍋にサラダ油を熱し、玉ねぎを入れて中火で炒める。玉ねぎが透明感を出してきたら、にんじんとじゃがいもを加えてさらに炒める。\n",
      "   - お好みでガーリックやしょうがを加えると香りが引き立ちます。\n",
      "\n",
      "3. **鶏肉を加える**\n",
      "   - 鶏肉を鍋に加え、全体が白っぽくなるまで炒める。\n",
      "\n",
      "4. **水を加える**\n",
      "   - 鍋に水を加え、煮立たせる。アクが出てきたら取り除く。\n",
      "\n",
      "5. **煮込む**\n",
      "   - 火を弱めて鍋を蓋し、約15分〜20分煮込む。じゃがいもとにんじんが柔らかくなるまで煮る。\n",
      "\n",
      "6. **カレールーを加える**\n",
      "   - 火を止め、カレールーを割り入れる。完全に溶かすまで混ぜ、再び弱火で煮込む。少しとろみがつくまで5〜10分煮る。\n",
      "\n",
      "7. **味を調える**\n",
      "   - 最後に味見をし、必要に応じて塩で調整する。\n",
      "\n",
      "8. **盛り付ける**\n",
      "   - ご飯と一緒に皿に盛り付け、お好みでトッピングを加えて完成です。\n",
      "\n",
      "#### サーブする際のアドバイス\n",
      "- カレーは翌日になると味がなじんでさらに美味しくなります。作り置きにもぴったりです。\n",
      "- 辛さを調整したい場合は、カレールーの種類を変えたり、唐辛子やチリペッパーを加えると良いでしょう。\n",
      "\n",
      "どうぞお楽しみください！\n"
     ]
    }
   ],
   "source": [
    "prompt = '''\\\n",
    "以下の料理のレシピを考えてください。\n",
    "\n",
    "料理名: \"\"\"\n",
    "{dish}\n",
    "\"\"\"\n",
    "'''\n",
    "\n",
    "\n",
    "def generate_recipe(dish: str) -> str:\n",
    "    response = client.chat.completions.create(\n",
    "        model=\"gpt-4o-mini\",\n",
    "        messages=[\n",
    "            {\"role\": \"user\", \"content\": prompt.format(dish=dish)},\n",
    "        ],\n",
    "    )\n",
    "    return response.choices[0].message.content\n",
    "\n",
    "\n",
    "recipe = generate_recipe(\"カレー\")\n",
    "print(recipe)"
   ]
  },
  {
   "cell_type": "code",
   "execution_count": 5,
   "id": "07947359",
   "metadata": {},
   "outputs": [
    {
     "name": "stdout",
     "output_type": "stream",
     "text": [
      "カレーのレシピをご紹介します。これは基本的なカレーの作り方ですが、具材や香辛料はお好みでアレンジできます。\n",
      "\n",
      "### 材料（4人分）\n",
      "- 鶏肉（もも肉または胸肉）：500g\n",
      "- 玉ねぎ：2個\n",
      "- にんじん：1本\n",
      "- じゃがいも：2個\n",
      "- カレールー：200g（お好みのブランドで）\n",
      "- ニンニク：2片（みじん切り）\n",
      "- 生姜：1片（みじん切り）\n",
      "- サラダ油：大さじ2\n",
      "- 水：800ml\n",
      "- 塩：適量\n",
      "- ブラックペッパー：適量\n",
      "- お好みで、パクチーやヨーグルト：トッピング用\n",
      "\n",
      "### 作り方\n",
      "1. **下準備：**\n",
      "   - 鶏肉は一口大に切り、塩とブラックペッパーで下味をつけます。\n",
      "   - 玉ねぎは薄切り、にんじんとじゃがいもは一口大に切ります。\n",
      "\n",
      "2. **炒める：**\n",
      "   - 大きめの鍋にサラダ油を入れ、中火で熱します。\n",
      "   - 鍋が温まったら、みじん切りにしたニンニクと生姜を加え、香りが出るまで炒めます。\n",
      "   - 次に玉ねぎを加え、透明になるまで炒めます。\n",
      "\n",
      "3. **肉と野菜を加える：**\n",
      "   - 鶏肉を加え、表面が白くなるまで炒めます。\n",
      "   - その後、にんじんとじゃがいもを加え、全体が混ざるように軽く炒めます。\n",
      "\n",
      "4. **煮る：**\n",
      "   - 水を加え、強火にして沸騰させます。\n",
      "   - 沸騰したら、アクを取り除き、中火にして約20分煮込みます。\n",
      "\n",
      "5. **カレーを作る：**\n",
      "   - 鍋にカレールーを加え、溶かしながら混ぜます。\n",
      "   - さらに10分ほど煮込んで、ルーがなじむまで煮ます。\n",
      "\n",
      "6. **完成：**\n",
      "   - 味を見て、必要であれば塩で調整します。\n",
      "   - ご飯と一緒に、またはナンと一緒に盛り付けて、お好みでパクチーやヨーグルトをトッピングして楽しんでください。\n",
      "\n",
      "お好みでガーリックライスやサラダを添えるのも良いですね。おいしいカレーをお楽しみください！\n"
     ]
    }
   ],
   "source": [
    "def generate_recipe_other_ver(dish: str) -> str:\n",
    "    response = client.chat.completions.create(\n",
    "        model=\"gpt-4o-mini\",\n",
    "        messages=[\n",
    "            {\n",
    "                \"role\": \"system\",\n",
    "                \"content\": \"ユーザーが入力した料理のレシピを考えてください。\",\n",
    "            },\n",
    "            {\"role\": \"user\", \"content\": f\"{dish}\"},\n",
    "        ],\n",
    "    )\n",
    "    return response.choices[0].message.content\n",
    "\n",
    "\n",
    "recipe = generate_recipe_other_ver(\"カレー\")\n",
    "print(recipe)"
   ]
  },
  {
   "cell_type": "code",
   "execution_count": 6,
   "id": "7cfa48cc",
   "metadata": {},
   "outputs": [
    {
     "name": "stdout",
     "output_type": "stream",
     "text": [
      "```json\n",
      "{\n",
      "  \"材料\": [\"カレー粉\", \"鶏肉\", \"玉ねぎ\", \"じゃがいも\", \"にんじん\", \"塩\", \"水\"],\n",
      "  \"手順\": [\"玉ねぎを薄くスライスし、鍋で炒める\", \"鶏肉を加えて炒め、表面が白くなるまで焼く\", \"じゃがいもとにんじんを切り、鍋に追加する\", \"水を加え、煮立たせる\", \"カレー粉を加え、全体を混ぜて中火で煮込む\", \"塩で味を調えて完成\"]\n",
      "}\n",
      "```\n"
     ]
    }
   ],
   "source": [
    "system_prompt = \"\"\"\\\n",
    "ユーザーが入力した料理のレシピを考えてください。\n",
    "\n",
    "出力は以下のJSON形式にしてください。\n",
    "\n",
    "```\n",
    "{\n",
    "  \"材料\": [\"材料1\", \"材料2\"],\n",
    "  \"手順\": [\"手順1\", \"手順2\"]\n",
    "}\n",
    "```\n",
    "\"\"\"\n",
    "\n",
    "response = client.chat.completions.create(\n",
    "    model=\"gpt-4o-mini\",\n",
    "    messages=[\n",
    "        {\"role\": \"system\", \"content\": system_prompt},\n",
    "        {\"role\": \"user\", \"content\": \"カレー\"},\n",
    "    ],\n",
    ")\n",
    "print(response.choices[0].message.content)\n"
   ]
  },
  {
   "cell_type": "markdown",
   "id": "cb21fb03",
   "metadata": {},
   "source": [
    "## 3.4"
   ]
  },
  {
   "cell_type": "code",
   "execution_count": null,
   "id": "dee91b10",
   "metadata": {},
   "outputs": [
    {
     "name": "stdout",
     "output_type": "stream",
     "text": [
      "ポジティブ\n"
     ]
    }
   ],
   "source": [
    "response = client.chat.completions.create(\n",
    "    model=\"gpt-4o-mini\",\n",
    "    messages=[\n",
    "        {\n",
    "            \"role\": \"system\",\n",
    "            \"content\": \"入力をポジティブ・ネガティブ・中立のどれかに分類してください。\",\n",
    "        },\n",
    "        {\n",
    "            \"role\": \"user\",\n",
    "            \"content\": \"ChatGPTはとても便利だ\",\n",
    "        },\n",
    "    ],\n",
    ")\n",
    "print(response.choices[0].message.content)\n"
   ]
  },
  {
   "cell_type": "code",
   "execution_count": 8,
   "id": "533c0db6",
   "metadata": {},
   "outputs": [
    {
     "name": "stdout",
     "output_type": "stream",
     "text": [
      "はい、ChatGPTは多くの質問に対する回答を提供したり、さまざまな情報をサポートしたりすることで、非常に便利です。何か特定のことについてお手伝いできることがあれば教えてください！\n"
     ]
    }
   ],
   "source": [
    "response = client.chat.completions.create(\n",
    "    model=\"gpt-4o-mini\",\n",
    "    messages=[\n",
    "        {\"role\": \"system\", \"content\": \"入力がAIに関係するか回答してください。\"},\n",
    "        {\"role\": \"user\", \"content\": \"ChatGPTはとても便利だ\"},\n",
    "    ],\n",
    ")\n",
    "print(response.choices[0].message.content)\n"
   ]
  },
  {
   "cell_type": "code",
   "execution_count": 9,
   "id": "47801e87",
   "metadata": {},
   "outputs": [
    {
     "name": "stdout",
     "output_type": "stream",
     "text": [
      "true\n"
     ]
    }
   ],
   "source": [
    "response = client.chat.completions.create(\n",
    "    model=\"gpt-4o-mini\",\n",
    "    messages=[\n",
    "        {\"role\": \"system\", \"content\": \"入力がAIに関係するか回答してください。\"},\n",
    "        {\"role\": \"user\", \"content\": \"AIの進化はすごい\"},\n",
    "        {\"role\": \"assistant\", \"content\": \"true\"},\n",
    "        {\"role\": \"user\", \"content\": \"今日は良い天気だ\"},\n",
    "        {\"role\": \"assistant\", \"content\": \"false\"},\n",
    "        {\"role\": \"user\", \"content\": \"ChatGPTはとても便利だ\"},\n",
    "    ],\n",
    ")\n",
    "print(response.choices[0].message.content)\n"
   ]
  },
  {
   "cell_type": "code",
   "execution_count": 10,
   "id": "0517a3dd",
   "metadata": {},
   "outputs": [
    {
     "name": "stdout",
     "output_type": "stream",
     "text": [
      "10\n"
     ]
    }
   ],
   "source": [
    "response = client.chat.completions.create(\n",
    "    model=\"gpt-4o-mini\",\n",
    "    messages=[\n",
    "        {\"role\": \"system\", \"content\": \"回答だけ一言で出力してください。\"},\n",
    "        {\"role\": \"user\", \"content\": \"10 + 2 * 3 - 4 * 2\"},\n",
    "    ],\n",
    ")\n",
    "print(response.choices[0].message.content)\n"
   ]
  },
  {
   "cell_type": "code",
   "execution_count": 11,
   "id": "50d2ce9c",
   "metadata": {},
   "outputs": [
    {
     "name": "stdout",
     "output_type": "stream",
     "text": [
      "計算をステップバイステップで行いましょう。\n",
      "\n",
      "式: \\(10 + 2 \\times 3 - 4 \\times 2\\)\n",
      "\n",
      "1. 最初に掛け算を行います。\n",
      "   - \\(2 \\times 3 = 6\\)\n",
      "   - \\(4 \\times 2 = 8\\)\n",
      "\n",
      "   よって、式は次のようになります：\n",
      "   \\[\n",
      "   10 + 6 - 8\n",
      "   \\]\n",
      "\n",
      "2. 次に足し算を行います。\n",
      "   - \\(10 + 6 = 16\\)\n",
      "\n",
      "   現在の式は：\n",
      "   \\[\n",
      "   16 - 8\n",
      "   \\]\n",
      "\n",
      "3. 最後に引き算を行います。\n",
      "   - \\(16 - 8 = 8\\)\n",
      "\n",
      "したがって、最終的な答えは \\(8\\) です。\n"
     ]
    }
   ],
   "source": [
    "response = client.chat.completions.create(\n",
    "    model=\"gpt-4o-mini\",\n",
    "    messages=[\n",
    "        {\"role\": \"system\", \"content\": \"ステップバイステップで考えてください。\"},\n",
    "        {\"role\": \"user\", \"content\": \"10 + 2 * 3 - 4 * 2\"},\n",
    "    ],\n",
    ")\n",
    "print(response.choices[0].message.content)\n"
   ]
  },
  {
   "cell_type": "code",
   "execution_count": null,
   "id": "f8c5c913",
   "metadata": {},
   "outputs": [],
   "source": []
  }
 ],
 "metadata": {
  "kernelspec": {
   "display_name": "tutorial-langchain",
   "language": "python",
   "name": "python3"
  },
  "language_info": {
   "codemirror_mode": {
    "name": "ipython",
    "version": 3
   },
   "file_extension": ".py",
   "mimetype": "text/x-python",
   "name": "python",
   "nbconvert_exporter": "python",
   "pygments_lexer": "ipython3",
   "version": "3.10.18"
  }
 },
 "nbformat": 4,
 "nbformat_minor": 5
}
