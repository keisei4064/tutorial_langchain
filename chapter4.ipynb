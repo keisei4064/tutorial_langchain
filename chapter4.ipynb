{
 "cells": [
  {
   "cell_type": "markdown",
   "id": "a6617a54",
   "metadata": {},
   "source": [
    "# 4章"
   ]
  },
  {
   "cell_type": "code",
   "execution_count": 1,
   "id": "d6755715",
   "metadata": {},
   "outputs": [
    {
     "data": {
      "text/plain": [
       "True"
      ]
     },
     "execution_count": 1,
     "metadata": {},
     "output_type": "execute_result"
    }
   ],
   "source": [
    "from dotenv import load_dotenv\n",
    "from pathlib import Path\n",
    "\n",
    "env_path = Path(\".\") / \".env\"\n",
    "load_dotenv(dotenv_path=env_path)  # 環境変数を読み込む"
   ]
  },
  {
   "cell_type": "markdown",
   "id": "5ca74135",
   "metadata": {},
   "source": [
    "## 4.2"
   ]
  },
  {
   "cell_type": "code",
   "execution_count": 4,
   "id": "1d599d8b",
   "metadata": {},
   "outputs": [
    {
     "name": "stdout",
     "output_type": "stream",
     "text": [
      "\n",
      "\n",
      "こんにちは\n",
      "\n",
      "こんにちは、私はAIのアシスタントです。あなたのお手伝いをすることができます。何かお困りのことはありますか？\n"
     ]
    }
   ],
   "source": [
    "from langchain_openai import OpenAI\n",
    "\n",
    "model = OpenAI(model=\"gpt-3.5-turbo-instruct\", temperature=0)\n",
    "ai_message = model.invoke(\"こんにちは\")\n",
    "print(ai_message)"
   ]
  },
  {
   "cell_type": "code",
   "execution_count": 4,
   "id": "f9c449a4",
   "metadata": {},
   "outputs": [
    {
     "name": "stdout",
     "output_type": "stream",
     "text": [
      "[SystemMessage(content='You are a helpful assistant.', additional_kwargs={}, response_metadata={}),\n",
      " HumanMessage(content='こんにちは！私はジョンと言います', additional_kwargs={}, response_metadata={}),\n",
      " AIMessage(content='こんにちは、ジョンさん！どのようにお手伝いできますか？', additional_kwargs={}, response_metadata={}),\n",
      " HumanMessage(content='私の名前がわかりますか？', additional_kwargs={}, response_metadata={})]\n"
     ]
    }
   ],
   "source": [
    "from langchain_core.messages import AIMessage, HumanMessage, SystemMessage\n",
    "from langchain_openai import ChatOpenAI\n",
    "\n",
    "model = ChatOpenAI(model=\"gpt-4o-mini\", temperature=0)\n",
    "\n",
    "messages = [\n",
    "    SystemMessage(\"You are a helpful assistant.\"),\n",
    "    HumanMessage(\"こんにちは！私はジョンと言います\"),\n",
    "    AIMessage(content=\"こんにちは、ジョンさん！どのようにお手伝いできますか？\"),\n",
    "    HumanMessage(content=\"私の名前がわかりますか？\"),\n",
    "]\n",
    "\n",
    "from pprint import pprint\n",
    "pprint(messages)"
   ]
  },
  {
   "cell_type": "code",
   "execution_count": 5,
   "id": "63660d8a",
   "metadata": {},
   "outputs": [
    {
     "name": "stdout",
     "output_type": "stream",
     "text": [
      "はい、あなたの名前はジョンさんです。何か特別なことについてお話ししたいことがありますか？\n"
     ]
    }
   ],
   "source": [
    "ai_message = model.invoke(messages)\n",
    "print(ai_message.content)"
   ]
  },
  {
   "cell_type": "code",
   "execution_count": 7,
   "id": "97b43f08",
   "metadata": {},
   "outputs": [
    {
     "name": "stdout",
     "output_type": "stream",
     "text": [
      "こんにちは！どのようにお手伝いできますか？"
     ]
    }
   ],
   "source": [
    "messages = [\n",
    "    SystemMessage(\"You are a helpful assistant.\"),\n",
    "    HumanMessage(\"こんにちは！\"),\n",
    "]\n",
    "\n",
    "for chunk in model.stream(messages):\n",
    "    print(chunk.content, end=\"\", flush=True)\n"
   ]
  },
  {
   "cell_type": "markdown",
   "id": "90caea32",
   "metadata": {},
   "source": [
    "### ローカルのGemmaでも動かしてみる"
   ]
  },
  {
   "cell_type": "code",
   "execution_count": 2,
   "id": "44e2c543",
   "metadata": {},
   "outputs": [
    {
     "name": "stderr",
     "output_type": "stream",
     "text": [
      "/home/njz/tutorial_langchain/.venv/lib/python3.10/site-packages/tqdm/auto.py:21: TqdmWarning: IProgress not found. Please update jupyter and ipywidgets. See https://ipywidgets.readthedocs.io/en/stable/user_install.html\n",
      "  from .autonotebook import tqdm as notebook_tqdm\n",
      "`torch_dtype` is deprecated! Use `dtype` instead!\n",
      "Device set to use cuda:0\n"
     ]
    }
   ],
   "source": [
    "from langchain_huggingface import HuggingFacePipeline, ChatHuggingFace\n",
    "from transformers import pipeline\n",
    "import torch\n",
    "\n",
    "# 1. Transformers 側でモデル＆トークナイザーを用意（ローカル読み込み）\n",
    "# 例：Gemma のモデルをローカルから読み込む（量子化モデル等を使う想定）\n",
    "text_gen = pipeline(\n",
    "    \"text-generation\",\n",
    "    model=\"google/gemma-3-1b-it\",  # 小さめモデルを例に\n",
    "    device_map=\"auto\",\n",
    "    torch_dtype=\"auto\",\n",
    "    # もし量子化モデルなら bitsandbytes 設定などを追加\n",
    ")\n",
    "\n",
    "# 2. LangChain の HuggingFacePipeline をラップ\n",
    "hf_pipeline = HuggingFacePipeline(pipeline=text_gen)\n",
    "\n",
    "# 3. ChatHuggingFace を使ってチャット形式で呼び出し\n",
    "chat = ChatHuggingFace(llm=hf_pipeline)\n"
   ]
  },
  {
   "cell_type": "code",
   "execution_count": 9,
   "id": "ea104b78",
   "metadata": {},
   "outputs": [
    {
     "name": "stdout",
     "output_type": "stream",
     "text": [
      "<bos><start_of_turn>user\n",
      "You are a helpful assistant.\n",
      "\n",
      "こんにちは！私はジョンと言います<end_of_turn>\n",
      "<start_of_turn>model\n",
      "こんにちは、ジョンさん！どのようにお手伝いできますか？<end_of_turn>\n",
      "<start_of_turn>user\n",
      "私の名前がわかりますか？<end_of_turn>\n",
      "<start_of_turn>model\n",
      "はい、ジョンさん、あなたの名前はジョンです。😊 どのようなお手伝いが必要ですか？\n"
     ]
    }
   ],
   "source": [
    "# 対話用メッセージリストを定義（System, Human, AI）\n",
    "from langchain_core.messages import AIMessage, HumanMessage, SystemMessage\n",
    "\n",
    "messages = [\n",
    "    SystemMessage(content=\"You are a helpful assistant.\"),\n",
    "    HumanMessage(content=\"こんにちは！私はジョンと言います\"),\n",
    "    AIMessage(content=\"こんにちは、ジョンさん！どのようにお手伝いできますか？\"),\n",
    "    HumanMessage(content=\"私の名前がわかりますか？\"),\n",
    "]\n",
    "\n",
    "# 応答取得\n",
    "response = chat.invoke(messages)\n",
    "print(response.content)"
   ]
  },
  {
   "cell_type": "markdown",
   "id": "cd06c65f",
   "metadata": {},
   "source": [
    "## 4.3 Prompt template"
   ]
  },
  {
   "cell_type": "code",
   "execution_count": 3,
   "id": "585199e1",
   "metadata": {},
   "outputs": [
    {
     "name": "stdout",
     "output_type": "stream",
     "text": [
      "以下の料理のレシピを考えてください。\n",
      "\n",
      "料理名: カレー\n"
     ]
    }
   ],
   "source": [
    "from langchain_core.prompts import PromptTemplate\n",
    "\n",
    "prompt = PromptTemplate.from_template(\"\"\"以下の料理のレシピを考えてください。\n",
    "\n",
    "料理名: {dish}\"\"\")\n",
    "\n",
    "prompt_value = prompt.invoke({\"dish\": \"カレー\"})\n",
    "print(prompt_value.text)\n"
   ]
  },
  {
   "cell_type": "code",
   "execution_count": 13,
   "id": "1f34c64e",
   "metadata": {},
   "outputs": [
    {
     "name": "stdout",
     "output_type": "stream",
     "text": [
      "{'messages': [SystemMessage(content='You are a helpful assistant.', additional_kwargs={}, response_metadata={}),\n",
      "              HumanMessage(content='こんにちは！私はジョンと言います！', additional_kwargs={}, response_metadata={}),\n",
      "              AIMessage(content='こんにちは、ジョンさん！どのようにお手伝いできますか？', additional_kwargs={}, response_metadata={}),\n",
      "              HumanMessage(content='私の名前が分かりますか？', additional_kwargs={}, response_metadata={})]}\n"
     ]
    }
   ],
   "source": [
    "from langchain_core.messages import AIMessage, HumanMessage\n",
    "from langchain_core.prompts import ChatPromptTemplate, MessagesPlaceholder\n",
    "\n",
    "prompt = ChatPromptTemplate.from_messages(\n",
    "    [\n",
    "        (\"system\", \"You are a helpful assistant.\"),\n",
    "        MessagesPlaceholder(\"chat_history\", optional=True),\n",
    "        (\"human\", \"{input}\"),\n",
    "    ]\n",
    ")\n",
    "\n",
    "prompt_value = prompt.invoke(\n",
    "    {\n",
    "        \"chat_history\": [\n",
    "            HumanMessage(content=\"こんにちは！私はジョンと言います！\"),\n",
    "            AIMessage(\"こんにちは、ジョンさん！どのようにお手伝いできますか？\"),\n",
    "        ],\n",
    "        \"input\": \"私の名前が分かりますか？\",\n",
    "    }\n",
    ")\n",
    "pprint(dict(prompt_value))\n"
   ]
  },
  {
   "cell_type": "code",
   "execution_count": null,
   "id": "ee4ae2d6",
   "metadata": {},
   "outputs": [
    {
     "name": "stdout",
     "output_type": "stream",
     "text": [
      "[SystemMessage(content='ユーザーが入力した料理のレシピを考えてください。', additional_kwargs={}, response_metadata={}),\n",
      " HumanMessage(content='カレー', additional_kwargs={}, response_metadata={})]\n"
     ]
    }
   ],
   "source": [
    "from langsmith import Client\n",
    "\n",
    "client = Client()\n",
    "\n",
    "# ハブからプロンプトを取得\n",
    "#   https://smith.langchain.com/hub/oshima/recipe?organizationId=ea7088b0-34ee-40cf-9303-d0aa6cd16441\n",
    "prompt = client.pull_prompt(\"oshima/recipe\")\n",
    "\n",
    "prompt_value = prompt.invoke({\"dish\": \"カレー\"})\n",
    "pprint(prompt_value.messages)\n"
   ]
  },
  {
   "cell_type": "code",
   "execution_count": 17,
   "id": "76194f16",
   "metadata": {},
   "outputs": [],
   "source": [
    "from langchain_core.prompts import ChatPromptTemplate\n",
    "from langchain_openai import ChatOpenAI\n",
    "\n",
    "prompt = ChatPromptTemplate.from_messages(\n",
    "    [\n",
    "        (\n",
    "            \"user\",\n",
    "            [\n",
    "                {\"type\": \"text\", \"text\": \"画像を説明してください。\"},\n",
    "                {\"type\": \"image_url\", \"image_url\": {\"url\": \"{image_url}\"}},\n",
    "            ],\n",
    "        ),\n",
    "    ]\n",
    ")\n",
    "image_url = \"https://raw.githubusercontent.com/yoshidashingo/langchain-book/main/assets/cover.jpg\"\n",
    "\n",
    "prompt_value = prompt.invoke({\"image_url\": image_url})\n"
   ]
  },
  {
   "cell_type": "code",
   "execution_count": 18,
   "id": "74d955ba",
   "metadata": {},
   "outputs": [
    {
     "name": "stdout",
     "output_type": "stream",
     "text": [
      "この画像は、「ChatGPT/LangChainによるチャットシステム構築[実践]入門」という本の表紙です。表紙にはカラフルな鳥のイラストが描かれています。著者は吉田真吾と大嶋勇樹です。表紙には、OpenAI APIやLangChainの活用方法についての内容が含まれていることが示されています。\n"
     ]
    }
   ],
   "source": [
    "model = ChatOpenAI(model=\"gpt-4o\", temperature=0)\n",
    "ai_message = model.invoke(prompt_value)\n",
    "print(ai_message.content)\n"
   ]
  },
  {
   "cell_type": "markdown",
   "id": "69ec8312",
   "metadata": {},
   "source": [
    "## 4.4"
   ]
  },
  {
   "cell_type": "code",
   "execution_count": 26,
   "id": "7be787b5",
   "metadata": {},
   "outputs": [
    {
     "name": "stdout",
     "output_type": "stream",
     "text": [
      "{'properties': {'ingredients': {'description': 'ingredients of the dish',\n",
      "                                'items': {'type': 'string'},\n",
      "                                'title': 'Ingredients',\n",
      "                                'type': 'array'},\n",
      "                'steps': {'description': 'steps to make the dish',\n",
      "                          'items': {'type': 'string'},\n",
      "                          'title': 'Steps',\n",
      "                          'type': 'array'}},\n",
      " 'required': ['ingredients', 'steps'],\n",
      " 'title': 'Recipe',\n",
      " 'type': 'object'}\n"
     ]
    }
   ],
   "source": [
    "from pydantic import BaseModel, Field\n",
    "\n",
    "\n",
    "class Recipe(BaseModel):\n",
    "    ingredients: list[str] = Field(description=\"ingredients of the dish\")\n",
    "    steps: list[str] = Field(description=\"steps to make the dish\")\n",
    "\n",
    "\n",
    "pprint(Recipe.model_json_schema())"
   ]
  },
  {
   "cell_type": "code",
   "execution_count": 21,
   "id": "2b39c0d1",
   "metadata": {},
   "outputs": [],
   "source": [
    "from langchain_core.output_parsers import PydanticOutputParser\n",
    "\n",
    "output_parser = PydanticOutputParser(pydantic_object=Recipe)"
   ]
  },
  {
   "cell_type": "code",
   "execution_count": 27,
   "id": "34ac8720",
   "metadata": {},
   "outputs": [
    {
     "name": "stdout",
     "output_type": "stream",
     "text": [
      "The output should be formatted as a JSON instance that conforms to the JSON schema below.\n",
      "\n",
      "As an example, for the schema {\"properties\": {\"foo\": {\"title\": \"Foo\", \"description\": \"a list of strings\", \"type\": \"array\", \"items\": {\"type\": \"string\"}}}, \"required\": [\"foo\"]}\n",
      "the object {\"foo\": [\"bar\", \"baz\"]} is a well-formatted instance of the schema. The object {\"properties\": {\"foo\": [\"bar\", \"baz\"]}} is not well-formatted.\n",
      "\n",
      "Here is the output schema:\n",
      "```\n",
      "{\"properties\": {\"ingredients\": {\"description\": \"ingredients of the dish\", \"items\": {\"type\": \"string\"}, \"title\": \"Ingredients\", \"type\": \"array\"}, \"steps\": {\"description\": \"steps to make the dish\", \"items\": {\"type\": \"string\"}, \"title\": \"Steps\", \"type\": \"array\"}}, \"required\": [\"ingredients\", \"steps\"]}\n",
      "```\n"
     ]
    }
   ],
   "source": [
    "format_instructions = output_parser.get_format_instructions()\n",
    "print(format_instructions)\n"
   ]
  },
  {
   "cell_type": "code",
   "execution_count": 28,
   "id": "daa394b5",
   "metadata": {},
   "outputs": [],
   "source": [
    "from langchain_core.prompts import ChatPromptTemplate\n",
    "\n",
    "prompt = ChatPromptTemplate.from_messages(\n",
    "    [\n",
    "        (\n",
    "            \"system\",\n",
    "            \"ユーザーが入力した料理のレシピを考えてください。\\n\\n{format_instructions}\",\n",
    "        ),\n",
    "        (\"human\", \"{dish}\"),\n",
    "    ]\n",
    ")\n",
    "\n",
    "prompt_with_format_instructions = prompt.partial(\n",
    "    format_instructions=format_instructions\n",
    ")"
   ]
  },
  {
   "cell_type": "code",
   "execution_count": 29,
   "id": "fb91a3d2",
   "metadata": {},
   "outputs": [
    {
     "name": "stdout",
     "output_type": "stream",
     "text": [
      "=== role: system ===\n",
      "ユーザーが入力した料理のレシピを考えてください。\n",
      "\n",
      "The output should be formatted as a JSON instance that conforms to the JSON schema below.\n",
      "\n",
      "As an example, for the schema {\"properties\": {\"foo\": {\"title\": \"Foo\", \"description\": \"a list of strings\", \"type\": \"array\", \"items\": {\"type\": \"string\"}}}, \"required\": [\"foo\"]}\n",
      "the object {\"foo\": [\"bar\", \"baz\"]} is a well-formatted instance of the schema. The object {\"properties\": {\"foo\": [\"bar\", \"baz\"]}} is not well-formatted.\n",
      "\n",
      "Here is the output schema:\n",
      "```\n",
      "{\"properties\": {\"ingredients\": {\"description\": \"ingredients of the dish\", \"items\": {\"type\": \"string\"}, \"title\": \"Ingredients\", \"type\": \"array\"}, \"steps\": {\"description\": \"steps to make the dish\", \"items\": {\"type\": \"string\"}, \"title\": \"Steps\", \"type\": \"array\"}}, \"required\": [\"ingredients\", \"steps\"]}\n",
      "```\n",
      "=== role: user ===\n",
      "カレー\n"
     ]
    }
   ],
   "source": [
    "prompt_value = prompt_with_format_instructions.invoke({\"dish\": \"カレー\"})\n",
    "print(\"=== role: system ===\")\n",
    "print(prompt_value.messages[0].content)\n",
    "print(\"=== role: user ===\")\n",
    "print(prompt_value.messages[1].content)\n"
   ]
  },
  {
   "cell_type": "code",
   "execution_count": 30,
   "id": "ac7ce3db",
   "metadata": {},
   "outputs": [
    {
     "name": "stdout",
     "output_type": "stream",
     "text": [
      "{\n",
      "  \"ingredients\": [\n",
      "    \"鶏肉 500g\",\n",
      "    \"玉ねぎ 2個\",\n",
      "    \"にんじん 1本\",\n",
      "    \"じゃがいも 2個\",\n",
      "    \"カレールー 1箱\",\n",
      "    \"水 800ml\",\n",
      "    \"サラダ油 大さじ2\",\n",
      "    \"塩 適量\",\n",
      "    \"こしょう 適量\"\n",
      "  ],\n",
      "  \"steps\": [\n",
      "    \"鶏肉は一口大に切り、塩とこしょうをふる。\",\n",
      "    \"玉ねぎは薄切り、にんじんとじゃがいもは一口大に切る。\",\n",
      "    \"鍋にサラダ油を熱し、玉ねぎを炒めて透明になるまで炒める。\",\n",
      "    \"鶏肉を加え、表面が白くなるまで炒める。\",\n",
      "    \"にんじんとじゃがいもを加え、さらに炒める。\",\n",
      "    \"水を加え、沸騰したらアクを取り、弱火で20分煮る。\",\n",
      "    \"カレールーを加え、よく溶かしてさらに10分煮る。\",\n",
      "    \"味を見て、必要に応じて塩で調整する。\",\n",
      "    \"ご飯と一緒に盛り付けて完成。\"\n",
      "  ]\n",
      "}\n"
     ]
    }
   ],
   "source": [
    "from langchain_openai import ChatOpenAI\n",
    "\n",
    "model = ChatOpenAI(model=\"gpt-4o-mini\", temperature=0)\n",
    "\n",
    "ai_message = model.invoke(prompt_value)\n",
    "print(ai_message.content)"
   ]
  },
  {
   "cell_type": "code",
   "execution_count": 32,
   "id": "26c77480",
   "metadata": {},
   "outputs": [
    {
     "name": "stdout",
     "output_type": "stream",
     "text": [
      "<class '__main__.Recipe'>\n",
      "Recipe(ingredients=['鶏肉 500g', '玉ねぎ 2個', 'にんじん 1本', 'じゃがいも 2個', 'カレールー 1箱', '水 800ml', 'サラダ油 大さじ2', '塩 適量', 'こしょう 適量'], steps=['鶏肉は一口大に切り、塩とこしょうをふる。', '玉ねぎは薄切り、にんじんとじゃがいもは一口大に切る。', '鍋にサラダ油を熱し、玉ねぎを炒めて透明になるまで炒める。', '鶏肉を加え、表面が白くなるまで炒める。', 'にんじんとじゃがいもを加え、さらに炒める。', '水を加え、沸騰したらアクを取り、弱火で20分煮る。', 'カレールーを加え、よく溶かしてさらに10分煮る。', '味を見て、必要に応じて塩で調整する。', 'ご飯と一緒に盛り付けて完成。'])\n"
     ]
    }
   ],
   "source": [
    "recipe = output_parser.invoke(ai_message)\n",
    "print(type(recipe))\n",
    "pprint(recipe)"
   ]
  },
  {
   "cell_type": "code",
   "execution_count": 33,
   "id": "57a89b40",
   "metadata": {},
   "outputs": [
    {
     "name": "stdout",
     "output_type": "stream",
     "text": [
      "<class 'str'>\n",
      "こんにちは。私はAIアシスタントです。\n"
     ]
    }
   ],
   "source": [
    "from langchain_core.messages import AIMessage\n",
    "from langchain_core.output_parsers import StrOutputParser\n",
    "\n",
    "output_parser = StrOutputParser()\n",
    "\n",
    "ai_message = AIMessage(content=\"こんにちは。私はAIアシスタントです。\")\n",
    "ai_message = output_parser.invoke(ai_message)\n",
    "print(type(ai_message))\n",
    "print(ai_message)\n"
   ]
  },
  {
   "cell_type": "markdown",
   "id": "9ed5ca5b",
   "metadata": {},
   "source": [
    "## 4.5"
   ]
  },
  {
   "cell_type": "code",
   "execution_count": 34,
   "id": "b6fd7fbc",
   "metadata": {},
   "outputs": [],
   "source": [
    "from langchain_core.prompts import ChatPromptTemplate\n",
    "from langchain_openai import ChatOpenAI\n",
    "\n",
    "prompt = ChatPromptTemplate.from_messages(\n",
    "    [\n",
    "        (\"system\", \"ユーザーが入力した料理のレシピを考えてください。\"),\n",
    "        (\"human\", \"{dish}\"),\n",
    "    ]\n",
    ")\n",
    "\n",
    "model = ChatOpenAI(model_name=\"gpt-4o-mini\", temperature=0)"
   ]
  },
  {
   "cell_type": "code",
   "execution_count": 35,
   "id": "02aa84aa",
   "metadata": {},
   "outputs": [],
   "source": [
    "# Chain!\n",
    "chain = prompt | model"
   ]
  },
  {
   "cell_type": "code",
   "execution_count": 36,
   "id": "ad2b5bbd",
   "metadata": {},
   "outputs": [
    {
     "name": "stdout",
     "output_type": "stream",
     "text": [
      "カレーのレシピをご紹介します！こちらは基本的なチキンカレーのレシピです。\n",
      "\n",
      "### 材料（4人分）\n",
      "- 鶏もも肉：400g\n",
      "- 玉ねぎ：2個\n",
      "- にんじん：1本\n",
      "- じゃがいも：2個\n",
      "- カレールー：1箱（約200g）\n",
      "- サラダ油：大さじ2\n",
      "- 水：600ml\n",
      "- 塩：適量\n",
      "- 胡椒：適量\n",
      "- お好みでガーリックパウダーや生姜：少々\n",
      "\n",
      "### 作り方\n",
      "1. **下ごしらえ**：\n",
      "   - 鶏もも肉は一口大に切り、塩と胡椒をふって下味をつけます。\n",
      "   - 玉ねぎは薄切り、にんじんは輪切り、じゃがいもは一口大に切ります。\n",
      "\n",
      "2. **炒める**：\n",
      "   - 大きめの鍋にサラダ油を熱し、玉ねぎを中火で炒めます。玉ねぎが透明になるまで炒めます。\n",
      "   - 鶏肉を加え、表面が白くなるまで炒めます。\n",
      "\n",
      "3. **野菜を加える**：\n",
      "   - にんじんとじゃがいもを鍋に加え、全体をよく混ぜます。\n",
      "\n",
      "4. **煮る**：\n",
      "   - 水を加え、沸騰したらアクを取り除きます。蓋をして中火で約15分煮ます。\n",
      "\n",
      "5. **カレールーを加える**：\n",
      "   - 火を弱め、カレールーを割り入れ、よく溶かします。さらに10分ほど煮込み、全体がなじんだら味を見て、必要に応じて塩や胡椒で調整します。\n",
      "\n",
      "6. **仕上げ**：\n",
      "   - お好みでガーリックパウダーや生姜を加えて風味をアップさせます。全体がとろっとしたら火を止めます。\n",
      "\n",
      "7. **盛り付け**：\n",
      "   - ご飯と一緒に盛り付けて、お好みで福神漬けやらっきょうを添えて完成です！\n",
      "\n",
      "### おすすめのトッピング\n",
      "- 煮卵\n",
      "- チーズ\n",
      "- パクチー\n",
      "\n",
      "このレシピを参考に、ぜひ美味しいカレーを作ってみてください！お好みで具材を変えたり、辛さを調整したりして楽しんでくださいね。\n"
     ]
    }
   ],
   "source": [
    "ai_message = chain.invoke({\"dish\": \"カレー\"})\n",
    "print(ai_message.content)"
   ]
  },
  {
   "cell_type": "code",
   "execution_count": 37,
   "id": "5186950d",
   "metadata": {},
   "outputs": [
    {
     "name": "stdout",
     "output_type": "stream",
     "text": [
      "<class 'langchain_core.runnables.base.RunnableSequence'>\n"
     ]
    }
   ],
   "source": [
    "print(type(chain))"
   ]
  },
  {
   "cell_type": "code",
   "execution_count": 38,
   "id": "5649822a",
   "metadata": {},
   "outputs": [
    {
     "name": "stdout",
     "output_type": "stream",
     "text": [
      "カレーのレシピをご紹介します！こちらは基本的なチキンカレーのレシピです。\n",
      "\n",
      "### 材料（4人分）\n",
      "- 鶏もも肉：400g\n",
      "- 玉ねぎ：2個\n",
      "- にんじん：1本\n",
      "- じゃがいも：2個\n",
      "- カレールー：1箱（約200g）\n",
      "- サラダ油：大さじ2\n",
      "- 水：600ml\n",
      "- 塩：適量\n",
      "- 胡椒：適量\n",
      "- お好みでガーリックパウダーや生姜：少々\n",
      "\n",
      "### 作り方\n",
      "1. **下ごしらえ**：\n",
      "   - 鶏もも肉は一口大に切り、塩と胡椒をふって下味をつけます。\n",
      "   - 玉ねぎは薄切り、にんじんは輪切り、じゃがいもは一口大に切ります。\n",
      "\n",
      "2. **炒める**：\n",
      "   - 大きめの鍋にサラダ油を熱し、玉ねぎを中火で炒めます。玉ねぎが透明になるまで炒めます。\n",
      "   - 鶏肉を加え、表面が白くなるまで炒めます。\n",
      "\n",
      "3. **野菜を加える**：\n",
      "   - にんじんとじゃがいもを鍋に加え、全体をよく混ぜます。\n",
      "\n",
      "4. **煮る**：\n",
      "   - 水を加え、沸騰したらアクを取り除きます。蓋をして中火で約15分煮ます。\n",
      "\n",
      "5. **カレールーを加える**：\n",
      "   - 火を弱め、カレールーを割り入れ、よく溶かします。さらに10分ほど煮込み、全体がなじんだら味を見て、必要に応じて塩や胡椒で調整します。\n",
      "\n",
      "6. **仕上げ**：\n",
      "   - お好みでガーリックパウダーや生姜を加えて風味をアップさせます。全体がとろっとしたら火を止めます。\n",
      "\n",
      "7. **盛り付け**：\n",
      "   - ご飯と一緒に盛り付けて、お好みで福神漬けやらっきょうを添えて完成です！\n",
      "\n",
      "### おすすめのトッピング\n",
      "- チーズ\n",
      "- 生卵（温泉卵や目玉焼き）\n",
      "- パクチー\n",
      "\n",
      "このレシピを参考に、ぜひ美味しいカレーを作ってみてください！お好みで具材を変えたり、スパイスを追加したりしてアレンジも楽しんでくださいね。\n"
     ]
    }
   ],
   "source": [
    "from langchain_core.output_parsers import StrOutputParser\n",
    "\n",
    "chain = prompt | model | StrOutputParser()\n",
    "output = chain.invoke({\"dish\": \"カレー\"})\n",
    "print(output)\n"
   ]
  },
  {
   "cell_type": "code",
   "execution_count": 39,
   "id": "f76c1dc9",
   "metadata": {},
   "outputs": [
    {
     "name": "stdout",
     "output_type": "stream",
     "text": [
      "<class 'str'>\n"
     ]
    }
   ],
   "source": [
    "print(type(output))"
   ]
  },
  {
   "cell_type": "code",
   "execution_count": 42,
   "id": "a0f1c853",
   "metadata": {},
   "outputs": [],
   "source": [
    "from langchain_core.output_parsers import PydanticOutputParser\n",
    "from pydantic import BaseModel, Field\n",
    "from langchain_core.prompts import ChatPromptTemplate\n",
    "from langchain_openai import ChatOpenAI\n",
    "\n",
    "\n",
    "class Recipe(BaseModel):\n",
    "    ingredients: list[str] = Field(description=\"ingredients of the dish\")\n",
    "    steps: list[str] = Field(description=\"steps to make the dish\")\n",
    "\n",
    "\n",
    "output_parser = PydanticOutputParser(pydantic_object=Recipe)\n",
    "\n",
    "\n",
    "prompt = ChatPromptTemplate.from_messages(\n",
    "    [\n",
    "        (\n",
    "            \"system\",\n",
    "            \"ユーザーが入力した料理のレシピを考えてください。\\n\\n{format_instructions}\",\n",
    "        ),\n",
    "        (\"human\", \"{dish}\"),\n",
    "    ]\n",
    ")\n",
    "\n",
    "prompt_with_format_instructions = prompt.partial(\n",
    "    format_instructions=output_parser.get_format_instructions()\n",
    ")\n",
    "\n",
    "model = ChatOpenAI(model=\"gpt-4o-mini\", temperature=0).bind(\n",
    "    response_format={\"type\": \"json_object\"}\n",
    ")"
   ]
  },
  {
   "cell_type": "code",
   "execution_count": 43,
   "id": "d90ccb04",
   "metadata": {},
   "outputs": [],
   "source": [
    "# Chain!\n",
    "chain = prompt_with_format_instructions | model | output_parser"
   ]
  },
  {
   "cell_type": "code",
   "execution_count": 44,
   "id": "796d191c",
   "metadata": {},
   "outputs": [
    {
     "name": "stdout",
     "output_type": "stream",
     "text": [
      "<class '__main__.Recipe'>\n",
      "ingredients=['鶏肉 500g', '玉ねぎ 2個', 'にんじん 1本', 'じゃがいも 2個', 'カレールー 1箱', '水 800ml', 'サラダ油 大さじ2', '塩 適量', 'こしょう 適量'] steps=['鶏肉は一口大に切り、塩とこしょうをふる。', '玉ねぎは薄切り、にんじんとじゃがいもは一口大に切る。', '鍋にサラダ油を熱し、玉ねぎを炒めて透明になるまで炒める。', '鶏肉を加え、表面が白くなるまで炒める。', 'にんじんとじゃがいもを加え、全体をよく混ぜる。', '水を加え、煮立ったらアクを取り除く。', '弱火にして、蓋をして約20分煮る。', 'カレールーを加え、よく溶かしてさらに10分煮込む。', '味を見て、必要に応じて塩で調整する。', 'ご飯と一緒に盛り付けて完成。']\n"
     ]
    }
   ],
   "source": [
    "recipe = chain.invoke({\"dish\": \"カレー\"})\n",
    "print(type(recipe))\n",
    "print(recipe)"
   ]
  },
  {
   "cell_type": "markdown",
   "id": "b991ab33",
   "metadata": {},
   "source": [
    "## 4.6"
   ]
  },
  {
   "cell_type": "code",
   "execution_count": 47,
   "id": "3b3edc9f",
   "metadata": {},
   "outputs": [],
   "source": [
    "from langchain_community.document_loaders import GitLoader\n",
    "\n",
    "\n",
    "def file_filter(file_path: str) -> bool:\n",
    "    return file_path.endswith(\".md\")\n",
    "\n",
    "\n",
    "loader = GitLoader(\n",
    "    clone_url=\"https://github.com/langchain-ai/langchain\",\n",
    "    repo_path=\"./langchain\",\n",
    "    branch=\"master\",\n",
    "    file_filter=file_filter,\n",
    ")"
   ]
  },
  {
   "cell_type": "code",
   "execution_count": 48,
   "id": "702f2119",
   "metadata": {},
   "outputs": [
    {
     "name": "stdout",
     "output_type": "stream",
     "text": [
      "41\n"
     ]
    }
   ],
   "source": [
    "raw_docs = loader.load()\n",
    "print(len(raw_docs))\n"
   ]
  },
  {
   "cell_type": "code",
   "execution_count": 49,
   "id": "89f133ef",
   "metadata": {},
   "outputs": [
    {
     "name": "stderr",
     "output_type": "stream",
     "text": [
      "Created a chunk of size 1445, which is longer than the specified 1000\n",
      "Created a chunk of size 1422, which is longer than the specified 1000\n",
      "Created a chunk of size 1166, which is longer than the specified 1000\n"
     ]
    },
    {
     "name": "stdout",
     "output_type": "stream",
     "text": [
      "111\n"
     ]
    }
   ],
   "source": [
    "from langchain_text_splitters import CharacterTextSplitter\n",
    "\n",
    "text_splitter = CharacterTextSplitter(chunk_size=1000, chunk_overlap=0)\n",
    "\n",
    "docs = text_splitter.split_documents(raw_docs)\n",
    "print(len(docs))"
   ]
  },
  {
   "cell_type": "markdown",
   "id": "770352d1",
   "metadata": {},
   "source": [
    "### 埋め込み"
   ]
  },
  {
   "cell_type": "code",
   "execution_count": 50,
   "id": "f43e9b03",
   "metadata": {},
   "outputs": [],
   "source": [
    "from langchain_openai import OpenAIEmbeddings\n",
    "\n",
    "embeddings = OpenAIEmbeddings(model=\"text-embedding-3-small\")\n"
   ]
  },
  {
   "cell_type": "code",
   "execution_count": null,
   "id": "55728c05",
   "metadata": {},
   "outputs": [
    {
     "name": "stdout",
     "output_type": "stream",
     "text": [
      "1536\n",
      "[0.01968870498239994, -0.007562828715890646, 0.029617559164762497, -0.026554401963949203, 0.049940019845962524, 0.025012260302901268, -0.014977781102061272, 0.02129422128200531, 0.025730518624186516, -0.021463222801685333, 0.009273971430957317, -0.010615423321723938, -0.017417743802070618, -0.006010124925523996, -0.011428743600845337, 0.06316440552473068, 0.033335596323013306, -0.00034394499380141497, -0.04495446756482124, 0.02638540044426918, 0.0320047065615654, 0.03532136604189873, -0.03819439932703972, 0.021864602342247963, 0.01868525706231594, -0.018769757822155952, -0.020269649103283882, 0.032237086445093155, -0.00830221176147461, -0.10114755481481552, -0.009332065470516682, -0.0574183464050293, -0.034243982285261154, 0.04677123576402664, -0.023934874683618546, 0.034835487604141235, 0.023343367502093315, 0.013308888301253319, -0.00799589604139328, -0.033758100122213364, 0.00023254245752468705, -0.021009031683206558, 0.021072406321763992, 0.013171575032174587, 0.006480161100625992, 0.004457421600818634, 0.007346295285969973, -0.0012714741751551628, -0.04677123576402664, 0.010287982411682606, -0.03876477852463722, 0.03299759328365326, -0.002429400337859988, -0.024061625823378563, -0.0008522705757059157, 0.04765849560499191, -0.019614767283201218, 0.02518126182258129, 5.710410914616659e-05, -0.020058397203683853, 0.016572734341025352, 0.004856159910559654, -0.04917951300740242, 0.06291090697050095, -0.0007829534588381648, 0.03415948152542114, 0.0013757799752056599, -0.03080057166516781, -0.06396716833114624, 0.0035912874154746532, -0.03906053304672241, 0.038553524762392044, 0.031328700482845306, -0.03999004140496254, -0.0076684546656906605, -0.013256075792014599, -0.03166670352220535, 0.035046741366386414, -0.012537818402051926, 0.029448555782437325, -0.008423681370913982, 0.05517907440662384, -0.02769516408443451, -0.05048927664756775, 0.02439962886273861, 0.016910739243030548, 0.006717820186167955, 0.03088507242500782, -0.001642485847696662, 0.008138490840792656, 0.038849279284477234, 0.01750224456191063, -0.02750503644347191, 0.027758538722991943, 0.012316003441810608, 0.03895490616559982, 0.02670227736234665, -0.04250394180417061, -0.0028598266653716564, 0.027821915224194527, -0.021125219762325287, -0.03118082508444786, 0.03557487204670906, -0.03641987964510918, 0.0607561320066452, -0.058136604726314545, 0.04068717360496521, -0.0002414546615909785, 0.029342930763959885, 0.0025257840752601624, -0.05424956604838371, 0.0003871856606565416, -0.024568630382418633, -0.033758100122213364, 0.014840466901659966, -0.01254838053137064, 0.02117803320288658, 0.019963333383202553, -0.003094844752922654, -0.0033721132203936577, -0.033758100122213364, 0.036208625882864, -0.01779799722135067, -0.03661000728607178, 0.0065435366705060005, -0.03656775504350662, -0.0015355393989011645, -0.06138988956809044, -0.037645142525434494, -0.0008219031151384115, 0.05839010700583458, -0.017628995701670647, 0.08606414496898651, -0.06485442817211151, 0.05450306832790375, -0.016541047021746635, 0.001057581277564168, -0.027864165604114532, 0.001518375240266323, 0.011185804381966591, 0.019540827721357346, -0.022561734542250633, 0.02520238794386387, 0.029216179624199867, -0.04677123576402664, 0.01750224456191063, 0.016150230541825294, -0.018928196281194687, -0.04596848040819168, -0.03627200424671173, -0.05826335772871971, -0.020544275641441345, -0.031349826604127884, -0.041257552802562714, -0.06375591456890106, 0.005283945705741644, -0.016350919380784035, 0.025244638323783875, 0.03597624972462654, 0.023258866742253304, -0.05577057972550392, -0.018072625622153282, 0.018917635083198547, 0.01979433186352253, 0.004000588320195675, 0.016160793602466583, 0.02549814060330391, -0.01837894134223461, -0.017829686403274536, -0.060713883489370346, -0.004729408770799637, -0.010578453540802002, -0.01648823358118534, 0.004879925865679979, 0.015125657431781292, -0.031032947823405266, -0.017555058002471924, -0.01870638318359852, -0.0020491464529186487, -0.02858242206275463, -0.005476713180541992, -0.04525022208690643, -0.02750503644347191, 0.04850350692868233, -0.04765849560499191, -0.024948885664343834, -0.022456109523773193, 0.05847460776567459, -0.04347570240497589, 0.007467765361070633, -0.03259621560573578, 0.07812106609344482, -0.008318055421113968, 0.014375711791217327, 0.02659665234386921, -0.008318055421113968, -0.0026829028502106667, -0.006828727200627327, 0.012675131671130657, -0.003321940777823329, 0.03137095272541046, 0.002302648965269327, 0.017248742282390594, 0.015020031481981277, -0.01918170042335987, 0.02799091674387455, -0.021040719002485275, 0.007715986575931311, -0.016731174662709236, -0.03616637736558914, 0.013308888301253319, 0.04820775240659714, -0.020713279023766518, 0.01887538470327854, -0.023047614842653275, -0.028857050463557243, 0.018273314461112022, 0.06912171840667725, -0.003604490775614977, 0.016467109322547913, -0.006691413465887308, 0.0384056493639946, -0.012727945111691952, -0.0024465646129101515, -0.01859019324183464, 0.03434960916638374, -0.02069215290248394, -0.0559818334877491, 0.00850290060043335, -0.027948666363954544, 0.05255954712629318, 0.0007116558263078332, -0.01178787276148796, 0.017037490382790565, -0.006411504466086626, 0.009448254480957985, -0.05640433728694916, 0.0369691364467144, -0.01084780041128397, -0.03988441452383995, -0.029934436082839966, -0.016636110842227936, -0.02748391032218933, 0.03500448912382126, -0.037138137966394424, -0.029216179624199867, -0.007964207790791988, -0.0180092491209507, 0.01075273659080267, 0.05332005396485329, 0.007795206271111965, -0.02357574552297592, 0.03151882812380791, -0.054545316845178604, -0.04837675392627716, -0.016467109322547913, -0.017322679981589317, 0.001486687338910997, -0.000433067005360499, -0.0035252710804343224, 0.016551610082387924, 0.024040499702095985, 0.006226658821105957, 0.02260398492217064, -0.0012219619238749146, -0.0303780660033226, 0.03625087812542915, -0.0031687829177826643, 0.0006288053700700402, 0.028434546664357185, 0.020470337942242622, -0.013741955161094666, 0.06358691304922104, -0.01728042960166931, -0.007937801070511341, 0.03141320124268532, 0.0043782019056379795, -0.05319330468773842, 0.030145689845085144, 0.03339897096157074, 0.010309107601642609, 0.005257538985460997, -0.024251753464341164, 0.035448119044303894, -0.007282919716089964, 0.007113917730748653, -0.03077944554388523, -0.012516693212091923, -0.06189689412713051, 0.00581999821588397, 0.004853519145399332, -0.021716726943850517, 0.01749168150126934, -0.017966998741030693, 0.008539870381355286, 0.02289973758161068, -0.013351138681173325, 0.008397274650633335, 0.020343586802482605, -0.005386930890381336, 0.01055204775184393, 0.03999004140496254, 0.014322899281978607, 0.01064182911068201, -0.013161011971533298, -0.00243600201793015, -0.05420731380581856, -0.04176456108689308, 0.029469681903719902, -0.01789306104183197, -0.006966041401028633, 0.026554401963949203, 0.0036889915354549885, 0.015600974671542645, -0.000125761071103625, -0.05188354104757309, -0.015748851001262665, -0.0001532403694000095, 0.026829028502106667, -0.014217273332178593, 0.02050202526152134, 0.009817945770919323, -0.020766090601682663, -0.009273971430957317, -0.0636291652917862, 0.011830123141407967, -0.04246169328689575, -0.018262753263115883, -0.028413420543074608, -0.006015406455844641, 0.029427431523799896, 0.009611975401639938, 0.01630866900086403, -0.007578672841191292, 0.015865040943026543, -0.0106523921713233, -0.006290034390985966, 0.018917635083198547, -0.00494594220072031, -0.017259305343031883, -0.04436296224594116, 0.024758758023381233, -0.007341013755649328, -0.04436296224594116, 0.02117803320288658, 0.00670197606086731, -0.010071448981761932, 0.042440567165613174, 0.012379379011690617, -0.023955998942255974, 0.019530266523361206, 0.007203700020909309, 0.001538180047646165, 0.012896946631371975, 0.01589672826230526, 0.008972937241196632, -0.030525943264365196, -0.06472767144441605, 0.014301774092018604, -0.05796760320663452, -0.023174365982413292, 0.014417963102459908, 0.016329795122146606, -0.0015012109652161598, 0.007647329475730658, 0.015294658951461315, 0.018357817083597183, 0.0025561517104506493, 0.02640652470290661, -0.017977561801671982, 0.03481436148285866, 0.013678579591214657, 0.010953426361083984, -0.03481436148285866, 0.0017005802365019917, 0.010087292641401291, -0.034645359963178635, 0.019435202702879906, -0.020470337942242622, 0.020861154422163963, -0.011523807421326637, 0.042144812643527985, 0.0245052557438612, 0.017966998741030693, 0.01049395278096199, 0.019910519942641258, -0.015009468421339989, 0.022033603861927986, 0.020639339461922646, -0.02949080802500248, -0.005841123405843973, -0.010789706371724606, -0.026723403483629227, 0.023955998942255974, -0.013963770121335983, -0.01463977713137865, 0.009955259971320629, 0.0009724202682264149, 0.002516541862860322, 0.00879337266087532, 0.0038210242055356503, 0.029469681903719902, 0.03099069744348526, 0.006738945376127958, 0.021949103102087975, 0.018241627141833305, 0.023617995902895927, -0.006305878050625324, 0.009965822100639343, -0.05948862060904503, 0.021273097023367882, -0.009495786391198635, 0.028054291382431984, -0.03635650500655174, -0.008988780900835991, 0.02258286066353321, -0.040053416043519974, 0.009870759211480618, -0.021758977323770523, 0.036631129682064056, 0.009268689900636673, -0.016118543222546577, -0.025434764102101326, -0.0329553447663784, -0.03346234932541847, 0.024336254224181175, 0.07440302520990372, -0.034138355404138565, 0.019910519942641258, -0.009284534491598606, 0.029934436082839966, -0.0367790088057518, 0.051334284245967865, 0.019910519942641258, -0.03616637736558914, 0.0172909926623106, 0.0031846268102526665, -0.01938238926231861, 0.03789864480495453, -0.019150011241436005, 0.006363972555845976, 0.006612193770706654, -0.041637808084487915, 0.037729643285274506, -0.07191024720668793, 0.015505911782383919, 0.020766090601682663, 0.05969987064599991, 0.000951295078266412, -0.0008311453857459128, 0.06269965320825577, -0.04516572132706642, -0.017322679981589317, -0.015273533761501312, -0.011861811392009258, -0.008127928711473942, -0.02108296938240528, -0.04867250844836235, 0.06422066688537598, -0.02978656068444252, 0.0033589100930839777, 0.04660223424434662, -0.03411722928285599, 0.016530483961105347, -0.015368597581982613, -0.04702473804354668, 0.03830002248287201, 0.020913967862725258, 0.01979433186352253, 0.0051387096755206585, 0.028941551223397255, 0.0067231012508273125, -0.028159918263554573, 0.015843914821743965, -0.037645142525434494, -0.021822351962327957, -0.01579110138118267, -0.03187795728445053, -0.023047614842653275, -0.027864165604114532, 0.012896946631371975, 0.017343806102871895, -0.03278634324669838, -0.03196245804429054, 0.023322243243455887, 0.10883713513612747, -0.01601291634142399, 0.033736977726221085, 0.011132990941405296, 0.022371608763933182, -0.01388983242213726, 0.018653569743037224, 0.03437073156237602, -0.005241695325821638, -0.002923202235251665, -0.015336909331381321, -0.03965203836560249, -0.03800427168607712, -0.02780078910291195, 0.0015078125288709998, -0.039250656962394714, -0.064389668405056, -0.05006677284836769, 0.01060486026108265, -0.02057596482336521, -0.091514453291893, -0.06819221377372742, 0.008006458170711994, -0.010731611400842667, -0.05446081608533859, 0.01840006746351719, 0.05505232512950897, -0.0077582369558513165, 0.018653569743037224, -0.01830500364303589, -0.0035252710804343224, -0.0011500042164698243, 0.027737414464354515, 0.0026287694927304983, 0.014386274851858616, -0.028223294764757156, -0.0015553443226963282, 0.0404125452041626, -0.05086952820420265, -0.009152501821517944, 0.044743217527866364, -0.0404125452041626, -0.043729204684495926, 0.020713279023766518, -0.002657816745340824, -0.0035173490177839994, -0.05365805700421333, -0.010837238281965256, -0.022540610283613205, -0.006015406455844641, -0.06029137969017029, 0.02028021030128002, -0.01463977713137865, -0.01988939382135868, -0.012062500230967999, 0.010953426361083984, 0.016815675422549248, -0.02549814060330391, 0.036208625882864, 0.02708253264427185, -0.02587839402258396, 0.00399794802069664, -0.044447463005781174, -0.002573315752670169, 0.01640373282134533, -0.007504734210669994, 0.0012272432213649154, 0.01559041254222393, 0.015389722771942616, 0.03597624972462654, 0.004489109385758638, -0.00016817655705381185, 0.02938518114387989, -0.03739164024591446, 0.01058901660144329, -0.02568826824426651, -0.005888654850423336, -0.019635891541838646, 0.010963989421725273, -0.007884988561272621, -0.003604490775614977, -0.02570939250290394, -0.06709370017051697, -0.016741737723350525, 0.01434402447193861, 0.007124480325728655, 0.04436296224594116, 0.008011739701032639, 0.0654459297657013, -0.0021191237028688192, 0.007636766880750656, 0.02718815766274929, -0.05319330468773842, -0.006506567820906639, -0.003145017195492983, 0.015431973151862621, -0.02260398492217064, -0.019223950803279877, 0.016456546261906624, -0.012220939621329308, 0.01979433186352253, 0.04588397964835167, -0.0347721129655838, -0.014544714242219925, -0.011259742081165314, 0.015305222012102604, -0.011872373521327972, 0.011006239801645279, -0.010657673701643944, 0.012664569541811943, -0.014407400041818619, 0.01889650896191597, 0.01149212010204792, -0.05606633424758911, 0.02287861332297325, 0.041827935725450516, -0.03768739104270935, 0.005856967065483332, 0.03756064176559448, -0.003049953607842326, 0.016921300441026688, 0.010330232791602612, -0.015949541702866554, 0.030842822045087814, 0.0224983599036932, 0.056615591049194336, -0.0026908249128609896, -0.03278634324669838, -0.037349388003349304, -0.0, 0.025350263342261314, -0.019752081483602524, 0.009928853251039982, -0.0034354887902736664, 0.009073281660676003, -0.013868707232177258, -0.0036678663454949856, 0.02968093380331993, 0.014238398522138596, -0.03468761220574379, -0.004388764500617981, -0.035152364522218704, 0.012611756101250648, -0.0599956251680851, 0.041025176644325256, -0.07013572752475739, 0.05036252364516258, -0.006696694530546665, -0.008909561671316624, 0.028434546664357185, 0.01154493261128664, 0.02849792130291462, -0.007980051450431347, -0.02587839402258396, 0.025117887184023857, -0.008207147940993309, -0.0008621730376034975, 0.025223512202501297, -0.023364493623375893, 0.03770851716399193, -0.0029179209377616644, -0.015949541702866554, 0.036441005766391754, -0.0010536203626543283, -0.0192028246819973, -0.009691194631159306, -0.013509578071534634, 0.010187637060880661, 0.0004769678635057062, 0.01908663660287857, 0.006665006745606661, -0.005730215925723314, -0.012907509692013264, 0.020554838702082634, 0.0025429483503103256, -0.01711142808198929, -0.04829225316643715, -0.018653569743037224, 0.02818104438483715, -0.01607629284262657, -0.006004843860864639, 0.004990833345800638, 0.03166670352220535, 0.008439525030553341, 0.012844134122133255, -0.005666840355843306, 0.006041812710464001, 0.022519484162330627, -0.019213387742638588, 0.016530483961105347, -0.01841062866151333, -0.005191522650420666, 0.003324581542983651, -0.008925405330955982, 0.01900213584303856, -0.008323336951434612, 0.013879269361495972, -0.0011064334539696574, -0.053911563009023666, 0.017259305343031883, -0.012622319161891937, -0.0025878394953906536, 0.008714153431355953, 0.031328700482845306, -0.0012734546326100826, 0.021251970902085304, -0.011777309700846672, -0.010794986970722675, -0.042841944843530655, 0.0010945504764094949, 0.03272296488285065, -0.012970885261893272, 0.017628995701670647, -0.0234067440032959, 0.015389722771942616, -0.003010343760251999, -0.0367790088057518, -0.011164679192006588, -0.02167447656393051, -0.026131896302103996, -0.01849512942135334, -0.0087405601516366, -0.0035279118455946445, 0.009411285631358624, -0.027631787583231926, -0.05179904028773308, 0.0029205617029219866, -0.03770851716399193, -0.011185804381966591, -0.029828811064362526, -0.029934436082839966, 0.00752057833597064, -0.006665006745606661, -0.03246946260333061, 0.006105188746005297, -0.0037497265730053186, 0.009759851731359959, -0.008476494811475277, -0.0468134880065918, 0.029617559164762497, 0.009273971430957317, 0.002807013690471649, 0.002598402090370655, 0.004964426625519991, 0.028645798563957214, 0.03637762740254402, -0.02467425726354122, -0.029131678864359856, 0.007774081081151962, 0.0008476494695059955, -0.010974551551043987, -0.011735059320926666, 0.03508898988366127, -0.03766626864671707, -0.01610798016190529, -0.03331447020173073, -0.0019818097352981567, 0.047616247087717056, 0.04486996680498123, -0.023343367502093315, -0.024463005363941193, 0.0005921663250774145, 0.06819221377372742, -0.004795425105839968, -0.01610798016190529, 0.015664350241422653, 0.0034618955105543137, 0.007383264601230621, -0.029364055022597313, 0.015125657431781292, -0.00874584075063467, 0.0050278021954, -0.005656277760863304, -0.0031793455127626657, -0.008893718011677265, 0.010710486210882664, 0.036736756563186646, 0.027737414464354515, 0.026744527742266655, -0.015727726742625237, 0.025836143642663956, -0.06561493128538132, 0.001546101993881166, 0.025962894782423973, -0.013055386021733284, 0.003284971695393324, 0.002730434760451317, 0.053827062249183655, 0.003321940777823329, 0.007341013755649328, 0.010921739041805267, -0.005492557305842638, -0.018104312941432, -0.009015187621116638, -0.024146126583218575, -0.014322899281978607, -0.001202157000079751, -0.0050436463207006454, -0.030441442504525185, -0.024272877722978592, 0.028371170163154602, -0.04056042060256004, 0.03208920732140541, 0.00804342795163393, -0.022730736061930656, -0.022920863702893257, -0.016551610082387924, 0.01578054018318653, -0.007494171615689993, 0.00684985239058733, -0.008117365650832653, -0.018357817083597183, -0.017048053443431854, -0.04250394180417061, -0.002536346670240164, -0.010525641031563282, -0.0050436463207006454, -0.0013889832189306617, 0.033335596323013306, 0.11399168521165848, -0.006659725680947304, -0.03310322016477585, 0.0007453241851180792, -0.04550372436642647, -0.028138792142271996, -0.02978656068444252, 0.01880144514143467, -0.004613219760358334, 0.014840466901659966, -0.019868269562721252, -0.00094007229199633, -0.007383264601230621, 0.008508182130753994, 0.008180741220712662, 0.04106742888689041, 0.027019156143069267, -0.028138792142271996, -0.012273753061890602, -0.014977781102061272, 0.03787751868367195, 0.005904498975723982, 0.03629312664270401, 0.009421847760677338, -0.02349124476313591, -0.05306655168533325, 0.013150449842214584, 0.0413631796836853, 0.019614767283201218, -0.009469379670917988, 0.050742778927087784, 0.018262753263115883, -0.0010529601713642478, -0.05370030924677849, -0.034729860723018646, -0.031434327363967896, -0.04381370544433594, -0.018431754782795906, 0.017164241522550583, -0.027061406522989273, -0.005434462800621986, -0.012041375041007996, -0.020533714443445206, 0.023153241723775864, -0.005450306925922632, -0.0647699236869812, 0.014280648902058601, 0.0069079468958079815, -0.02917392924427986, -0.015115095302462578, 0.021949103102087975, 0.06341791152954102, -0.011745622381567955, -0.047616247087717056, -0.026575526222586632, 0.017428306862711906, 0.016118543222546577, 0.017375493422150612, -0.03777189180254936, 0.032237086445093155, 0.013234950602054596, 0.01379476860165596, 0.011587182991206646, -0.0005650996463373303, 0.034941114485263824, 0.005735497456043959, 0.03118082508444786, 0.02167447656393051, -0.040032293647527695, 0.0044494993053376675, -0.007710705511271954, -0.03946191072463989, -0.004850878845900297, 0.06198139488697052, -0.020565401762723923, 0.0030869226902723312, -0.03280746564269066, -0.005587620660662651, -0.05150328576564789, 0.029216179624199867, -0.009802102111279964, -0.036652255803346634, 0.025139011442661285, -0.005677402950823307, 0.033821478486061096, 0.023660246282815933, -0.017227616161108017, 0.023216616362333298, -0.01280188374221325, -0.006020687520503998, 0.02630089968442917, 0.02129422128200531, -0.011914623901247978, 0.007789924740791321, 0.002976015442982316, 0.02287861332297325, 0.009485223330557346, 0.011967437341809273, 0.000571371172554791, 0.01185124833136797, 0.028519047424197197, -0.009717601351439953, 0.01178787276148796, 0.04748949408531189, -0.007045261096209288, -0.013520141132175922, 0.01224206481128931, 0.015410847961902618, 0.0009090446401387453, -0.02507563680410385, 0.029554182663559914, 0.0010655033402144909, -0.012411066330969334, 0.0234067440032959, 0.004280497785657644, -0.0075522661209106445, 0.027167033404111862, -0.017164241522550583, 0.012263190001249313, 0.018653569743037224, -0.003802539547905326, -0.0071825748309493065, 0.00037464257911778986, -0.0407928004860878, -0.01759730838239193, -0.0013493733713403344, 0.010562609881162643, -0.005257538985460997, -0.03718038648366928, 0.007832175120711327, 0.006559380795806646, -0.051334284245967865, 0.03521574288606644, -0.011650558561086655, -6.556245352840051e-05, 0.0018418551189824939, -0.003343065967783332, 0.023258866742253304, 0.013351138681173325, 0.0037259606178849936, 0.03705363720655441, -0.019646454602479935, 0.018759194761514664, -0.01900213584303856, 0.008761685341596603, -0.004858800675719976, -0.01249556802213192, -0.0066333189606666565, 0.02680790424346924, -0.02839229628443718, -0.010710486210882664, -0.0018827852327376604, 0.06367141008377075, -0.005682684015482664, 0.031751204282045364, 0.008344462141394615, 0.018579630181193352, -0.003900243667885661, -0.005046287085860968, -0.013456765562295914, 0.020523151382803917, -0.0007136363419704139, 0.006496005225926638, 0.023955998942255974, -0.016530483961105347, -0.011386493220925331, -0.009258127771317959, 0.03937740996479988, -0.01678398810327053, 0.025455890223383904, -0.025857269763946533, -0.00250994018279016, 0.021864602342247963, -0.03145545348525047, 0.010911175981163979, 0.01818881370127201, 0.04727824404835701, 0.022223731502890587, 0.01549534872174263, -0.017618432641029358, 0.007298763375729322, -0.00035153687349520624, 0.012706819921731949, -0.020058397203683853, 0.036736756563186646, 0.006078782025724649, 0.023343367502093315, 0.004019073210656643, -0.028730299323797226, -0.009717601351439953, 0.0038527119904756546, -0.002315852325409651, 0.012812445871531963, -0.019973894581198692, 0.018727507442235947, 0.02169560082256794, -0.01364689227193594, -0.027843039482831955, 0.0018405347364023328, 0.016646673902869225, 0.02370249666273594, 0.03206808492541313, 0.01034607645124197, -0.01768180914223194, -0.010837238281965256, 0.01300257258117199, 0.010599578730762005, 0.018727507442235947, -0.0032717683352530003, 0.013520141132175922, -0.01288638450205326, -0.05746059864759445, -0.04457421600818634, -0.00500139594078064, -0.006258346606045961, 0.006353409960865974, 0.0032453618478029966, -0.036039624363183975, -0.0468134880065918, 0.04626423120498657, -0.0111541161313653, 0.023322243243455887, 0.0017956437077373266, 0.0163826085627079, 0.07102298736572266, 0.0393562838435173, 0.011713934130966663, 0.022118104621767998, -0.0010192918125540018, 0.02970205992460251, -0.008972937241196632, 0.03479323908686638, -0.0029047178104519844, 0.03629312664270401, 0.0363987535238266, -0.01199912466108799, 0.0007743713213130832, 0.004409889690577984, 0.012136438861489296, 0.007488890551030636, -0.013562391512095928, 0.04791199788451195, 0.019635891541838646, 0.0435602031648159, -0.027821915224194527, 0.046433232724666595, -0.0010371162788942456, 0.012284315191209316, -0.05116528272628784, 0.01661498472094536, 0.035743873566389084, 0.02279411256313324, 0.030716069042682648, 0.012220939621329308, 0.014386274851858616, -0.011323117651045322, 0.026533275842666626, 0.01888594590127468, 0.024146126583218575, -0.01254838053137064, -0.017829686403274536, -0.0022749220952391624, 0.002841342007741332, 0.015072844922542572, 0.03568049520254135, 0.011882936581969261, 0.009986947290599346, -0.002841342007741332, 0.03306096792221069, 0.010013354010879993, -0.007076948881149292, -0.010097854770720005, -0.030124563723802567, -0.0029786559753119946, -0.011027364991605282, 0.006918509490787983, -0.028645798563957214, 0.006575224921107292, -0.01424896065145731, -0.005582339596003294, -0.019614767283201218, 0.015020031481981277, 0.012157564051449299, -0.042947571724653244, 0.04427846148610115, -0.025033386424183846, 0.03206808492541313, -0.012421629391610622, -0.0020319821778684855, -0.005856967065483332, -0.007055823691189289, 0.03500448912382126, 0.00994469691067934, -0.013530703261494637, -0.03080057166516781, 0.019139450043439865, 0.005709090735763311, -0.01979433186352253, 0.013995458371937275, -0.002495416672900319, -0.0024082751478999853, -0.001746791647747159, -0.019245075061917305, 0.013678579591214657, 0.058516860008239746, -0.001878824201412499, 0.009284534491598606, -0.002620847662910819, -0.031159698963165283, 0.008751122280955315, 0.05344680696725845, -0.013044822961091995, -0.008281086571514606, -0.010921739041805267, -0.012379379011690617, -0.02558264136314392, 0.012062500230967999, 0.019319012761116028, -0.008138490840792656, -0.03287084400653839, 0.0005185581394471228, -0.017628995701670647, -0.011513245292007923, 0.009765133261680603, -0.03048369288444519, 0.011048490181565285, 0.03960978612303734, -0.002123084617778659, -0.005946749355643988, 0.006062938366085291, 0.025033386424183846, -0.003158220322802663, 0.009485223330557346, -0.014692590571939945, 0.010013354010879993, 0.008883154951035976, -0.006062938366085291, 0.017713496461510658, -0.04110967740416527, 0.013741955161094666, 0.01898100972175598, 0.04837675392627716, 0.008233554661273956, 0.010087292641401291, -0.012051938101649284, 0.02370249666273594, -0.04799649864435196, -0.00025482295313850045, -0.035448119044303894, 0.010076729580760002, 0.010736892931163311, 0.005915061570703983, 0.014713715761899948, -0.00012204765516798943, -0.01841062866151333, -0.028561297804117203, 0.015336909331381321, 0.013974333181977272, 0.0001863310462795198, 0.024167250841856003, 0.004016432445496321, -0.0027938103303313255, -0.01989995688199997, -0.004441577475517988, 0.0003980783512815833, -0.014027145691215992, -0.03551149368286133, -0.02579389326274395, -0.00444421824067831, 0.009511630050837994, 0.0072723571211099625, -0.030040062963962555, 0.01841062866151333, 0.008138490840792656, -0.015505911782383919, 0.00850290060043335, 0.026153022423386574, -0.03077944554388523, -0.059530869126319885, 0.003094844752922654, -0.04028579592704773, -0.019076073542237282, 0.014386274851858616, -0.00574606005102396, 0.03570162132382393, -0.028962677344679832, 0.012453317642211914, -0.03747614100575447, -0.018125439062714577, 0.026512151584029198, 0.006437910720705986, -0.052221544086933136, 0.01837894134223461, -0.027145907282829285, 0.04457421600818634, 0.028371170163154602, -0.006918509490787983, -0.006744226440787315, 0.018146563321352005, 0.008180741220712662, 0.04960201680660248, -0.0039636194705963135, 0.010583735071122646, 0.004713564645498991, 0.010515077970921993, -0.0004594735219143331, 0.028624672442674637, -0.023237742483615875, 0.025751642882823944, -0.028223294764757156, 0.0048825666308403015, 0.022625111043453217, -0.019139450043439865, 0.02959643304347992, 0.02019570954144001, -0.003982103895395994, -0.002325094537809491, 0.04829225316643715, 0.01069992408156395, 0.027040282264351845, -0.018431754782795906, 0.001753393211401999, 0.004874644335359335, -0.0029126396402716637, -0.0034671768080443144, 0.024019375443458557, 0.030166814103722572, -0.0009037633426487446, 0.03358909860253334, 0.010398889891803265, 0.015600974671542645, 0.01837894134223461, 0.029026051983237267, -0.0028545453678816557, -0.0003677108616102487, 0.032828591763973236, 0.03979991376399994, 0.0050225211307406425, 0.02327999286353588, -0.04206031188368797, 0.004866722505539656, 0.016625547781586647, -0.001745471265166998, 0.021568849682807922, -0.01019820012152195, -0.03365247696638107, 0.005041005555540323, 0.0036652255803346634, 0.0202062726020813, 0.0033113781828433275, -0.004877285100519657, -0.008180741220712662, -0.017755746841430664, 0.03118082508444786, 0.0035173490177839994, 0.020311899483203888, -0.034539733082056046, -0.0034434108529239893, -0.028054291382431984, -0.002367344917729497, -0.002552190562710166, 0.007488890551030636, -0.011777309700846672, -0.011956874281167984, -0.0022775628603994846, 0.005677402950823307, 0.022941989824175835, 0.007488890551030636, -0.006892103236168623, -0.0071878558956086636, -0.008038146421313286, 0.012316003441810608, 0.0174811203032732, 0.012770195491611958, 0.012749070301651955, -0.02638540044426918, -0.0025284248404204845, 0.033441223204135895, 0.006390379276126623, 0.00735157635062933, -0.0064484733156859875, 0.03635650500655174, -0.038342274725437164, -0.030758319422602654, 0.00447062449529767, 0.02357574552297592, 0.014333461411297321, 0.01780856028199196, 0.03120194934308529, -0.03029356524348259, 0.01000279188156128, 0.0014616011176258326, -0.005080615635961294, 0.011312555521726608, -0.013425077311694622, -0.013837018981575966, 0.016129106283187866, 0.024251753464341164, -0.0031054073479026556, -0.007076948881149292, -0.015717163681983948, -0.015938978642225266, -0.011428743600845337, -0.009268689900636673, 0.02587839402258396, -0.02180122770369053, 0.014565839432179928, 0.013530703261494637, -0.0256037674844265, -0.00634812843054533, 0.030927322804927826, -0.015822790563106537, 0.01988939382135868, -0.03128645196557045, -0.001643806230276823, 0.008608527481555939, -0.011956874281167984, -0.0029839372728019953, -0.018674694001674652, -0.006099907215684652, 0.001121617155149579, 0.0012490286026149988, 0.02868804894387722, -0.006163282785564661, 0.03606075048446655, 0.008587402291595936, 0.009157782420516014, -0.007230106741189957, 0.00207687309011817, 0.005798873025923967, 0.022709611803293228, -0.02788528986275196, 0.011122427880764008, -0.009120813570916653, 0.025329139083623886, -0.0007598477532155812, 0.006295315455645323, 0.009949978440999985, 0.017766309902071953, 0.024547506123781204, -0.0025878394953906536, 0.008603245951235294, -0.007161449640989304, 0.007346295285969973, 0.017217054963111877, -0.003580724820494652, 0.03386372700333595, -0.01169280894100666, -0.017227616161108017, -0.041532181203365326, 0.019963333383202553, -0.013414514251053333, 0.021864602342247963, -0.006020687520503998, 0.029152803122997284, -0.019910519942641258, 0.04389820620417595, -0.0021574131678789854, -0.014270085841417313, -0.016847362741827965, 0.033251095563173294, 0.021262533962726593, 0.009083844721317291, 0.03587062284350395, -0.005888654850423336, -0.007356857880949974, -0.004161668475717306, -0.031159698963165283, 0.05695359408855438, -0.0020966781303286552, -0.01860075630247593, 0.03217371180653572, 0.033039845526218414, 2.7706220862455666e-05, 0.01463977713137865, -0.0026023630052804947, -0.014882717281579971, -0.0038579932879656553, -0.005735497456043959, -0.018452879041433334, -0.01880144514143467, 0.07452977448701859, 0.007911395281553268, 0.016836799681186676, -0.004272575955837965, 0.04736274480819702, -0.0035252710804343224, 0.03297646716237068, 0.037539515644311905, 0.029364055022597313, 0.005666840355843306, -9.077243157662451e-05, 0.014153897762298584, -0.0180092491209507, -0.015020031481981277, 0.03096957318484783, -0.0048640817403793335, -0.03610300272703171, 0.03430735692381859, -0.028054291382431984, 0.012316003441810608, -0.0010054284939542413, -0.021737851202487946, 0.015262971632182598, -0.00212440500035882, -0.0069977291859686375, -0.020248522982001305, -0.013108199462294579, -0.015400285832583904, -0.024167250841856003, 0.0235968716442585, -0.0031027665827423334, 0.027674037963151932, 0.005210007540881634, 0.027652913704514503, -0.02638540044426918, 0.001420671003870666, -0.020174585282802582, -0.024040499702095985, -0.01898100972175598, -0.015653787180781364, -0.0038896810729056597, 0.0016081574140116572, 0.009363753721117973, 0.0023567823227494955, 0.0015421410789713264, -0.015220721252262592, 0.000835766491945833, 0.02069215290248394, -0.03641987964510918, -0.009163063950836658, -0.01950914040207863, -0.007689579855650663, 0.02389262430369854, 0.01000279188156128, -0.02209698036313057, 0.007451921235769987, -0.029828811064362526, -0.011080177500844002, -0.020343586802482605, 0.011935749091207981, -0.016879050061106682, 0.004063964355736971, -0.043940458446741104, -0.013287763111293316, -0.025730518624186516, -0.007335732690989971, 0.007779362145811319, 0.009036312811076641, 0.005125506315380335, 0.009664787910878658, -0.004776940215379, -0.02570939250290394, 0.006121032405644655, 0.02729378454387188, -0.005080615635961294, 0.018167689442634583, -0.011925186961889267, 0.019044386222958565, -0.0027568412479013205, 0.02758953720331192, 0.05048927664756775, 0.010208762250840664, 0.03489886224269867, -0.02007952146232128, 0.01519959606230259, 0.0101506682112813, 0.039440784603357315, -0.010092574171721935, -0.00670197606086731, -0.006411504466086626, -0.0032717683352530003, 0.024357378482818604, 0.007293482311069965, -0.02530801296234131, 0.025667142122983932, 0.015463661402463913, 0.0404125452041626, 0.022456109523773193, 0.016974113881587982, 0.03141320124268532, -0.023343367502093315, -0.01601291634142399, -0.02530801296234131, -0.009839070960879326, -0.027843039482831955, -0.009902446530759335, 0.02687128074467182, -0.011745622381567955, -0.046644486486911774, -0.02790641598403454, 0.002738356590270996, 0.0068181646056473255, -0.00879337266087532, 0.015326347202062607, -0.008275805041193962, -0.028772549703717232, -0.009643662720918655, 0.014967218041419983, 0.03217371180653572, 0.008460650220513344, 0.011661121621727943, 0.01123861689120531, 3.158468098263256e-05, 0.001554023940116167, -0.0038447899278253317, 0.015759414061903954, -0.016636110842227936, -0.005445025395601988, -0.014565839432179928, 0.01588616520166397, -0.015484786592423916, -0.02788528986275196, -0.0068181646056473255, 0.044531963765621185, -0.01678398810327053, 0.029131678864359856, -0.005423900205641985, -0.023470118641853333, 0.002605003770440817, 0.029469681903719902, 0.029659809544682503, -0.023153241723775864, -0.008201866410672665, 0.032342713326215744, -0.000866134010720998, -0.002952249487861991, 0.012706819921731949, -0.02068158984184265, 0.007488890551030636, -0.007536422461271286, 0.028561297804117203]\n"
     ]
    }
   ],
   "source": [
    "query = \"AWSのS3からデータを読み込むためのDocument loaderはありますか？\"\n",
    "\n",
    "# クエリを埋め込みベクトル化\n",
    "vector = embeddings.embed_query(query)\n",
    "print(len(vector))\n",
    "print(vector)\n"
   ]
  },
  {
   "cell_type": "code",
   "execution_count": null,
   "id": "6beee6d9",
   "metadata": {},
   "outputs": [],
   "source": [
    "from langchain_chroma import Chroma\n",
    "\n",
    "# ドキュメントを埋め込みベクトル化してChromaに格納\n",
    "db = Chroma.from_documents(docs, embeddings)"
   ]
  },
  {
   "cell_type": "code",
   "execution_count": 53,
   "id": "55b061fe",
   "metadata": {},
   "outputs": [],
   "source": [
    "# 検索用のリトリーバーを作成\n",
    "retriever = db.as_retriever()"
   ]
  },
  {
   "cell_type": "code",
   "execution_count": 55,
   "id": "0ea15777",
   "metadata": {},
   "outputs": [
    {
     "name": "stdout",
     "output_type": "stream",
     "text": [
      "len = 4\n",
      "metadata = {'file_path': 'libs/README.md', 'file_name': 'README.md', 'source': 'libs/README.md', 'file_type': '.md'}\n"
     ]
    }
   ],
   "source": [
    "query = \"AWSのS3からデータを読み込むためのDocument loaderはありますか？\"\n",
    "\n",
    "context_docs = retriever.invoke(query)\n",
    "print(f\"len = {len(context_docs)}\")\n",
    "\n",
    "first_doc = context_docs[0]\n",
    "print(f\"metadata = {first_doc.metadata}\")"
   ]
  },
  {
   "cell_type": "code",
   "execution_count": 56,
   "id": "6733b124",
   "metadata": {},
   "outputs": [
    {
     "name": "stdout",
     "output_type": "stream",
     "text": [
      "* [OpenAI](https://pypi.org/project/langchain-openai/)\n",
      "* [Anthropic](https://pypi.org/project/langchain-anthropic/)\n",
      "* [Ollama](https://pypi.org/project/langchain-ollama/)\n",
      "* [DeepSeek](https://pypi.org/project/langchain-deepseek/)\n",
      "* [xAI](https://pypi.org/project/langchain-xai/)\n",
      "* and more\n",
      "\n",
      "Most integrations have been moved to their own repositories for improved versioning, dependency management, collaboration, and testing. This includes packages from popular providers such as [Google](https://github.com/langchain-ai/langchain-google) and [AWS](https://github.com/langchain-ai/langchain-aws). Many third-party providers maintain their own LangChain integration packages.\n",
      "\n",
      "For a full list of all LangChain integrations, please refer to the [LangChain Integrations documentation](https://docs.langchain.com/oss/python/integrations/providers).\n"
     ]
    }
   ],
   "source": [
    "print(first_doc.page_content)"
   ]
  },
  {
   "cell_type": "code",
   "execution_count": 57,
   "id": "5723c3f9",
   "metadata": {},
   "outputs": [],
   "source": [
    "from langchain_core.prompts import ChatPromptTemplate\n",
    "from langchain_openai import ChatOpenAI\n",
    "\n",
    "prompt = ChatPromptTemplate.from_template('''\\\n",
    "以下の文脈だけを踏まえて質問に回答してください。\n",
    "\n",
    "文脈: \"\"\"\n",
    "{context}\n",
    "\"\"\"\n",
    "\n",
    "質問: {question}\n",
    "''')\n",
    "\n",
    "model = ChatOpenAI(model_name=\"gpt-4o-mini\", temperature=0)\n"
   ]
  },
  {
   "cell_type": "code",
   "execution_count": 58,
   "id": "a67f2ae6",
   "metadata": {},
   "outputs": [
    {
     "name": "stdout",
     "output_type": "stream",
     "text": [
      "文脈にはAWSのS3からデータを読み込むためのDocument loaderに関する具体的な情報は含まれていません。ただし、AWSに関連するLangChainの統合があることが示されています。詳細な情報や具体的なDocument loaderについては、LangChainの統合ドキュメントを参照することをお勧めします。\n"
     ]
    }
   ],
   "source": [
    "from langchain_core.output_parsers import StrOutputParser\n",
    "from langchain_core.runnables import RunnablePassthrough\n",
    "\n",
    "chain = (\n",
    "    {\"context\": retriever, \"question\": RunnablePassthrough()}\n",
    "    | prompt\n",
    "    | model\n",
    "    | StrOutputParser()\n",
    ")\n",
    "\n",
    "output = chain.invoke(query)\n",
    "print(output)\n"
   ]
  },
  {
   "cell_type": "code",
   "execution_count": null,
   "id": "abf80f6b",
   "metadata": {},
   "outputs": [],
   "source": []
  }
 ],
 "metadata": {
  "kernelspec": {
   "display_name": "tutorial-langchain",
   "language": "python",
   "name": "python3"
  },
  "language_info": {
   "codemirror_mode": {
    "name": "ipython",
    "version": 3
   },
   "file_extension": ".py",
   "mimetype": "text/x-python",
   "name": "python",
   "nbconvert_exporter": "python",
   "pygments_lexer": "ipython3",
   "version": "3.10.18"
  }
 },
 "nbformat": 4,
 "nbformat_minor": 5
}
